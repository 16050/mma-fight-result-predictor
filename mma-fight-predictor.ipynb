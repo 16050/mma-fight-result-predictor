{
 "cells": [
  {
   "cell_type": "code",
   "execution_count": 1,
   "id": "53d1b1a1",
   "metadata": {
    "execution": {
     "iopub.execute_input": "2023-12-01T20:56:37.219441Z",
     "iopub.status.busy": "2023-12-01T20:56:37.217914Z",
     "iopub.status.idle": "2023-12-01T20:56:38.678196Z",
     "shell.execute_reply": "2023-12-01T20:56:38.676786Z"
    },
    "papermill": {
     "duration": 1.484737,
     "end_time": "2023-12-01T20:56:38.681571",
     "exception": false,
     "start_time": "2023-12-01T20:56:37.196834",
     "status": "completed"
    },
    "tags": []
   },
   "outputs": [
    {
     "name": "stderr",
     "output_type": "stream",
     "text": [
      "/opt/conda/lib/python3.10/site-packages/scipy/__init__.py:146: UserWarning: A NumPy version >=1.16.5 and <1.23.0 is required for this version of SciPy (detected version 1.23.5\n",
      "  warnings.warn(f\"A NumPy version >={np_minversion} and <{np_maxversion}\"\n"
     ]
    }
   ],
   "source": [
    "#Import libraries for loading dataset from csv file\n",
    "import pandas as pd\n",
    "import sqlite3\n",
    "\n",
    "#Import libraries for data analysis and visualisation.\n",
    "import numpy as np\n",
    "import matplotlib.pyplot as plt\n",
    "import scipy.stats as stats\n",
    "import datetime\n",
    "\n",
    "#Changes pyplot style to Seaborn for better visualisations\n",
    "plt.style.use('seaborn-v0_8')\n",
    "\n",
    "#Loads data from csv file to Pandas dataframe\n",
    "ufc_events = pd.read_csv('/kaggle/input/mma-dataset-2023-ufc/ufc_event_data.csv', parse_dates = ['event_date'])\n",
    "ufc_fights = pd.read_csv('/kaggle/input/mma-dataset-2023-ufc/ufc_fight_data.csv')\n",
    "ufc_fighters = pd.read_csv('/kaggle/input/mma-dataset-2023-ufc/ufc_fighter_data.csv', parse_dates = ['fighter_dob'])\n",
    "ufc_fight_stats = pd.read_csv('/kaggle/input/mma-dataset-2023-ufc/ufc_fight_stat_data.csv')\n",
    "pd.options.display.max_columns = None"
   ]
  },
  {
   "cell_type": "code",
   "execution_count": 2,
   "id": "0ac38b9c",
   "metadata": {
    "execution": {
     "iopub.execute_input": "2023-12-01T20:56:38.711770Z",
     "iopub.status.busy": "2023-12-01T20:56:38.710262Z",
     "iopub.status.idle": "2023-12-01T20:56:38.733839Z",
     "shell.execute_reply": "2023-12-01T20:56:38.732590Z"
    },
    "papermill": {
     "duration": 0.041113,
     "end_time": "2023-12-01T20:56:38.736423",
     "exception": false,
     "start_time": "2023-12-01T20:56:38.695310",
     "status": "completed"
    },
    "tags": []
   },
   "outputs": [],
   "source": [
    "events_date = ufc_events[['event_id','event_date']]\n",
    "fighters_data = ufc_fighters[['fighter_id','fighter_height_cm','fighter_weight_lbs','fighter_reach_cm','fighter_stance']]\n",
    "fighters_data = fighters_data.rename(columns = {'fighter_id':'f_1'})\n",
    "\n",
    "fights_data = ufc_fights.copy()"
   ]
  },
  {
   "cell_type": "code",
   "execution_count": 3,
   "id": "06c93fe5",
   "metadata": {
    "execution": {
     "iopub.execute_input": "2023-12-01T20:56:38.767561Z",
     "iopub.status.busy": "2023-12-01T20:56:38.766440Z",
     "iopub.status.idle": "2023-12-01T20:56:38.820862Z",
     "shell.execute_reply": "2023-12-01T20:56:38.819273Z"
    },
    "papermill": {
     "duration": 0.074156,
     "end_time": "2023-12-01T20:56:38.823932",
     "exception": false,
     "start_time": "2023-12-01T20:56:38.749776",
     "status": "completed"
    },
    "tags": []
   },
   "outputs": [],
   "source": [
    "#join to event_date\n",
    "fights_data = pd.merge(fights_data, events_date, how='left', on='event_id')\n",
    "\n",
    "#join to fighters_data\n",
    "fights_data = pd.merge(fights_data, fighters_data, how='left', on='f_1')\n",
    "fighters_data = fighters_data.rename(columns = {'f_1':'f_2'})\n",
    "fights_data = pd.merge(fights_data, fighters_data, how='left', on='f_2')\n",
    "\n",
    "fights_data = fights_data.rename(columns = {'fighter_height_cm_x':'height_1','fighter_weight_lbs_x':'weight_1','fighter_reach_cm_x':'reach_1','fighter_stance_x':'stance_1'})\n",
    "fights_data = fights_data.rename(columns = {'fighter_height_cm_y':'height_2','fighter_weight_lbs_y':'weight_2','fighter_reach_cm_y':'reach_2','fighter_stance_y':'stance_2'})"
   ]
  },
  {
   "cell_type": "code",
   "execution_count": 4,
   "id": "c3a66406",
   "metadata": {
    "execution": {
     "iopub.execute_input": "2023-12-01T20:56:38.852563Z",
     "iopub.status.busy": "2023-12-01T20:56:38.852181Z",
     "iopub.status.idle": "2023-12-01T20:56:38.865573Z",
     "shell.execute_reply": "2023-12-01T20:56:38.864231Z"
    },
    "papermill": {
     "duration": 0.031165,
     "end_time": "2023-12-01T20:56:38.868516",
     "exception": false,
     "start_time": "2023-12-01T20:56:38.837351",
     "status": "completed"
    },
    "tags": []
   },
   "outputs": [],
   "source": [
    "fights_data = fights_data.rename(columns = {'fighter_height_cm_x':'height_1','fighter_weight_lbs_x':'weight_1','fighter_reach_cm_x':'reach_1','fighter_stance_x':'stance_1'})\n",
    "fights_data = fights_data.rename(columns = {'fighter_height_cm_y':'height_2','fighter_weight_lbs_y':'weight_2','fighter_reach_cm_y':'reach_2','fighter_stance_y':'stance_2'})"
   ]
  },
  {
   "cell_type": "code",
   "execution_count": 5,
   "id": "dc43f6eb",
   "metadata": {
    "execution": {
     "iopub.execute_input": "2023-12-01T20:56:38.897038Z",
     "iopub.status.busy": "2023-12-01T20:56:38.896617Z",
     "iopub.status.idle": "2023-12-01T20:56:38.904829Z",
     "shell.execute_reply": "2023-12-01T20:56:38.903446Z"
    },
    "papermill": {
     "duration": 0.025402,
     "end_time": "2023-12-01T20:56:38.907207",
     "exception": false,
     "start_time": "2023-12-01T20:56:38.881805",
     "status": "completed"
    },
    "tags": []
   },
   "outputs": [],
   "source": [
    "#add date from ufc_events to ufc_fights\n",
    "fights_data = fights_data.drop(['referee','fight_url','result_details','event_id'], axis=1)"
   ]
  },
  {
   "cell_type": "code",
   "execution_count": 6,
   "id": "937129f1",
   "metadata": {
    "execution": {
     "iopub.execute_input": "2023-12-01T20:56:38.936194Z",
     "iopub.status.busy": "2023-12-01T20:56:38.935539Z",
     "iopub.status.idle": "2023-12-01T20:56:38.952956Z",
     "shell.execute_reply": "2023-12-01T20:56:38.951557Z"
    },
    "papermill": {
     "duration": 0.035539,
     "end_time": "2023-12-01T20:56:38.956004",
     "exception": false,
     "start_time": "2023-12-01T20:56:38.920465",
     "status": "completed"
    },
    "tags": []
   },
   "outputs": [],
   "source": [
    "#drop null f_1 and f_2\n",
    "fights_data.dropna(subset=['f_1'], inplace=True)\n",
    "fights_data.dropna(subset=['f_2'], inplace=True)"
   ]
  },
  {
   "cell_type": "code",
   "execution_count": 7,
   "id": "fc5ca81d",
   "metadata": {
    "execution": {
     "iopub.execute_input": "2023-12-01T20:56:38.989548Z",
     "iopub.status.busy": "2023-12-01T20:56:38.988672Z",
     "iopub.status.idle": "2023-12-01T20:56:39.014605Z",
     "shell.execute_reply": "2023-12-01T20:56:39.013506Z"
    },
    "papermill": {
     "duration": 0.045768,
     "end_time": "2023-12-01T20:56:39.016943",
     "exception": false,
     "start_time": "2023-12-01T20:56:38.971175",
     "status": "completed"
    },
    "tags": []
   },
   "outputs": [
    {
     "data": {
      "text/html": [
       "<div>\n",
       "<style scoped>\n",
       "    .dataframe tbody tr th:only-of-type {\n",
       "        vertical-align: middle;\n",
       "    }\n",
       "\n",
       "    .dataframe tbody tr th {\n",
       "        vertical-align: top;\n",
       "    }\n",
       "\n",
       "    .dataframe thead th {\n",
       "        text-align: right;\n",
       "    }\n",
       "</style>\n",
       "<table border=\"1\" class=\"dataframe\">\n",
       "  <thead>\n",
       "    <tr style=\"text-align: right;\">\n",
       "      <th></th>\n",
       "      <th>fight_id</th>\n",
       "      <th>f_1</th>\n",
       "      <th>f_2</th>\n",
       "      <th>winner</th>\n",
       "      <th>num_rounds</th>\n",
       "      <th>title_fight</th>\n",
       "      <th>weight_class</th>\n",
       "      <th>gender</th>\n",
       "      <th>result</th>\n",
       "      <th>finish_round</th>\n",
       "      <th>finish_time</th>\n",
       "      <th>event_date</th>\n",
       "      <th>height_1</th>\n",
       "      <th>weight_1</th>\n",
       "      <th>reach_1</th>\n",
       "      <th>stance_1</th>\n",
       "      <th>height_2</th>\n",
       "      <th>weight_2</th>\n",
       "      <th>reach_2</th>\n",
       "      <th>stance_2</th>\n",
       "    </tr>\n",
       "  </thead>\n",
       "  <tbody>\n",
       "  </tbody>\n",
       "</table>\n",
       "</div>"
      ],
      "text/plain": [
       "Empty DataFrame\n",
       "Columns: [fight_id, f_1, f_2, winner, num_rounds, title_fight, weight_class, gender, result, finish_round, finish_time, event_date, height_1, weight_1, reach_1, stance_1, height_2, weight_2, reach_2, stance_2]\n",
       "Index: []"
      ]
     },
     "execution_count": 7,
     "metadata": {},
     "output_type": "execute_result"
    }
   ],
   "source": [
    "#verify if there is draws in our dataset\n",
    "fights_data.loc[(fights_data['winner'] != fights_data['f_1']) & (fights_data['winner'] != fights_data['f_2'])]"
   ]
  },
  {
   "cell_type": "code",
   "execution_count": 8,
   "id": "a976254c",
   "metadata": {
    "execution": {
     "iopub.execute_input": "2023-12-01T20:56:39.048256Z",
     "iopub.status.busy": "2023-12-01T20:56:39.046731Z",
     "iopub.status.idle": "2023-12-01T20:56:39.063494Z",
     "shell.execute_reply": "2023-12-01T20:56:39.061374Z"
    },
    "papermill": {
     "duration": 0.035068,
     "end_time": "2023-12-01T20:56:39.066232",
     "exception": false,
     "start_time": "2023-12-01T20:56:39.031164",
     "status": "completed"
    },
    "tags": []
   },
   "outputs": [
    {
     "name": "stdout",
     "output_type": "stream",
     "text": [
      "28\n"
     ]
    }
   ],
   "source": [
    "from dateutil import relativedelta\n",
    "import pandas as pd\n",
    "\n",
    "def fighter_age(f_id, date):\n",
    "    f_infos = ufc_fighters.loc[ufc_fighters['fighter_id'] == f_id]\n",
    "    event_date = pd.to_datetime(date, format='%Y-%m-%d')\n",
    "    fighter_dob = pd.to_datetime(f_infos['fighter_dob'].values[0], format='%Y-%m-%d')\n",
    "    age = relativedelta.relativedelta(event_date, fighter_dob)\n",
    "    return age.years\n",
    "\n",
    "test_age = fighter_age(fights_data.loc[1]['f_1'], fights_data.loc[1]['event_date'])\n",
    "print(test_age)"
   ]
  },
  {
   "cell_type": "code",
   "execution_count": 9,
   "id": "478f3ee4",
   "metadata": {
    "execution": {
     "iopub.execute_input": "2023-12-01T20:56:39.096950Z",
     "iopub.status.busy": "2023-12-01T20:56:39.096412Z",
     "iopub.status.idle": "2023-12-01T20:56:53.163994Z",
     "shell.execute_reply": "2023-12-01T20:56:53.162968Z"
    },
    "papermill": {
     "duration": 14.086632,
     "end_time": "2023-12-01T20:56:53.167114",
     "exception": false,
     "start_time": "2023-12-01T20:56:39.080482",
     "status": "completed"
    },
    "tags": []
   },
   "outputs": [],
   "source": [
    "#compute age for each fighter\n",
    "fights_data['age_1'] = 0\n",
    "fights_data['age_2'] = 0\n",
    "for i, r in fights_data.iterrows():\n",
    "    try:\n",
    "        fights_data.loc[i, 'age_1'] = fighter_age(r['f_1'], r['event_date'])\n",
    "        fights_data.loc[i, 'age_2'] = fighter_age(r['f_2'], r['event_date'])\n",
    "    except AssertionError:\n",
    "        exit(1)"
   ]
  },
  {
   "cell_type": "code",
   "execution_count": 10,
   "id": "919fb590",
   "metadata": {
    "execution": {
     "iopub.execute_input": "2023-12-01T20:56:53.199940Z",
     "iopub.status.busy": "2023-12-01T20:56:53.199232Z",
     "iopub.status.idle": "2023-12-01T20:56:53.207551Z",
     "shell.execute_reply": "2023-12-01T20:56:53.206244Z"
    },
    "papermill": {
     "duration": 0.028698,
     "end_time": "2023-12-01T20:56:53.210825",
     "exception": false,
     "start_time": "2023-12-01T20:56:53.182127",
     "status": "completed"
    },
    "tags": []
   },
   "outputs": [
    {
     "data": {
      "text/plain": [
       "30"
      ]
     },
     "execution_count": 10,
     "metadata": {},
     "output_type": "execute_result"
    }
   ],
   "source": [
    "fights_data.loc[0,'age_1']"
   ]
  },
  {
   "cell_type": "code",
   "execution_count": 11,
   "id": "97a5ec29",
   "metadata": {
    "execution": {
     "iopub.execute_input": "2023-12-01T20:56:53.244434Z",
     "iopub.status.busy": "2023-12-01T20:56:53.243915Z",
     "iopub.status.idle": "2023-12-01T20:56:53.254610Z",
     "shell.execute_reply": "2023-12-01T20:56:53.253288Z"
    },
    "papermill": {
     "duration": 0.031555,
     "end_time": "2023-12-01T20:56:53.257719",
     "exception": false,
     "start_time": "2023-12-01T20:56:53.226164",
     "status": "completed"
    },
    "tags": []
   },
   "outputs": [],
   "source": [
    "def fighter_xp(id, date):\n",
    "    f_infos = ufc_fighters.loc[ufc_fighters['fighter_id'] == id]\n",
    "    f_fights = fights_data.loc[(fights_data['f_1'] == id) | (fights_data['f_2'] == id)]\n",
    "    wins = 0\n",
    "    loses = 0\n",
    "    draws = 0\n",
    "    for i, r in f_fights.iterrows():\n",
    "        if pd.to_datetime(r['event_date'], format='%Y-%m-%d') < pd.to_datetime(date, format='%Y-%m-%d'):\n",
    "            if r['winner'] == id:\n",
    "                wins += 1 \n",
    "            else:\n",
    "                loses += 1\n",
    "    total_fights = wins + loses\n",
    "    wins_ratio = wins / total_fights if total_fights > 0 else 0\n",
    "    loses_ratio = loses / total_fights if total_fights > 0 else 0\n",
    "    fighter_xp = pd.DataFrame(data={'wins': [wins], 'loses': [loses], 'total': [total_fights]})\n",
    "    return fighter_xp"
   ]
  },
  {
   "cell_type": "code",
   "execution_count": 12,
   "id": "cd026e5d",
   "metadata": {
    "execution": {
     "iopub.execute_input": "2023-12-01T20:56:53.291269Z",
     "iopub.status.busy": "2023-12-01T20:56:53.290602Z",
     "iopub.status.idle": "2023-12-01T20:57:41.537650Z",
     "shell.execute_reply": "2023-12-01T20:57:41.536061Z"
    },
    "papermill": {
     "duration": 48.268344,
     "end_time": "2023-12-01T20:57:41.541386",
     "exception": false,
     "start_time": "2023-12-01T20:56:53.273042",
     "status": "completed"
    },
    "tags": []
   },
   "outputs": [],
   "source": [
    "#compute xp for each fighters\n",
    "fights_data['total_fights_1'] = 0\n",
    "fights_data['total_fights_2'] = 0\n",
    "\n",
    "fights_data['wins_1'] = 0\n",
    "fights_data['wins_2'] = 0\n",
    "\n",
    "fights_data['loses_1'] = 0\n",
    "fights_data['loses_2'] = 0\n",
    "\n",
    "for i, r in fights_data.iterrows():\n",
    "    try:\n",
    "        fighter_xp_1 = fighter_xp(r['f_1'], r['event_date'])\n",
    "        fighter_xp_2 = fighter_xp(r['f_2'], r['event_date'])\n",
    "        \n",
    "        fights_data.loc[i, 'total_fights_1'] = fighter_xp_1['total'].values[0]\n",
    "        fights_data.loc[i, 'total_fights_2'] = fighter_xp_2['total'].values[0]\n",
    "        \n",
    "        fights_data.loc[i, 'wins_1'] = fighter_xp_1['wins'].values[0]\n",
    "        fights_data.loc[i, 'wins_2'] = fighter_xp_2['wins'].values[0]\n",
    "        \n",
    "        fights_data.loc[i, 'loses_1'] = fighter_xp_1['loses'].values[0]\n",
    "        fights_data.loc[i, 'loses_2'] = fighter_xp_2['loses'].values[0]\n",
    "        \n",
    "    except AssertionError:\n",
    "        exit(1)"
   ]
  },
  {
   "cell_type": "code",
   "execution_count": 13,
   "id": "c42697e6",
   "metadata": {
    "execution": {
     "iopub.execute_input": "2023-12-01T20:57:41.575452Z",
     "iopub.status.busy": "2023-12-01T20:57:41.573914Z",
     "iopub.status.idle": "2023-12-01T20:57:43.380443Z",
     "shell.execute_reply": "2023-12-01T20:57:43.379497Z"
    },
    "papermill": {
     "duration": 1.825889,
     "end_time": "2023-12-01T20:57:43.383476",
     "exception": false,
     "start_time": "2023-12-01T20:57:41.557587",
     "status": "completed"
    },
    "tags": []
   },
   "outputs": [],
   "source": [
    "def winner_nbr(f,w):\n",
    "    if f == w:\n",
    "        return '1'\n",
    "    else:\n",
    "        return '2'\n",
    "\n",
    "for i, r in fights_data.iterrows():\n",
    "    try:\n",
    "        fighter = fights_data.loc[i, 'f_1']\n",
    "        winner = fights_data.loc[i, 'winner']\n",
    "        fights_data.loc[i, 'winner'] = winner_nbr(fighter,winner)\n",
    "    except AssertionError:\n",
    "        exit(1)"
   ]
  },
  {
   "cell_type": "code",
   "execution_count": 14,
   "id": "49a818f8",
   "metadata": {
    "execution": {
     "iopub.execute_input": "2023-12-01T20:57:43.419396Z",
     "iopub.status.busy": "2023-12-01T20:57:43.418299Z",
     "iopub.status.idle": "2023-12-01T20:57:43.426344Z",
     "shell.execute_reply": "2023-12-01T20:57:43.425249Z"
    },
    "papermill": {
     "duration": 0.02963,
     "end_time": "2023-12-01T20:57:43.429419",
     "exception": false,
     "start_time": "2023-12-01T20:57:43.399789",
     "status": "completed"
    },
    "tags": []
   },
   "outputs": [],
   "source": [
    "fights_data = fights_data.drop(['finish_round','finish_time','event_date'], axis=1)"
   ]
  },
  {
   "cell_type": "code",
   "execution_count": 15,
   "id": "b0123d20",
   "metadata": {
    "execution": {
     "iopub.execute_input": "2023-12-01T20:57:43.463408Z",
     "iopub.status.busy": "2023-12-01T20:57:43.462875Z",
     "iopub.status.idle": "2023-12-01T20:57:43.493882Z",
     "shell.execute_reply": "2023-12-01T20:57:43.492668Z"
    },
    "papermill": {
     "duration": 0.051897,
     "end_time": "2023-12-01T20:57:43.497088",
     "exception": false,
     "start_time": "2023-12-01T20:57:43.445191",
     "status": "completed"
    },
    "tags": []
   },
   "outputs": [
    {
     "data": {
      "text/html": [
       "<div>\n",
       "<style scoped>\n",
       "    .dataframe tbody tr th:only-of-type {\n",
       "        vertical-align: middle;\n",
       "    }\n",
       "\n",
       "    .dataframe tbody tr th {\n",
       "        vertical-align: top;\n",
       "    }\n",
       "\n",
       "    .dataframe thead th {\n",
       "        text-align: right;\n",
       "    }\n",
       "</style>\n",
       "<table border=\"1\" class=\"dataframe\">\n",
       "  <thead>\n",
       "    <tr style=\"text-align: right;\">\n",
       "      <th></th>\n",
       "      <th>fight_id</th>\n",
       "      <th>f_1</th>\n",
       "      <th>f_2</th>\n",
       "      <th>winner</th>\n",
       "      <th>num_rounds</th>\n",
       "      <th>title_fight</th>\n",
       "      <th>weight_class</th>\n",
       "      <th>gender</th>\n",
       "      <th>result</th>\n",
       "      <th>height_1</th>\n",
       "      <th>weight_1</th>\n",
       "      <th>reach_1</th>\n",
       "      <th>stance_1</th>\n",
       "      <th>height_2</th>\n",
       "      <th>weight_2</th>\n",
       "      <th>reach_2</th>\n",
       "      <th>stance_2</th>\n",
       "      <th>age_1</th>\n",
       "      <th>age_2</th>\n",
       "      <th>total_fights_1</th>\n",
       "      <th>total_fights_2</th>\n",
       "      <th>wins_1</th>\n",
       "      <th>wins_2</th>\n",
       "      <th>loses_1</th>\n",
       "      <th>loses_2</th>\n",
       "    </tr>\n",
       "  </thead>\n",
       "  <tbody>\n",
       "    <tr>\n",
       "      <th>0</th>\n",
       "      <td>7218</td>\n",
       "      <td>2976.0</td>\n",
       "      <td>2884.0</td>\n",
       "      <td>2</td>\n",
       "      <td>5</td>\n",
       "      <td>F</td>\n",
       "      <td>Lightweight</td>\n",
       "      <td>M</td>\n",
       "      <td>KO/TKO</td>\n",
       "      <td>172.72</td>\n",
       "      <td>155.0</td>\n",
       "      <td>180.34</td>\n",
       "      <td>Switch</td>\n",
       "      <td>177.80</td>\n",
       "      <td>155.0</td>\n",
       "      <td>177.80</td>\n",
       "      <td>Southpaw</td>\n",
       "      <td>30</td>\n",
       "      <td>32</td>\n",
       "      <td>8</td>\n",
       "      <td>7</td>\n",
       "      <td>6</td>\n",
       "      <td>5</td>\n",
       "      <td>2</td>\n",
       "      <td>2</td>\n",
       "    </tr>\n",
       "    <tr>\n",
       "      <th>1</th>\n",
       "      <td>7217</td>\n",
       "      <td>1662.0</td>\n",
       "      <td>2464.0</td>\n",
       "      <td>1</td>\n",
       "      <td>3</td>\n",
       "      <td>F</td>\n",
       "      <td>Featherweight</td>\n",
       "      <td>M</td>\n",
       "      <td>Decision</td>\n",
       "      <td>177.80</td>\n",
       "      <td>145.0</td>\n",
       "      <td>177.80</td>\n",
       "      <td>Southpaw</td>\n",
       "      <td>170.18</td>\n",
       "      <td>145.0</td>\n",
       "      <td>180.34</td>\n",
       "      <td>Orthodox</td>\n",
       "      <td>28</td>\n",
       "      <td>32</td>\n",
       "      <td>7</td>\n",
       "      <td>14</td>\n",
       "      <td>6</td>\n",
       "      <td>9</td>\n",
       "      <td>1</td>\n",
       "      <td>5</td>\n",
       "    </tr>\n",
       "    <tr>\n",
       "      <th>2</th>\n",
       "      <td>7216</td>\n",
       "      <td>981.0</td>\n",
       "      <td>179.0</td>\n",
       "      <td>1</td>\n",
       "      <td>3</td>\n",
       "      <td>F</td>\n",
       "      <td>Women's Strawweight</td>\n",
       "      <td>F</td>\n",
       "      <td>KO/TKO</td>\n",
       "      <td>167.64</td>\n",
       "      <td>115.0</td>\n",
       "      <td>165.10</td>\n",
       "      <td>Orthodox</td>\n",
       "      <td>160.02</td>\n",
       "      <td>115.0</td>\n",
       "      <td>157.48</td>\n",
       "      <td>Orthodox</td>\n",
       "      <td>36</td>\n",
       "      <td>37</td>\n",
       "      <td>9</td>\n",
       "      <td>13</td>\n",
       "      <td>6</td>\n",
       "      <td>6</td>\n",
       "      <td>3</td>\n",
       "      <td>7</td>\n",
       "    </tr>\n",
       "    <tr>\n",
       "      <th>3</th>\n",
       "      <td>7215</td>\n",
       "      <td>3831.0</td>\n",
       "      <td>2974.0</td>\n",
       "      <td>1</td>\n",
       "      <td>3</td>\n",
       "      <td>F</td>\n",
       "      <td>Welterweight</td>\n",
       "      <td>M</td>\n",
       "      <td>Submission</td>\n",
       "      <td>185.42</td>\n",
       "      <td>170.0</td>\n",
       "      <td>195.58</td>\n",
       "      <td>Orthodox</td>\n",
       "      <td>177.80</td>\n",
       "      <td>170.0</td>\n",
       "      <td>170.18</td>\n",
       "      <td>Switch</td>\n",
       "      <td>29</td>\n",
       "      <td>26</td>\n",
       "      <td>5</td>\n",
       "      <td>3</td>\n",
       "      <td>4</td>\n",
       "      <td>1</td>\n",
       "      <td>1</td>\n",
       "      <td>2</td>\n",
       "    </tr>\n",
       "    <tr>\n",
       "      <th>4</th>\n",
       "      <td>7214</td>\n",
       "      <td>1108.0</td>\n",
       "      <td>2320.0</td>\n",
       "      <td>2</td>\n",
       "      <td>3</td>\n",
       "      <td>F</td>\n",
       "      <td>Featherweight</td>\n",
       "      <td>M</td>\n",
       "      <td>Submission</td>\n",
       "      <td>175.26</td>\n",
       "      <td>145.0</td>\n",
       "      <td>182.88</td>\n",
       "      <td>Orthodox</td>\n",
       "      <td>175.26</td>\n",
       "      <td>145.0</td>\n",
       "      <td>175.26</td>\n",
       "      <td>Switch</td>\n",
       "      <td>28</td>\n",
       "      <td>27</td>\n",
       "      <td>10</td>\n",
       "      <td>10</td>\n",
       "      <td>7</td>\n",
       "      <td>5</td>\n",
       "      <td>3</td>\n",
       "      <td>5</td>\n",
       "    </tr>\n",
       "  </tbody>\n",
       "</table>\n",
       "</div>"
      ],
      "text/plain": [
       "   fight_id     f_1     f_2 winner num_rounds title_fight  \\\n",
       "0      7218  2976.0  2884.0      2          5           F   \n",
       "1      7217  1662.0  2464.0      1          3           F   \n",
       "2      7216   981.0   179.0      1          3           F   \n",
       "3      7215  3831.0  2974.0      1          3           F   \n",
       "4      7214  1108.0  2320.0      2          3           F   \n",
       "\n",
       "          weight_class gender      result  height_1  weight_1  reach_1  \\\n",
       "0          Lightweight      M      KO/TKO    172.72     155.0   180.34   \n",
       "1        Featherweight      M    Decision    177.80     145.0   177.80   \n",
       "2  Women's Strawweight      F      KO/TKO    167.64     115.0   165.10   \n",
       "3         Welterweight      M  Submission    185.42     170.0   195.58   \n",
       "4        Featherweight      M  Submission    175.26     145.0   182.88   \n",
       "\n",
       "   stance_1  height_2  weight_2  reach_2  stance_2  age_1  age_2  \\\n",
       "0    Switch    177.80     155.0   177.80  Southpaw     30     32   \n",
       "1  Southpaw    170.18     145.0   180.34  Orthodox     28     32   \n",
       "2  Orthodox    160.02     115.0   157.48  Orthodox     36     37   \n",
       "3  Orthodox    177.80     170.0   170.18    Switch     29     26   \n",
       "4  Orthodox    175.26     145.0   175.26    Switch     28     27   \n",
       "\n",
       "   total_fights_1  total_fights_2  wins_1  wins_2  loses_1  loses_2  \n",
       "0               8               7       6       5        2        2  \n",
       "1               7              14       6       9        1        5  \n",
       "2               9              13       6       6        3        7  \n",
       "3               5               3       4       1        1        2  \n",
       "4              10              10       7       5        3        5  "
      ]
     },
     "execution_count": 15,
     "metadata": {},
     "output_type": "execute_result"
    }
   ],
   "source": [
    "#drop unused column\n",
    "#fights_data = fights_data.drop(['f_1','f_2'], axis=1)\n",
    "\n",
    "fights_data.head()"
   ]
  },
  {
   "cell_type": "code",
   "execution_count": 16,
   "id": "abfc7213",
   "metadata": {
    "execution": {
     "iopub.execute_input": "2023-12-01T20:57:43.531608Z",
     "iopub.status.busy": "2023-12-01T20:57:43.531177Z",
     "iopub.status.idle": "2023-12-01T20:57:43.541024Z",
     "shell.execute_reply": "2023-12-01T20:57:43.540107Z"
    },
    "papermill": {
     "duration": 0.030842,
     "end_time": "2023-12-01T20:57:43.544313",
     "exception": false,
     "start_time": "2023-12-01T20:57:43.513471",
     "status": "completed"
    },
    "tags": []
   },
   "outputs": [
    {
     "data": {
      "text/plain": [
       "array(['Lightweight', 'Featherweight', \"Women's Strawweight\",\n",
       "       'Welterweight', 'Bantamweight', 'Middleweight', 'Heavyweight',\n",
       "       \"Women's Bantamweight\", \"Women's Flyweight\", 'Flyweight',\n",
       "       'Light Heavyweight', 'Catch Weight', \"Women's Featherweight\",\n",
       "       'Open Weight', nan], dtype=object)"
      ]
     },
     "execution_count": 16,
     "metadata": {},
     "output_type": "execute_result"
    }
   ],
   "source": [
    "fights_data.weight_class.unique()"
   ]
  },
  {
   "cell_type": "code",
   "execution_count": 17,
   "id": "172aa963",
   "metadata": {
    "execution": {
     "iopub.execute_input": "2023-12-01T20:57:43.579262Z",
     "iopub.status.busy": "2023-12-01T20:57:43.578002Z",
     "iopub.status.idle": "2023-12-01T20:57:43.588784Z",
     "shell.execute_reply": "2023-12-01T20:57:43.587689Z"
    },
    "papermill": {
     "duration": 0.031067,
     "end_time": "2023-12-01T20:57:43.591339",
     "exception": false,
     "start_time": "2023-12-01T20:57:43.560272",
     "status": "completed"
    },
    "tags": []
   },
   "outputs": [
    {
     "data": {
      "text/plain": [
       "Lightweight              1240\n",
       "Welterweight             1227\n",
       "Middleweight              960\n",
       "Featherweight             681\n",
       "Heavyweight               669\n",
       "Light Heavyweight         648\n",
       "Bantamweight              594\n",
       "Flyweight                 297\n",
       "Women's Strawweight       272\n",
       "Women's Flyweight         205\n",
       "Women's Bantamweight      188\n",
       "Open Weight               101\n",
       "Catch Weight               62\n",
       "Women's Featherweight      29\n",
       "Name: weight_class, dtype: int64"
      ]
     },
     "execution_count": 17,
     "metadata": {},
     "output_type": "execute_result"
    }
   ],
   "source": [
    "fights_data.weight_class.value_counts()"
   ]
  },
  {
   "cell_type": "code",
   "execution_count": 18,
   "id": "ad5ba774",
   "metadata": {
    "execution": {
     "iopub.execute_input": "2023-12-01T20:57:43.623081Z",
     "iopub.status.busy": "2023-12-01T20:57:43.622277Z",
     "iopub.status.idle": "2023-12-01T20:57:44.028702Z",
     "shell.execute_reply": "2023-12-01T20:57:44.027061Z"
    },
    "papermill": {
     "duration": 0.426054,
     "end_time": "2023-12-01T20:57:44.032057",
     "exception": false,
     "start_time": "2023-12-01T20:57:43.606003",
     "status": "completed"
    },
    "tags": []
   },
   "outputs": [
    {
     "data": {
      "image/png": "[encoded data removed]",
      "text/plain": [
       "<Figure size 800x550 with 1 Axes>"
      ]
     },
     "metadata": {},
     "output_type": "display_data"
    }
   ],
   "source": [
    "fights_data[\"weight_class\"].value_counts().sort_index().plot.bar(rot=0, grid=True)\n",
    "plt.xlabel(\"gender\")\n",
    "plt.ylabel(\"Number of districts\")\n",
    "plt.show()"
   ]
  },
  {
   "cell_type": "code",
   "execution_count": 19,
   "id": "a430c35c",
   "metadata": {
    "execution": {
     "iopub.execute_input": "2023-12-01T20:57:44.069424Z",
     "iopub.status.busy": "2023-12-01T20:57:44.068968Z",
     "iopub.status.idle": "2023-12-01T20:57:44.096229Z",
     "shell.execute_reply": "2023-12-01T20:57:44.095048Z"
    },
    "papermill": {
     "duration": 0.04986,
     "end_time": "2023-12-01T20:57:44.099393",
     "exception": false,
     "start_time": "2023-12-01T20:57:44.049533",
     "status": "completed"
    },
    "tags": []
   },
   "outputs": [
    {
     "data": {
      "text/html": [
       "<div>\n",
       "<style scoped>\n",
       "    .dataframe tbody tr th:only-of-type {\n",
       "        vertical-align: middle;\n",
       "    }\n",
       "\n",
       "    .dataframe tbody tr th {\n",
       "        vertical-align: top;\n",
       "    }\n",
       "\n",
       "    .dataframe thead th {\n",
       "        text-align: right;\n",
       "    }\n",
       "</style>\n",
       "<table border=\"1\" class=\"dataframe\">\n",
       "  <thead>\n",
       "    <tr style=\"text-align: right;\">\n",
       "      <th></th>\n",
       "      <th>fight_id</th>\n",
       "      <th>f_1</th>\n",
       "      <th>f_2</th>\n",
       "      <th>winner</th>\n",
       "      <th>num_rounds</th>\n",
       "      <th>title_fight</th>\n",
       "      <th>weight_class</th>\n",
       "      <th>gender</th>\n",
       "      <th>result</th>\n",
       "      <th>height_1</th>\n",
       "      <th>weight_1</th>\n",
       "      <th>reach_1</th>\n",
       "      <th>stance_1</th>\n",
       "      <th>height_2</th>\n",
       "      <th>weight_2</th>\n",
       "      <th>reach_2</th>\n",
       "      <th>stance_2</th>\n",
       "      <th>age_1</th>\n",
       "      <th>age_2</th>\n",
       "      <th>total_fights_1</th>\n",
       "      <th>total_fights_2</th>\n",
       "      <th>wins_1</th>\n",
       "      <th>wins_2</th>\n",
       "      <th>loses_1</th>\n",
       "      <th>loses_2</th>\n",
       "    </tr>\n",
       "  </thead>\n",
       "  <tbody>\n",
       "  </tbody>\n",
       "</table>\n",
       "</div>"
      ],
      "text/plain": [
       "Empty DataFrame\n",
       "Columns: [fight_id, f_1, f_2, winner, num_rounds, title_fight, weight_class, gender, result, height_1, weight_1, reach_1, stance_1, height_2, weight_2, reach_2, stance_2, age_1, age_2, total_fights_1, total_fights_2, wins_1, wins_2, loses_1, loses_2]\n",
       "Index: []"
      ]
     },
     "execution_count": 19,
     "metadata": {},
     "output_type": "execute_result"
    }
   ],
   "source": [
    "for i, r in fights_data.loc[fights_data[\"weight_class\"].isna()].iterrows():\n",
    "    fights_data.loc[i,\"weight_class\"] = 'Light Heavyweight'\n",
    "\n",
    "fights_data.loc[fights_data[\"weight_class\"].isna()]"
   ]
  },
  {
   "cell_type": "code",
   "execution_count": 20,
   "id": "032f021b",
   "metadata": {
    "execution": {
     "iopub.execute_input": "2023-12-01T20:57:44.136852Z",
     "iopub.status.busy": "2023-12-01T20:57:44.136410Z",
     "iopub.status.idle": "2023-12-01T20:57:44.145569Z",
     "shell.execute_reply": "2023-12-01T20:57:44.144222Z"
    },
    "papermill": {
     "duration": 0.030466,
     "end_time": "2023-12-01T20:57:44.148519",
     "exception": false,
     "start_time": "2023-12-01T20:57:44.118053",
     "status": "completed"
    },
    "tags": []
   },
   "outputs": [
    {
     "data": {
      "text/plain": [
       "array(['Switch', 'Southpaw', 'Orthodox', nan, 'Open Stance', 'Sideways'],\n",
       "      dtype=object)"
      ]
     },
     "execution_count": 20,
     "metadata": {},
     "output_type": "execute_result"
    }
   ],
   "source": [
    "fights_data.stance_1.unique()"
   ]
  },
  {
   "cell_type": "code",
   "execution_count": 21,
   "id": "4245b573",
   "metadata": {
    "execution": {
     "iopub.execute_input": "2023-12-01T20:57:44.184457Z",
     "iopub.status.busy": "2023-12-01T20:57:44.184006Z",
     "iopub.status.idle": "2023-12-01T20:57:44.219370Z",
     "shell.execute_reply": "2023-12-01T20:57:44.218143Z"
    },
    "papermill": {
     "duration": 0.05703,
     "end_time": "2023-12-01T20:57:44.222629",
     "exception": false,
     "start_time": "2023-12-01T20:57:44.165599",
     "status": "completed"
    },
    "tags": []
   },
   "outputs": [],
   "source": [
    "for i, r in fights_data.loc[fights_data[\"stance_1\"].isna()].iterrows():\n",
    "    fights_data.loc[i,\"stance_1\"] = 'Orthodox'\n",
    "    \n",
    "for i, r in fights_data.loc[fights_data[\"stance_2\"].isna()].iterrows():\n",
    "    fights_data.loc[i,\"stance_2\"] = 'Orthodox'"
   ]
  },
  {
   "cell_type": "code",
   "execution_count": 22,
   "id": "97c41871",
   "metadata": {
    "execution": {
     "iopub.execute_input": "2023-12-01T20:57:44.258902Z",
     "iopub.status.busy": "2023-12-01T20:57:44.258450Z",
     "iopub.status.idle": "2023-12-01T20:57:44.318952Z",
     "shell.execute_reply": "2023-12-01T20:57:44.317384Z"
    },
    "papermill": {
     "duration": 0.083088,
     "end_time": "2023-12-01T20:57:44.322105",
     "exception": false,
     "start_time": "2023-12-01T20:57:44.239017",
     "status": "completed"
    },
    "tags": []
   },
   "outputs": [
    {
     "data": {
      "text/html": [
       "<div>\n",
       "<style scoped>\n",
       "    .dataframe tbody tr th:only-of-type {\n",
       "        vertical-align: middle;\n",
       "    }\n",
       "\n",
       "    .dataframe tbody tr th {\n",
       "        vertical-align: top;\n",
       "    }\n",
       "\n",
       "    .dataframe thead th {\n",
       "        text-align: right;\n",
       "    }\n",
       "</style>\n",
       "<table border=\"1\" class=\"dataframe\">\n",
       "  <thead>\n",
       "    <tr style=\"text-align: right;\">\n",
       "      <th></th>\n",
       "      <th>fight_id</th>\n",
       "      <th>f_1</th>\n",
       "      <th>f_2</th>\n",
       "      <th>winner</th>\n",
       "      <th>num_rounds</th>\n",
       "      <th>title_fight</th>\n",
       "      <th>weight_class</th>\n",
       "      <th>gender</th>\n",
       "      <th>result</th>\n",
       "      <th>height_1</th>\n",
       "      <th>weight_1</th>\n",
       "      <th>reach_1</th>\n",
       "      <th>stance_1</th>\n",
       "      <th>height_2</th>\n",
       "      <th>weight_2</th>\n",
       "      <th>reach_2</th>\n",
       "      <th>stance_2</th>\n",
       "      <th>age_1</th>\n",
       "      <th>age_2</th>\n",
       "      <th>total_fights_1</th>\n",
       "      <th>total_fights_2</th>\n",
       "      <th>wins_1</th>\n",
       "      <th>wins_2</th>\n",
       "      <th>loses_1</th>\n",
       "      <th>loses_2</th>\n",
       "    </tr>\n",
       "  </thead>\n",
       "  <tbody>\n",
       "    <tr>\n",
       "      <th>2249</th>\n",
       "      <td>4969</td>\n",
       "      <td>1896.0</td>\n",
       "      <td>1197.0</td>\n",
       "      <td>1</td>\n",
       "      <td>3</td>\n",
       "      <td>F</td>\n",
       "      <td>Lightweight</td>\n",
       "      <td>M</td>\n",
       "      <td>Decision</td>\n",
       "      <td>172.72</td>\n",
       "      <td>155.0</td>\n",
       "      <td>172.72</td>\n",
       "      <td>Orthodox</td>\n",
       "      <td>177.80</td>\n",
       "      <td>155.0</td>\n",
       "      <td>NaN</td>\n",
       "      <td>Southpaw</td>\n",
       "      <td>33</td>\n",
       "      <td>22</td>\n",
       "      <td>15</td>\n",
       "      <td>1</td>\n",
       "      <td>9</td>\n",
       "      <td>1</td>\n",
       "      <td>6</td>\n",
       "      <td>0</td>\n",
       "    </tr>\n",
       "    <tr>\n",
       "      <th>2415</th>\n",
       "      <td>4803</td>\n",
       "      <td>2725.0</td>\n",
       "      <td>3832.0</td>\n",
       "      <td>1</td>\n",
       "      <td>3</td>\n",
       "      <td>F</td>\n",
       "      <td>Heavyweight</td>\n",
       "      <td>M</td>\n",
       "      <td>Submission</td>\n",
       "      <td>200.66</td>\n",
       "      <td>258.0</td>\n",
       "      <td>203.20</td>\n",
       "      <td>Orthodox</td>\n",
       "      <td>190.50</td>\n",
       "      <td>260.0</td>\n",
       "      <td>NaN</td>\n",
       "      <td>Orthodox</td>\n",
       "      <td>32</td>\n",
       "      <td>34</td>\n",
       "      <td>0</td>\n",
       "      <td>0</td>\n",
       "      <td>0</td>\n",
       "      <td>0</td>\n",
       "      <td>0</td>\n",
       "      <td>0</td>\n",
       "    </tr>\n",
       "    <tr>\n",
       "      <th>2442</th>\n",
       "      <td>4776</td>\n",
       "      <td>1174.0</td>\n",
       "      <td>1197.0</td>\n",
       "      <td>2</td>\n",
       "      <td>3</td>\n",
       "      <td>F</td>\n",
       "      <td>Lightweight</td>\n",
       "      <td>M</td>\n",
       "      <td>Decision</td>\n",
       "      <td>182.88</td>\n",
       "      <td>155.0</td>\n",
       "      <td>185.42</td>\n",
       "      <td>Orthodox</td>\n",
       "      <td>177.80</td>\n",
       "      <td>155.0</td>\n",
       "      <td>NaN</td>\n",
       "      <td>Southpaw</td>\n",
       "      <td>30</td>\n",
       "      <td>22</td>\n",
       "      <td>3</td>\n",
       "      <td>0</td>\n",
       "      <td>1</td>\n",
       "      <td>0</td>\n",
       "      <td>2</td>\n",
       "      <td>0</td>\n",
       "    </tr>\n",
       "    <tr>\n",
       "      <th>2539</th>\n",
       "      <td>4679</td>\n",
       "      <td>103.0</td>\n",
       "      <td>3029.0</td>\n",
       "      <td>1</td>\n",
       "      <td>3</td>\n",
       "      <td>F</td>\n",
       "      <td>Women's Flyweight</td>\n",
       "      <td>F</td>\n",
       "      <td>Submission</td>\n",
       "      <td>167.64</td>\n",
       "      <td>125.0</td>\n",
       "      <td>165.10</td>\n",
       "      <td>Orthodox</td>\n",
       "      <td>170.18</td>\n",
       "      <td>125.0</td>\n",
       "      <td>NaN</td>\n",
       "      <td>Switch</td>\n",
       "      <td>32</td>\n",
       "      <td>32</td>\n",
       "      <td>6</td>\n",
       "      <td>2</td>\n",
       "      <td>3</td>\n",
       "      <td>0</td>\n",
       "      <td>3</td>\n",
       "      <td>2</td>\n",
       "    </tr>\n",
       "    <tr>\n",
       "      <th>2606</th>\n",
       "      <td>4612</td>\n",
       "      <td>3342.0</td>\n",
       "      <td>2273.0</td>\n",
       "      <td>2</td>\n",
       "      <td>3</td>\n",
       "      <td>T</td>\n",
       "      <td>Featherweight</td>\n",
       "      <td>M</td>\n",
       "      <td>Decision</td>\n",
       "      <td>170.18</td>\n",
       "      <td>155.0</td>\n",
       "      <td>NaN</td>\n",
       "      <td>Orthodox</td>\n",
       "      <td>167.64</td>\n",
       "      <td>135.0</td>\n",
       "      <td>162.56</td>\n",
       "      <td>Orthodox</td>\n",
       "      <td>31</td>\n",
       "      <td>26</td>\n",
       "      <td>0</td>\n",
       "      <td>0</td>\n",
       "      <td>0</td>\n",
       "      <td>0</td>\n",
       "      <td>0</td>\n",
       "      <td>0</td>\n",
       "    </tr>\n",
       "    <tr>\n",
       "      <th>...</th>\n",
       "      <td>...</td>\n",
       "      <td>...</td>\n",
       "      <td>...</td>\n",
       "      <td>...</td>\n",
       "      <td>...</td>\n",
       "      <td>...</td>\n",
       "      <td>...</td>\n",
       "      <td>...</td>\n",
       "      <td>...</td>\n",
       "      <td>...</td>\n",
       "      <td>...</td>\n",
       "      <td>...</td>\n",
       "      <td>...</td>\n",
       "      <td>...</td>\n",
       "      <td>...</td>\n",
       "      <td>...</td>\n",
       "      <td>...</td>\n",
       "      <td>...</td>\n",
       "      <td>...</td>\n",
       "      <td>...</td>\n",
       "      <td>...</td>\n",
       "      <td>...</td>\n",
       "      <td>...</td>\n",
       "      <td>...</td>\n",
       "      <td>...</td>\n",
       "    </tr>\n",
       "    <tr>\n",
       "      <th>7213</th>\n",
       "      <td>5</td>\n",
       "      <td>141.0</td>\n",
       "      <td>1962.0</td>\n",
       "      <td>1</td>\n",
       "      <td>N</td>\n",
       "      <td>F</td>\n",
       "      <td>Open Weight</td>\n",
       "      <td>M</td>\n",
       "      <td>KO/TKO</td>\n",
       "      <td>177.80</td>\n",
       "      <td>170.0</td>\n",
       "      <td>NaN</td>\n",
       "      <td>Southpaw</td>\n",
       "      <td>187.96</td>\n",
       "      <td>245.0</td>\n",
       "      <td>NaN</td>\n",
       "      <td>Orthodox</td>\n",
       "      <td>0</td>\n",
       "      <td>0</td>\n",
       "      <td>0</td>\n",
       "      <td>0</td>\n",
       "      <td>0</td>\n",
       "      <td>0</td>\n",
       "      <td>0</td>\n",
       "      <td>0</td>\n",
       "    </tr>\n",
       "    <tr>\n",
       "      <th>7214</th>\n",
       "      <td>4</td>\n",
       "      <td>2663.0</td>\n",
       "      <td>1952.0</td>\n",
       "      <td>1</td>\n",
       "      <td>N</td>\n",
       "      <td>F</td>\n",
       "      <td>Open Weight</td>\n",
       "      <td>M</td>\n",
       "      <td>Submission</td>\n",
       "      <td>NaN</td>\n",
       "      <td>NaN</td>\n",
       "      <td>NaN</td>\n",
       "      <td>Orthodox</td>\n",
       "      <td>190.50</td>\n",
       "      <td>210.0</td>\n",
       "      <td>NaN</td>\n",
       "      <td>Orthodox</td>\n",
       "      <td>0</td>\n",
       "      <td>0</td>\n",
       "      <td>0</td>\n",
       "      <td>0</td>\n",
       "      <td>0</td>\n",
       "      <td>0</td>\n",
       "      <td>0</td>\n",
       "      <td>0</td>\n",
       "    </tr>\n",
       "    <tr>\n",
       "      <th>7215</th>\n",
       "      <td>3</td>\n",
       "      <td>1060.0</td>\n",
       "      <td>2038.0</td>\n",
       "      <td>1</td>\n",
       "      <td>N</td>\n",
       "      <td>F</td>\n",
       "      <td>Open Weight</td>\n",
       "      <td>M</td>\n",
       "      <td>KO/TKO</td>\n",
       "      <td>182.88</td>\n",
       "      <td>210.0</td>\n",
       "      <td>NaN</td>\n",
       "      <td>Orthodox</td>\n",
       "      <td>195.58</td>\n",
       "      <td>275.0</td>\n",
       "      <td>NaN</td>\n",
       "      <td>Orthodox</td>\n",
       "      <td>0</td>\n",
       "      <td>0</td>\n",
       "      <td>0</td>\n",
       "      <td>0</td>\n",
       "      <td>0</td>\n",
       "      <td>0</td>\n",
       "      <td>0</td>\n",
       "      <td>0</td>\n",
       "    </tr>\n",
       "    <tr>\n",
       "      <th>7216</th>\n",
       "      <td>2</td>\n",
       "      <td>640.0</td>\n",
       "      <td>108.0</td>\n",
       "      <td>1</td>\n",
       "      <td>N</td>\n",
       "      <td>F</td>\n",
       "      <td>Open Weight</td>\n",
       "      <td>M</td>\n",
       "      <td>Submission</td>\n",
       "      <td>187.96</td>\n",
       "      <td>225.0</td>\n",
       "      <td>NaN</td>\n",
       "      <td>Orthodox</td>\n",
       "      <td>NaN</td>\n",
       "      <td>NaN</td>\n",
       "      <td>NaN</td>\n",
       "      <td>Orthodox</td>\n",
       "      <td>30</td>\n",
       "      <td>0</td>\n",
       "      <td>0</td>\n",
       "      <td>0</td>\n",
       "      <td>0</td>\n",
       "      <td>0</td>\n",
       "      <td>0</td>\n",
       "      <td>0</td>\n",
       "    </tr>\n",
       "    <tr>\n",
       "      <th>7217</th>\n",
       "      <td>1</td>\n",
       "      <td>1593.0</td>\n",
       "      <td>3295.0</td>\n",
       "      <td>1</td>\n",
       "      <td>N</td>\n",
       "      <td>F</td>\n",
       "      <td>Open Weight</td>\n",
       "      <td>M</td>\n",
       "      <td>Submission</td>\n",
       "      <td>177.80</td>\n",
       "      <td>210.0</td>\n",
       "      <td>NaN</td>\n",
       "      <td>Orthodox</td>\n",
       "      <td>182.88</td>\n",
       "      <td>175.0</td>\n",
       "      <td>NaN</td>\n",
       "      <td>Orthodox</td>\n",
       "      <td>0</td>\n",
       "      <td>0</td>\n",
       "      <td>0</td>\n",
       "      <td>0</td>\n",
       "      <td>0</td>\n",
       "      <td>0</td>\n",
       "      <td>0</td>\n",
       "      <td>0</td>\n",
       "    </tr>\n",
       "  </tbody>\n",
       "</table>\n",
       "<p>1040 rows × 25 columns</p>\n",
       "</div>"
      ],
      "text/plain": [
       "      fight_id     f_1     f_2 winner num_rounds title_fight  \\\n",
       "2249      4969  1896.0  1197.0      1          3           F   \n",
       "2415      4803  2725.0  3832.0      1          3           F   \n",
       "2442      4776  1174.0  1197.0      2          3           F   \n",
       "2539      4679   103.0  3029.0      1          3           F   \n",
       "2606      4612  3342.0  2273.0      2          3           T   \n",
       "...        ...     ...     ...    ...        ...         ...   \n",
       "7213         5   141.0  1962.0      1          N           F   \n",
       "7214         4  2663.0  1952.0      1          N           F   \n",
       "7215         3  1060.0  2038.0      1          N           F   \n",
       "7216         2   640.0   108.0      1          N           F   \n",
       "7217         1  1593.0  3295.0      1          N           F   \n",
       "\n",
       "           weight_class gender      result  height_1  weight_1  reach_1  \\\n",
       "2249        Lightweight      M    Decision    172.72     155.0   172.72   \n",
       "2415        Heavyweight      M  Submission    200.66     258.0   203.20   \n",
       "2442        Lightweight      M    Decision    182.88     155.0   185.42   \n",
       "2539  Women's Flyweight      F  Submission    167.64     125.0   165.10   \n",
       "2606      Featherweight      M    Decision    170.18     155.0      NaN   \n",
       "...                 ...    ...         ...       ...       ...      ...   \n",
       "7213        Open Weight      M      KO/TKO    177.80     170.0      NaN   \n",
       "7214        Open Weight      M  Submission       NaN       NaN      NaN   \n",
       "7215        Open Weight      M      KO/TKO    182.88     210.0      NaN   \n",
       "7216        Open Weight      M  Submission    187.96     225.0      NaN   \n",
       "7217        Open Weight      M  Submission    177.80     210.0      NaN   \n",
       "\n",
       "      stance_1  height_2  weight_2  reach_2  stance_2  age_1  age_2  \\\n",
       "2249  Orthodox    177.80     155.0      NaN  Southpaw     33     22   \n",
       "2415  Orthodox    190.50     260.0      NaN  Orthodox     32     34   \n",
       "2442  Orthodox    177.80     155.0      NaN  Southpaw     30     22   \n",
       "2539  Orthodox    170.18     125.0      NaN    Switch     32     32   \n",
       "2606  Orthodox    167.64     135.0   162.56  Orthodox     31     26   \n",
       "...        ...       ...       ...      ...       ...    ...    ...   \n",
       "7213  Southpaw    187.96     245.0      NaN  Orthodox      0      0   \n",
       "7214  Orthodox    190.50     210.0      NaN  Orthodox      0      0   \n",
       "7215  Orthodox    195.58     275.0      NaN  Orthodox      0      0   \n",
       "7216  Orthodox       NaN       NaN      NaN  Orthodox     30      0   \n",
       "7217  Orthodox    182.88     175.0      NaN  Orthodox      0      0   \n",
       "\n",
       "      total_fights_1  total_fights_2  wins_1  wins_2  loses_1  loses_2  \n",
       "2249              15               1       9       1        6        0  \n",
       "2415               0               0       0       0        0        0  \n",
       "2442               3               0       1       0        2        0  \n",
       "2539               6               2       3       0        3        2  \n",
       "2606               0               0       0       0        0        0  \n",
       "...              ...             ...     ...     ...      ...      ...  \n",
       "7213               0               0       0       0        0        0  \n",
       "7214               0               0       0       0        0        0  \n",
       "7215               0               0       0       0        0        0  \n",
       "7216               0               0       0       0        0        0  \n",
       "7217               0               0       0       0        0        0  \n",
       "\n",
       "[1040 rows x 25 columns]"
      ]
     },
     "execution_count": 22,
     "metadata": {},
     "output_type": "execute_result"
    }
   ],
   "source": [
    "null_rows_idx = fights_data.isnull().any(axis=1)\n",
    "fights_data.loc[null_rows_idx]"
   ]
  },
  {
   "cell_type": "code",
   "execution_count": 23,
   "id": "4135c634",
   "metadata": {
    "execution": {
     "iopub.execute_input": "2023-12-01T20:57:44.361973Z",
     "iopub.status.busy": "2023-12-01T20:57:44.361445Z",
     "iopub.status.idle": "2023-12-01T20:57:44.389187Z",
     "shell.execute_reply": "2023-12-01T20:57:44.388023Z"
    },
    "papermill": {
     "duration": 0.049752,
     "end_time": "2023-12-01T20:57:44.391926",
     "exception": false,
     "start_time": "2023-12-01T20:57:44.342174",
     "status": "completed"
    },
    "tags": []
   },
   "outputs": [
    {
     "data": {
      "text/plain": [
       "29.0"
      ]
     },
     "execution_count": 23,
     "metadata": {},
     "output_type": "execute_result"
    }
   ],
   "source": [
    "mean_values = pd.DataFrame()\n",
    "mean_values['weights'] = fights_data.groupby('weight_class').weight_1.mean()\n",
    "mean_values['heights'] = fights_data.groupby('weight_class').height_1.mean()\n",
    "mean_values['reaches'] = fights_data.groupby('weight_class').reach_1.mean()\n",
    "mean_values['ages'] = (fights_data.groupby('weight_class').age_1.mean() + fights_data.groupby('weight_class').age_1.mean())//2\n",
    "\n",
    "mean_values.ages['Bantamweight']"
   ]
  },
  {
   "cell_type": "code",
   "execution_count": 24,
   "id": "071f8272",
   "metadata": {
    "execution": {
     "iopub.execute_input": "2023-12-01T20:57:44.430947Z",
     "iopub.status.busy": "2023-12-01T20:57:44.430483Z",
     "iopub.status.idle": "2023-12-01T20:57:45.205874Z",
     "shell.execute_reply": "2023-12-01T20:57:45.204244Z"
    },
    "papermill": {
     "duration": 0.799518,
     "end_time": "2023-12-01T20:57:45.209192",
     "exception": false,
     "start_time": "2023-12-01T20:57:44.409674",
     "status": "completed"
    },
    "tags": []
   },
   "outputs": [],
   "source": [
    "for i, r in fights_data.loc[null_rows_idx].iterrows():\n",
    "    if pd.isnull(fights_data.loc[i, \"reach_1\"]):\n",
    "        fights_data.loc[i, \"reach_1\"] = mean_values.reaches[fights_data.loc[i, \"weight_class\"]]\n",
    "    if pd.isnull(fights_data.loc[i, \"reach_2\"]):\n",
    "        fights_data.loc[i, \"reach_2\"] = mean_values.reaches[fights_data.loc[i, \"weight_class\"]]\n",
    "\n",
    "    if pd.isnull(fights_data.loc[i, \"weight_1\"]):\n",
    "        fights_data.loc[i, \"weight_1\"] = mean_values.weights[fights_data.loc[i, \"weight_class\"]]\n",
    "    if pd.isnull(fights_data.loc[i, \"weight_2\"]):\n",
    "        fights_data.loc[i, \"weight_2\"] = mean_values.weights[fights_data.loc[i, \"weight_class\"]]\n",
    "\n",
    "    if pd.isnull(fights_data.loc[i, \"height_1\"]):\n",
    "        fights_data.loc[i, \"height_1\"] = mean_values.heights[fights_data.loc[i, \"weight_class\"]]\n",
    "    if pd.isnull(fights_data.loc[i, \"height_2\"]):\n",
    "        fights_data.loc[i, \"height_2\"] = mean_values.heights[fights_data.loc[i, \"weight_class\"]]\n",
    "        \n",
    "    if r[\"age_1\"] == 0.:\n",
    "        fights_data.loc[i, 'age_1'] = mean_values.ages[fights_data.loc[i, \"weight_class\"]]\n",
    "    if r[\"age_2\"] == 0.:\n",
    "        fights_data.loc[i, 'age_2'] = mean_values.ages[fights_data.loc[i, \"weight_class\"]]\n",
    "        \n"
   ]
  },
  {
   "cell_type": "code",
   "execution_count": 25,
   "id": "50fcc43b",
   "metadata": {
    "execution": {
     "iopub.execute_input": "2023-12-01T20:57:45.249401Z",
     "iopub.status.busy": "2023-12-01T20:57:45.248991Z",
     "iopub.status.idle": "2023-12-01T20:57:45.284452Z",
     "shell.execute_reply": "2023-12-01T20:57:45.283327Z"
    },
    "papermill": {
     "duration": 0.060493,
     "end_time": "2023-12-01T20:57:45.287637",
     "exception": false,
     "start_time": "2023-12-01T20:57:45.227144",
     "status": "completed"
    },
    "tags": []
   },
   "outputs": [
    {
     "data": {
      "text/html": [
       "<div>\n",
       "<style scoped>\n",
       "    .dataframe tbody tr th:only-of-type {\n",
       "        vertical-align: middle;\n",
       "    }\n",
       "\n",
       "    .dataframe tbody tr th {\n",
       "        vertical-align: top;\n",
       "    }\n",
       "\n",
       "    .dataframe thead th {\n",
       "        text-align: right;\n",
       "    }\n",
       "</style>\n",
       "<table border=\"1\" class=\"dataframe\">\n",
       "  <thead>\n",
       "    <tr style=\"text-align: right;\">\n",
       "      <th></th>\n",
       "      <th>fight_id</th>\n",
       "      <th>f_1</th>\n",
       "      <th>f_2</th>\n",
       "      <th>winner</th>\n",
       "      <th>num_rounds</th>\n",
       "      <th>title_fight</th>\n",
       "      <th>weight_class</th>\n",
       "      <th>gender</th>\n",
       "      <th>result</th>\n",
       "      <th>height_1</th>\n",
       "      <th>weight_1</th>\n",
       "      <th>reach_1</th>\n",
       "      <th>stance_1</th>\n",
       "      <th>height_2</th>\n",
       "      <th>weight_2</th>\n",
       "      <th>reach_2</th>\n",
       "      <th>stance_2</th>\n",
       "      <th>age_1</th>\n",
       "      <th>age_2</th>\n",
       "      <th>total_fights_1</th>\n",
       "      <th>total_fights_2</th>\n",
       "      <th>wins_1</th>\n",
       "      <th>wins_2</th>\n",
       "      <th>loses_1</th>\n",
       "      <th>loses_2</th>\n",
       "    </tr>\n",
       "  </thead>\n",
       "  <tbody>\n",
       "  </tbody>\n",
       "</table>\n",
       "</div>"
      ],
      "text/plain": [
       "Empty DataFrame\n",
       "Columns: [fight_id, f_1, f_2, winner, num_rounds, title_fight, weight_class, gender, result, height_1, weight_1, reach_1, stance_1, height_2, weight_2, reach_2, stance_2, age_1, age_2, total_fights_1, total_fights_2, wins_1, wins_2, loses_1, loses_2]\n",
       "Index: []"
      ]
     },
     "execution_count": 25,
     "metadata": {},
     "output_type": "execute_result"
    }
   ],
   "source": [
    "null_rows_idx = fights_data.isnull().any(axis=1)\n",
    "fights_data.loc[null_rows_idx]"
   ]
  },
  {
   "cell_type": "code",
   "execution_count": 26,
   "id": "757b692b",
   "metadata": {
    "execution": {
     "iopub.execute_input": "2023-12-01T20:57:45.329143Z",
     "iopub.status.busy": "2023-12-01T20:57:45.328730Z",
     "iopub.status.idle": "2023-12-01T20:57:45.335656Z",
     "shell.execute_reply": "2023-12-01T20:57:45.334760Z"
    },
    "papermill": {
     "duration": 0.030661,
     "end_time": "2023-12-01T20:57:45.338067",
     "exception": false,
     "start_time": "2023-12-01T20:57:45.307406",
     "status": "completed"
    },
    "tags": []
   },
   "outputs": [
    {
     "data": {
      "text/plain": [
       "array([30, 28, 36, 29, 39, 34, 25, 18, 24, 26, 32, 27, 31, 35, 33, 40, 38,\n",
       "       37, 41, 23, 22, 21, 44, 42, 43, 20, 19, 45, 47, 46,  0, 15])"
      ]
     },
     "execution_count": 26,
     "metadata": {},
     "output_type": "execute_result"
    }
   ],
   "source": [
    "fights_data.age_1.unique()"
   ]
  },
  {
   "cell_type": "code",
   "execution_count": 27,
   "id": "44901238",
   "metadata": {
    "execution": {
     "iopub.execute_input": "2023-12-01T20:57:45.378007Z",
     "iopub.status.busy": "2023-12-01T20:57:45.377570Z",
     "iopub.status.idle": "2023-12-01T20:57:45.445737Z",
     "shell.execute_reply": "2023-12-01T20:57:45.444144Z"
    },
    "papermill": {
     "duration": 0.091665,
     "end_time": "2023-12-01T20:57:45.448484",
     "exception": false,
     "start_time": "2023-12-01T20:57:45.356819",
     "status": "completed"
    },
    "tags": []
   },
   "outputs": [],
   "source": [
    "for i, r in fights_data.loc[fights_data[\"num_rounds\"] == 'N'].iterrows():\n",
    "    fights_data.loc[i,\"num_rounds\"] = '5'\n",
    "    \n",
    "for i, r in fights_data.loc[(fights_data[\"num_rounds\"] == '2') | (fights_data[\"num_rounds\"] == '1')].iterrows():\n",
    "    fights_data.loc[i,\"num_rounds\"] = '3'"
   ]
  },
  {
   "cell_type": "code",
   "execution_count": 28,
   "id": "f02b8214",
   "metadata": {
    "execution": {
     "iopub.execute_input": "2023-12-01T20:57:45.485436Z",
     "iopub.status.busy": "2023-12-01T20:57:45.485049Z",
     "iopub.status.idle": "2023-12-01T20:57:45.494279Z",
     "shell.execute_reply": "2023-12-01T20:57:45.492855Z"
    },
    "papermill": {
     "duration": 0.030793,
     "end_time": "2023-12-01T20:57:45.496882",
     "exception": false,
     "start_time": "2023-12-01T20:57:45.466089",
     "status": "completed"
    },
    "tags": []
   },
   "outputs": [
    {
     "data": {
      "text/plain": [
       "array(['M', 'F'], dtype=object)"
      ]
     },
     "execution_count": 28,
     "metadata": {},
     "output_type": "execute_result"
    }
   ],
   "source": [
    "fights_data.gender.unique()"
   ]
  },
  {
   "cell_type": "code",
   "execution_count": 29,
   "id": "5b107d3a",
   "metadata": {
    "execution": {
     "iopub.execute_input": "2023-12-01T20:57:45.533462Z",
     "iopub.status.busy": "2023-12-01T20:57:45.533076Z",
     "iopub.status.idle": "2023-12-01T20:57:46.183282Z",
     "shell.execute_reply": "2023-12-01T20:57:46.181802Z"
    },
    "papermill": {
     "duration": 0.672605,
     "end_time": "2023-12-01T20:57:46.186636",
     "exception": false,
     "start_time": "2023-12-01T20:57:45.514031",
     "status": "completed"
    },
    "tags": []
   },
   "outputs": [
    {
     "data": {
      "text/html": [
       "<div>\n",
       "<style scoped>\n",
       "    .dataframe tbody tr th:only-of-type {\n",
       "        vertical-align: middle;\n",
       "    }\n",
       "\n",
       "    .dataframe tbody tr th {\n",
       "        vertical-align: top;\n",
       "    }\n",
       "\n",
       "    .dataframe thead th {\n",
       "        text-align: right;\n",
       "    }\n",
       "</style>\n",
       "<table border=\"1\" class=\"dataframe\">\n",
       "  <thead>\n",
       "    <tr style=\"text-align: right;\">\n",
       "      <th></th>\n",
       "      <th>fight_id</th>\n",
       "      <th>f_2</th>\n",
       "      <th>f_1</th>\n",
       "      <th>winner</th>\n",
       "      <th>num_rounds</th>\n",
       "      <th>title_fight</th>\n",
       "      <th>weight_class</th>\n",
       "      <th>gender</th>\n",
       "      <th>result</th>\n",
       "      <th>height_2</th>\n",
       "      <th>weight_2</th>\n",
       "      <th>reach_2</th>\n",
       "      <th>stance_2</th>\n",
       "      <th>height_1</th>\n",
       "      <th>weight_1</th>\n",
       "      <th>reach_1</th>\n",
       "      <th>stance_1</th>\n",
       "      <th>age_2</th>\n",
       "      <th>age_1</th>\n",
       "      <th>total_fights_1</th>\n",
       "      <th>total_fights_2</th>\n",
       "      <th>wins_1</th>\n",
       "      <th>wins_2</th>\n",
       "      <th>loses_1</th>\n",
       "      <th>loses_2</th>\n",
       "    </tr>\n",
       "  </thead>\n",
       "  <tbody>\n",
       "    <tr>\n",
       "      <th>0</th>\n",
       "      <td>7218</td>\n",
       "      <td>2976.0</td>\n",
       "      <td>2884.0</td>\n",
       "      <td>1</td>\n",
       "      <td>5</td>\n",
       "      <td>F</td>\n",
       "      <td>Lightweight</td>\n",
       "      <td>M</td>\n",
       "      <td>KO/TKO</td>\n",
       "      <td>172.72</td>\n",
       "      <td>155.0</td>\n",
       "      <td>180.34</td>\n",
       "      <td>Switch</td>\n",
       "      <td>177.80</td>\n",
       "      <td>155.0</td>\n",
       "      <td>177.80</td>\n",
       "      <td>Southpaw</td>\n",
       "      <td>30</td>\n",
       "      <td>32</td>\n",
       "      <td>8</td>\n",
       "      <td>7</td>\n",
       "      <td>6</td>\n",
       "      <td>5</td>\n",
       "      <td>2</td>\n",
       "      <td>2</td>\n",
       "    </tr>\n",
       "    <tr>\n",
       "      <th>1</th>\n",
       "      <td>7217</td>\n",
       "      <td>1662.0</td>\n",
       "      <td>2464.0</td>\n",
       "      <td>2</td>\n",
       "      <td>3</td>\n",
       "      <td>F</td>\n",
       "      <td>Featherweight</td>\n",
       "      <td>M</td>\n",
       "      <td>Decision</td>\n",
       "      <td>177.80</td>\n",
       "      <td>145.0</td>\n",
       "      <td>177.80</td>\n",
       "      <td>Southpaw</td>\n",
       "      <td>170.18</td>\n",
       "      <td>145.0</td>\n",
       "      <td>180.34</td>\n",
       "      <td>Orthodox</td>\n",
       "      <td>28</td>\n",
       "      <td>32</td>\n",
       "      <td>7</td>\n",
       "      <td>14</td>\n",
       "      <td>6</td>\n",
       "      <td>9</td>\n",
       "      <td>1</td>\n",
       "      <td>5</td>\n",
       "    </tr>\n",
       "    <tr>\n",
       "      <th>2</th>\n",
       "      <td>7216</td>\n",
       "      <td>981.0</td>\n",
       "      <td>179.0</td>\n",
       "      <td>2</td>\n",
       "      <td>3</td>\n",
       "      <td>F</td>\n",
       "      <td>Women's Strawweight</td>\n",
       "      <td>F</td>\n",
       "      <td>KO/TKO</td>\n",
       "      <td>167.64</td>\n",
       "      <td>115.0</td>\n",
       "      <td>165.10</td>\n",
       "      <td>Orthodox</td>\n",
       "      <td>160.02</td>\n",
       "      <td>115.0</td>\n",
       "      <td>157.48</td>\n",
       "      <td>Orthodox</td>\n",
       "      <td>36</td>\n",
       "      <td>37</td>\n",
       "      <td>9</td>\n",
       "      <td>13</td>\n",
       "      <td>6</td>\n",
       "      <td>6</td>\n",
       "      <td>3</td>\n",
       "      <td>7</td>\n",
       "    </tr>\n",
       "    <tr>\n",
       "      <th>3</th>\n",
       "      <td>7215</td>\n",
       "      <td>3831.0</td>\n",
       "      <td>2974.0</td>\n",
       "      <td>2</td>\n",
       "      <td>3</td>\n",
       "      <td>F</td>\n",
       "      <td>Welterweight</td>\n",
       "      <td>M</td>\n",
       "      <td>Submission</td>\n",
       "      <td>185.42</td>\n",
       "      <td>170.0</td>\n",
       "      <td>195.58</td>\n",
       "      <td>Orthodox</td>\n",
       "      <td>177.80</td>\n",
       "      <td>170.0</td>\n",
       "      <td>170.18</td>\n",
       "      <td>Switch</td>\n",
       "      <td>29</td>\n",
       "      <td>26</td>\n",
       "      <td>5</td>\n",
       "      <td>3</td>\n",
       "      <td>4</td>\n",
       "      <td>1</td>\n",
       "      <td>1</td>\n",
       "      <td>2</td>\n",
       "    </tr>\n",
       "    <tr>\n",
       "      <th>4</th>\n",
       "      <td>7214</td>\n",
       "      <td>1108.0</td>\n",
       "      <td>2320.0</td>\n",
       "      <td>1</td>\n",
       "      <td>3</td>\n",
       "      <td>F</td>\n",
       "      <td>Featherweight</td>\n",
       "      <td>M</td>\n",
       "      <td>Submission</td>\n",
       "      <td>175.26</td>\n",
       "      <td>145.0</td>\n",
       "      <td>182.88</td>\n",
       "      <td>Orthodox</td>\n",
       "      <td>175.26</td>\n",
       "      <td>145.0</td>\n",
       "      <td>175.26</td>\n",
       "      <td>Switch</td>\n",
       "      <td>28</td>\n",
       "      <td>27</td>\n",
       "      <td>10</td>\n",
       "      <td>10</td>\n",
       "      <td>7</td>\n",
       "      <td>5</td>\n",
       "      <td>3</td>\n",
       "      <td>5</td>\n",
       "    </tr>\n",
       "  </tbody>\n",
       "</table>\n",
       "</div>"
      ],
      "text/plain": [
       "   fight_id     f_2     f_1 winner num_rounds title_fight  \\\n",
       "0      7218  2976.0  2884.0      1          5           F   \n",
       "1      7217  1662.0  2464.0      2          3           F   \n",
       "2      7216   981.0   179.0      2          3           F   \n",
       "3      7215  3831.0  2974.0      2          3           F   \n",
       "4      7214  1108.0  2320.0      1          3           F   \n",
       "\n",
       "          weight_class gender      result  height_2  weight_2  reach_2  \\\n",
       "0          Lightweight      M      KO/TKO    172.72     155.0   180.34   \n",
       "1        Featherweight      M    Decision    177.80     145.0   177.80   \n",
       "2  Women's Strawweight      F      KO/TKO    167.64     115.0   165.10   \n",
       "3         Welterweight      M  Submission    185.42     170.0   195.58   \n",
       "4        Featherweight      M  Submission    175.26     145.0   182.88   \n",
       "\n",
       "   stance_2  height_1  weight_1  reach_1  stance_1  age_2  age_1  \\\n",
       "0    Switch    177.80     155.0   177.80  Southpaw     30     32   \n",
       "1  Southpaw    170.18     145.0   180.34  Orthodox     28     32   \n",
       "2  Orthodox    160.02     115.0   157.48  Orthodox     36     37   \n",
       "3  Orthodox    177.80     170.0   170.18    Switch     29     26   \n",
       "4  Orthodox    175.26     145.0   175.26    Switch     28     27   \n",
       "\n",
       "   total_fights_1  total_fights_2  wins_1  wins_2  loses_1  loses_2  \n",
       "0               8               7       6       5        2        2  \n",
       "1               7              14       6       9        1        5  \n",
       "2               9              13       6       6        3        7  \n",
       "3               5               3       4       1        1        2  \n",
       "4              10              10       7       5        3        5  "
      ]
     },
     "execution_count": 29,
     "metadata": {},
     "output_type": "execute_result"
    }
   ],
   "source": [
    "#duplicate dataset and invert f_1 and f_2\n",
    "duplicate = fights_data.copy()\n",
    "duplicate = duplicate.rename(columns = {'f_1':'f_2','f_2':'f_1','height_1':'height_2','height_2':'height_1',\n",
    "                                        'weight_1':'weight_2','weight_2':'weight_1','reach_1':'reach_2','reach_2':'reach_1',\n",
    "                                        'stance_1':'stance_2','stance_2':'stance_1','age_1':'age_2','age_2':'age_1'})\n",
    "\n",
    "for index, row in duplicate.iterrows():\n",
    "    if row['winner'] == '1':\n",
    "        duplicate.at[index, 'winner'] = '2'\n",
    "    elif row['winner'] == '2':\n",
    "        duplicate.at[index, 'winner'] = '1'\n",
    "        \n",
    "duplicate.head()"
   ]
  },
  {
   "cell_type": "code",
   "execution_count": 30,
   "id": "5686b391",
   "metadata": {
    "execution": {
     "iopub.execute_input": "2023-12-01T20:57:46.228573Z",
     "iopub.status.busy": "2023-12-01T20:57:46.228170Z",
     "iopub.status.idle": "2023-12-01T20:57:46.265958Z",
     "shell.execute_reply": "2023-12-01T20:57:46.264596Z"
    },
    "papermill": {
     "duration": 0.063029,
     "end_time": "2023-12-01T20:57:46.268969",
     "exception": false,
     "start_time": "2023-12-01T20:57:46.205940",
     "status": "completed"
    },
    "tags": []
   },
   "outputs": [
    {
     "data": {
      "text/html": [
       "<div>\n",
       "<style scoped>\n",
       "    .dataframe tbody tr th:only-of-type {\n",
       "        vertical-align: middle;\n",
       "    }\n",
       "\n",
       "    .dataframe tbody tr th {\n",
       "        vertical-align: top;\n",
       "    }\n",
       "\n",
       "    .dataframe thead th {\n",
       "        text-align: right;\n",
       "    }\n",
       "</style>\n",
       "<table border=\"1\" class=\"dataframe\">\n",
       "  <thead>\n",
       "    <tr style=\"text-align: right;\">\n",
       "      <th></th>\n",
       "      <th>winner</th>\n",
       "      <th>num_rounds</th>\n",
       "      <th>title_fight</th>\n",
       "      <th>weight_class</th>\n",
       "      <th>height_1</th>\n",
       "      <th>weight_1</th>\n",
       "      <th>reach_1</th>\n",
       "      <th>stance_1</th>\n",
       "      <th>height_2</th>\n",
       "      <th>weight_2</th>\n",
       "      <th>reach_2</th>\n",
       "      <th>stance_2</th>\n",
       "      <th>age_1</th>\n",
       "      <th>age_2</th>\n",
       "      <th>wins_1</th>\n",
       "      <th>wins_2</th>\n",
       "      <th>loses_1</th>\n",
       "      <th>loses_2</th>\n",
       "    </tr>\n",
       "  </thead>\n",
       "  <tbody>\n",
       "    <tr>\n",
       "      <th>0</th>\n",
       "      <td>2</td>\n",
       "      <td>5</td>\n",
       "      <td>F</td>\n",
       "      <td>Lightweight</td>\n",
       "      <td>172.72</td>\n",
       "      <td>155.0</td>\n",
       "      <td>180.34</td>\n",
       "      <td>Switch</td>\n",
       "      <td>177.80</td>\n",
       "      <td>155.0</td>\n",
       "      <td>177.80</td>\n",
       "      <td>Southpaw</td>\n",
       "      <td>30</td>\n",
       "      <td>32</td>\n",
       "      <td>6</td>\n",
       "      <td>5</td>\n",
       "      <td>2</td>\n",
       "      <td>2</td>\n",
       "    </tr>\n",
       "    <tr>\n",
       "      <th>1</th>\n",
       "      <td>1</td>\n",
       "      <td>3</td>\n",
       "      <td>F</td>\n",
       "      <td>Featherweight</td>\n",
       "      <td>177.80</td>\n",
       "      <td>145.0</td>\n",
       "      <td>177.80</td>\n",
       "      <td>Southpaw</td>\n",
       "      <td>170.18</td>\n",
       "      <td>145.0</td>\n",
       "      <td>180.34</td>\n",
       "      <td>Orthodox</td>\n",
       "      <td>28</td>\n",
       "      <td>32</td>\n",
       "      <td>6</td>\n",
       "      <td>9</td>\n",
       "      <td>1</td>\n",
       "      <td>5</td>\n",
       "    </tr>\n",
       "    <tr>\n",
       "      <th>2</th>\n",
       "      <td>1</td>\n",
       "      <td>3</td>\n",
       "      <td>F</td>\n",
       "      <td>Women's Strawweight</td>\n",
       "      <td>167.64</td>\n",
       "      <td>115.0</td>\n",
       "      <td>165.10</td>\n",
       "      <td>Orthodox</td>\n",
       "      <td>160.02</td>\n",
       "      <td>115.0</td>\n",
       "      <td>157.48</td>\n",
       "      <td>Orthodox</td>\n",
       "      <td>36</td>\n",
       "      <td>37</td>\n",
       "      <td>6</td>\n",
       "      <td>6</td>\n",
       "      <td>3</td>\n",
       "      <td>7</td>\n",
       "    </tr>\n",
       "    <tr>\n",
       "      <th>3</th>\n",
       "      <td>1</td>\n",
       "      <td>3</td>\n",
       "      <td>F</td>\n",
       "      <td>Welterweight</td>\n",
       "      <td>185.42</td>\n",
       "      <td>170.0</td>\n",
       "      <td>195.58</td>\n",
       "      <td>Orthodox</td>\n",
       "      <td>177.80</td>\n",
       "      <td>170.0</td>\n",
       "      <td>170.18</td>\n",
       "      <td>Switch</td>\n",
       "      <td>29</td>\n",
       "      <td>26</td>\n",
       "      <td>4</td>\n",
       "      <td>1</td>\n",
       "      <td>1</td>\n",
       "      <td>2</td>\n",
       "    </tr>\n",
       "    <tr>\n",
       "      <th>4</th>\n",
       "      <td>2</td>\n",
       "      <td>3</td>\n",
       "      <td>F</td>\n",
       "      <td>Featherweight</td>\n",
       "      <td>175.26</td>\n",
       "      <td>145.0</td>\n",
       "      <td>182.88</td>\n",
       "      <td>Orthodox</td>\n",
       "      <td>175.26</td>\n",
       "      <td>145.0</td>\n",
       "      <td>175.26</td>\n",
       "      <td>Switch</td>\n",
       "      <td>28</td>\n",
       "      <td>27</td>\n",
       "      <td>7</td>\n",
       "      <td>5</td>\n",
       "      <td>3</td>\n",
       "      <td>5</td>\n",
       "    </tr>\n",
       "  </tbody>\n",
       "</table>\n",
       "</div>"
      ],
      "text/plain": [
       "  winner num_rounds title_fight         weight_class  height_1  weight_1  \\\n",
       "0      2          5           F          Lightweight    172.72     155.0   \n",
       "1      1          3           F        Featherweight    177.80     145.0   \n",
       "2      1          3           F  Women's Strawweight    167.64     115.0   \n",
       "3      1          3           F         Welterweight    185.42     170.0   \n",
       "4      2          3           F        Featherweight    175.26     145.0   \n",
       "\n",
       "   reach_1  stance_1  height_2  weight_2  reach_2  stance_2  age_1  age_2  \\\n",
       "0   180.34    Switch    177.80     155.0   177.80  Southpaw     30     32   \n",
       "1   177.80  Southpaw    170.18     145.0   180.34  Orthodox     28     32   \n",
       "2   165.10  Orthodox    160.02     115.0   157.48  Orthodox     36     37   \n",
       "3   195.58  Orthodox    177.80     170.0   170.18    Switch     29     26   \n",
       "4   182.88  Orthodox    175.26     145.0   175.26    Switch     28     27   \n",
       "\n",
       "   wins_1  wins_2  loses_1  loses_2  \n",
       "0       6       5        2        2  \n",
       "1       6       9        1        5  \n",
       "2       6       6        3        7  \n",
       "3       4       1        1        2  \n",
       "4       7       5        3        5  "
      ]
     },
     "execution_count": 30,
     "metadata": {},
     "output_type": "execute_result"
    }
   ],
   "source": [
    "dataset = pd.concat([fights_data,duplicate])\n",
    "dataset = dataset.drop(['fight_id','result','gender','f_1','f_2','total_fights_1','total_fights_2'], axis = 1)\n",
    "dataset.head()"
   ]
  },
  {
   "cell_type": "code",
   "execution_count": 31,
   "id": "f9c559ed",
   "metadata": {
    "execution": {
     "iopub.execute_input": "2023-12-01T20:57:46.308988Z",
     "iopub.status.busy": "2023-12-01T20:57:46.308533Z",
     "iopub.status.idle": "2023-12-01T20:57:46.321694Z",
     "shell.execute_reply": "2023-12-01T20:57:46.320266Z"
    },
    "papermill": {
     "duration": 0.03718,
     "end_time": "2023-12-01T20:57:46.325124",
     "exception": false,
     "start_time": "2023-12-01T20:57:46.287944",
     "status": "completed"
    },
    "tags": []
   },
   "outputs": [
    {
     "data": {
      "text/plain": [
       "2    0.5\n",
       "1    0.5\n",
       "Name: winner, dtype: float64"
      ]
     },
     "execution_count": 31,
     "metadata": {},
     "output_type": "execute_result"
    }
   ],
   "source": [
    "dataset.winner.value_counts()/len(dataset)"
   ]
  },
  {
   "cell_type": "code",
   "execution_count": 32,
   "id": "6783a9e2",
   "metadata": {
    "execution": {
     "iopub.execute_input": "2023-12-01T20:57:46.367687Z",
     "iopub.status.busy": "2023-12-01T20:57:46.367272Z",
     "iopub.status.idle": "2023-12-01T20:57:46.777585Z",
     "shell.execute_reply": "2023-12-01T20:57:46.775948Z"
    },
    "papermill": {
     "duration": 0.436416,
     "end_time": "2023-12-01T20:57:46.781811",
     "exception": false,
     "start_time": "2023-12-01T20:57:46.345395",
     "status": "completed"
    },
    "tags": []
   },
   "outputs": [],
   "source": [
    "#spliting data\n",
    "from sklearn.model_selection import StratifiedShuffleSplit\n",
    "from sklearn.model_selection import train_test_split\n",
    "\n",
    "splitter = StratifiedShuffleSplit(n_splits=5, test_size=0.15, random_state=42)\n",
    "strat_splits = []\n",
    "for train_index, test_index in splitter.split(dataset, dataset[\"winner\"]):\n",
    "    strat_train_set_n = dataset.iloc[train_index]\n",
    "    strat_test_set_n = dataset.iloc[test_index]\n",
    "    strat_splits.append([strat_train_set_n, strat_test_set_n])\n",
    "\n",
    "strat_train_set, strat_test_set = strat_splits[0]\n",
    "strat_train_set, strat_test_set = train_test_split(dataset, test_size=0.15, stratify=dataset[\"winner\"], random_state=42)"
   ]
  },
  {
   "cell_type": "code",
   "execution_count": 33,
   "id": "da2394b0",
   "metadata": {
    "execution": {
     "iopub.execute_input": "2023-12-01T20:57:46.822667Z",
     "iopub.status.busy": "2023-12-01T20:57:46.822274Z",
     "iopub.status.idle": "2023-12-01T20:57:46.834787Z",
     "shell.execute_reply": "2023-12-01T20:57:46.833333Z"
    },
    "papermill": {
     "duration": 0.036098,
     "end_time": "2023-12-01T20:57:46.837490",
     "exception": false,
     "start_time": "2023-12-01T20:57:46.801392",
     "status": "completed"
    },
    "tags": []
   },
   "outputs": [
    {
     "data": {
      "text/plain": [
       "12216"
      ]
     },
     "execution_count": 33,
     "metadata": {},
     "output_type": "execute_result"
    }
   ],
   "source": [
    "fights = strat_train_set.drop(\"winner\", axis=1)\n",
    "fights_labels = strat_train_set[\"winner\"].copy()\n",
    "len(fights_labels)"
   ]
  },
  {
   "cell_type": "markdown",
   "id": "7fed57fb",
   "metadata": {
    "papermill": {
     "duration": 0.0189,
     "end_time": "2023-12-01T20:57:46.875450",
     "exception": false,
     "start_time": "2023-12-01T20:57:46.856550",
     "status": "completed"
    },
    "tags": []
   },
   "source": [
    "Creating Pipelines"
   ]
  },
  {
   "cell_type": "code",
   "execution_count": 34,
   "id": "4c0e4422",
   "metadata": {
    "execution": {
     "iopub.execute_input": "2023-12-01T20:57:46.915914Z",
     "iopub.status.busy": "2023-12-01T20:57:46.915492Z",
     "iopub.status.idle": "2023-12-01T20:57:47.211192Z",
     "shell.execute_reply": "2023-12-01T20:57:47.209025Z"
    },
    "papermill": {
     "duration": 0.3204,
     "end_time": "2023-12-01T20:57:47.214862",
     "exception": false,
     "start_time": "2023-12-01T20:57:46.894462",
     "status": "completed"
    },
    "tags": []
   },
   "outputs": [
    {
     "data": {
      "text/html": [
       "<style>#sk-container-id-1 {color: black;background-color: white;}#sk-container-id-1 pre{padding: 0;}#sk-container-id-1 div.sk-toggleable {background-color: white;}#sk-container-id-1 label.sk-toggleable__label {cursor: pointer;display: block;width: 100%;margin-bottom: 0;padding: 0.3em;box-sizing: border-box;text-align: center;}#sk-container-id-1 label.sk-toggleable__label-arrow:before {content: \"▸\";float: left;margin-right: 0.25em;color: #696969;}#sk-container-id-1 label.sk-toggleable__label-arrow:hover:before {color: black;}#sk-container-id-1 div.sk-estimator:hover label.sk-toggleable__label-arrow:before {color: black;}#sk-container-id-1 div.sk-toggleable__content {max-height: 0;max-width: 0;overflow: hidden;text-align: left;background-color: #f0f8ff;}#sk-container-id-1 div.sk-toggleable__content pre {margin: 0.2em;color: black;border-radius: 0.25em;background-color: #f0f8ff;}#sk-container-id-1 input.sk-toggleable__control:checked~div.sk-toggleable__content {max-height: 200px;max-width: 100%;overflow: auto;}#sk-container-id-1 input.sk-toggleable__control:checked~label.sk-toggleable__label-arrow:before {content: \"▾\";}#sk-container-id-1 div.sk-estimator input.sk-toggleable__control:checked~label.sk-toggleable__label {background-color: #d4ebff;}#sk-container-id-1 div.sk-label input.sk-toggleable__control:checked~label.sk-toggleable__label {background-color: #d4ebff;}#sk-container-id-1 input.sk-hidden--visually {border: 0;clip: rect(1px 1px 1px 1px);clip: rect(1px, 1px, 1px, 1px);height: 1px;margin: -1px;overflow: hidden;padding: 0;position: absolute;width: 1px;}#sk-container-id-1 div.sk-estimator {font-family: monospace;background-color: #f0f8ff;border: 1px dotted black;border-radius: 0.25em;box-sizing: border-box;margin-bottom: 0.5em;}#sk-container-id-1 div.sk-estimator:hover {background-color: #d4ebff;}#sk-container-id-1 div.sk-parallel-item::after {content: \"\";width: 100%;border-bottom: 1px solid gray;flex-grow: 1;}#sk-container-id-1 div.sk-label:hover label.sk-toggleable__label {background-color: #d4ebff;}#sk-container-id-1 div.sk-serial::before {content: \"\";position: absolute;border-left: 1px solid gray;box-sizing: border-box;top: 0;bottom: 0;left: 50%;z-index: 0;}#sk-container-id-1 div.sk-serial {display: flex;flex-direction: column;align-items: center;background-color: white;padding-right: 0.2em;padding-left: 0.2em;position: relative;}#sk-container-id-1 div.sk-item {position: relative;z-index: 1;}#sk-container-id-1 div.sk-parallel {display: flex;align-items: stretch;justify-content: center;background-color: white;position: relative;}#sk-container-id-1 div.sk-item::before, #sk-container-id-1 div.sk-parallel-item::before {content: \"\";position: absolute;border-left: 1px solid gray;box-sizing: border-box;top: 0;bottom: 0;left: 50%;z-index: -1;}#sk-container-id-1 div.sk-parallel-item {display: flex;flex-direction: column;z-index: 1;position: relative;background-color: white;}#sk-container-id-1 div.sk-parallel-item:first-child::after {align-self: flex-end;width: 50%;}#sk-container-id-1 div.sk-parallel-item:last-child::after {align-self: flex-start;width: 50%;}#sk-container-id-1 div.sk-parallel-item:only-child::after {width: 0;}#sk-container-id-1 div.sk-dashed-wrapped {border: 1px dashed gray;margin: 0 0.4em 0.5em 0.4em;box-sizing: border-box;padding-bottom: 0.4em;background-color: white;}#sk-container-id-1 div.sk-label label {font-family: monospace;font-weight: bold;display: inline-block;line-height: 1.2em;}#sk-container-id-1 div.sk-label-container {text-align: center;}#sk-container-id-1 div.sk-container {/* jupyter's `normalize.less` sets `[hidden] { display: none; }` but bootstrap.min.css set `[hidden] { display: none !important; }` so we also need the `!important` here to be able to override the default hidden behavior on the sphinx rendered scikit-learn.org. See: https://github.com/scikit-learn/scikit-learn/issues/21755 */display: inline-block !important;position: relative;}#sk-container-id-1 div.sk-text-repr-fallback {display: none;}</style><div id=\"sk-container-id-1\" class=\"sk-top-container\"><div class=\"sk-text-repr-fallback\"><pre>Pipeline(steps=[(&#x27;simpleimputer&#x27;, SimpleImputer(strategy=&#x27;median&#x27;)),\n",
       "                (&#x27;standardscaler&#x27;, StandardScaler())])</pre><b>In a Jupyter environment, please rerun this cell to show the HTML representation or trust the notebook. <br />On GitHub, the HTML representation is unable to render, please try loading this page with nbviewer.org.</b></div><div class=\"sk-container\" hidden><div class=\"sk-item sk-dashed-wrapped\"><div class=\"sk-label-container\"><div class=\"sk-label sk-toggleable\"><input class=\"sk-toggleable__control sk-hidden--visually\" id=\"sk-estimator-id-1\" type=\"checkbox\" ><label for=\"sk-estimator-id-1\" class=\"sk-toggleable__label sk-toggleable__label-arrow\">Pipeline</label><div class=\"sk-toggleable__content\"><pre>Pipeline(steps=[(&#x27;simpleimputer&#x27;, SimpleImputer(strategy=&#x27;median&#x27;)),\n",
       "                (&#x27;standardscaler&#x27;, StandardScaler())])</pre></div></div></div><div class=\"sk-serial\"><div class=\"sk-item\"><div class=\"sk-estimator sk-toggleable\"><input class=\"sk-toggleable__control sk-hidden--visually\" id=\"sk-estimator-id-2\" type=\"checkbox\" ><label for=\"sk-estimator-id-2\" class=\"sk-toggleable__label sk-toggleable__label-arrow\">SimpleImputer</label><div class=\"sk-toggleable__content\"><pre>SimpleImputer(strategy=&#x27;median&#x27;)</pre></div></div></div><div class=\"sk-item\"><div class=\"sk-estimator sk-toggleable\"><input class=\"sk-toggleable__control sk-hidden--visually\" id=\"sk-estimator-id-3\" type=\"checkbox\" ><label for=\"sk-estimator-id-3\" class=\"sk-toggleable__label sk-toggleable__label-arrow\">StandardScaler</label><div class=\"sk-toggleable__content\"><pre>StandardScaler()</pre></div></div></div></div></div></div></div>"
      ],
      "text/plain": [
       "Pipeline(steps=[('simpleimputer', SimpleImputer(strategy='median')),\n",
       "                ('standardscaler', StandardScaler())])"
      ]
     },
     "execution_count": 34,
     "metadata": {},
     "output_type": "execute_result"
    }
   ],
   "source": [
    "from sklearn.preprocessing import StandardScaler\n",
    "from sklearn.impute import SimpleImputer\n",
    "from sklearn.pipeline import Pipeline\n",
    "from sklearn import set_config\n",
    "\n",
    "from sklearn.pipeline import make_pipeline\n",
    "\n",
    "num_pipeline = make_pipeline(SimpleImputer(strategy=\"median\"), StandardScaler())\n",
    "num_pipeline"
   ]
  },
  {
   "cell_type": "code",
   "execution_count": 35,
   "id": "32613699",
   "metadata": {
    "execution": {
     "iopub.execute_input": "2023-12-01T20:57:47.255766Z",
     "iopub.status.busy": "2023-12-01T20:57:47.255334Z",
     "iopub.status.idle": "2023-12-01T20:57:47.281334Z",
     "shell.execute_reply": "2023-12-01T20:57:47.279669Z"
    },
    "papermill": {
     "duration": 0.050239,
     "end_time": "2023-12-01T20:57:47.284316",
     "exception": false,
     "start_time": "2023-12-01T20:57:47.234077",
     "status": "completed"
    },
    "tags": []
   },
   "outputs": [
    {
     "data": {
      "text/html": [
       "<div>\n",
       "<style scoped>\n",
       "    .dataframe tbody tr th:only-of-type {\n",
       "        vertical-align: middle;\n",
       "    }\n",
       "\n",
       "    .dataframe tbody tr th {\n",
       "        vertical-align: top;\n",
       "    }\n",
       "\n",
       "    .dataframe thead th {\n",
       "        text-align: right;\n",
       "    }\n",
       "</style>\n",
       "<table border=\"1\" class=\"dataframe\">\n",
       "  <thead>\n",
       "    <tr style=\"text-align: right;\">\n",
       "      <th></th>\n",
       "      <th>num_rounds</th>\n",
       "      <th>title_fight</th>\n",
       "      <th>weight_class</th>\n",
       "      <th>height_1</th>\n",
       "      <th>weight_1</th>\n",
       "      <th>reach_1</th>\n",
       "      <th>stance_1</th>\n",
       "      <th>height_2</th>\n",
       "      <th>weight_2</th>\n",
       "      <th>reach_2</th>\n",
       "      <th>stance_2</th>\n",
       "      <th>age_1</th>\n",
       "      <th>age_2</th>\n",
       "      <th>wins_1</th>\n",
       "      <th>wins_2</th>\n",
       "      <th>loses_1</th>\n",
       "      <th>loses_2</th>\n",
       "    </tr>\n",
       "  </thead>\n",
       "  <tbody>\n",
       "    <tr>\n",
       "      <th>7111</th>\n",
       "      <td>3</td>\n",
       "      <td>F</td>\n",
       "      <td>Open Weight</td>\n",
       "      <td>180.34</td>\n",
       "      <td>230.0</td>\n",
       "      <td>187.234286</td>\n",
       "      <td>Orthodox</td>\n",
       "      <td>182.88</td>\n",
       "      <td>265.0</td>\n",
       "      <td>187.234286</td>\n",
       "      <td>Switch</td>\n",
       "      <td>15</td>\n",
       "      <td>15</td>\n",
       "      <td>4</td>\n",
       "      <td>1</td>\n",
       "      <td>3</td>\n",
       "      <td>1</td>\n",
       "    </tr>\n",
       "    <tr>\n",
       "      <th>409</th>\n",
       "      <td>3</td>\n",
       "      <td>F</td>\n",
       "      <td>Lightweight</td>\n",
       "      <td>177.80</td>\n",
       "      <td>155.0</td>\n",
       "      <td>180.340000</td>\n",
       "      <td>Orthodox</td>\n",
       "      <td>172.72</td>\n",
       "      <td>155.0</td>\n",
       "      <td>177.800000</td>\n",
       "      <td>Southpaw</td>\n",
       "      <td>36</td>\n",
       "      <td>34</td>\n",
       "      <td>11</td>\n",
       "      <td>10</td>\n",
       "      <td>7</td>\n",
       "      <td>8</td>\n",
       "    </tr>\n",
       "    <tr>\n",
       "      <th>6405</th>\n",
       "      <td>3</td>\n",
       "      <td>F</td>\n",
       "      <td>Lightweight</td>\n",
       "      <td>167.64</td>\n",
       "      <td>135.0</td>\n",
       "      <td>172.720000</td>\n",
       "      <td>Orthodox</td>\n",
       "      <td>170.18</td>\n",
       "      <td>155.0</td>\n",
       "      <td>172.720000</td>\n",
       "      <td>Southpaw</td>\n",
       "      <td>26</td>\n",
       "      <td>31</td>\n",
       "      <td>2</td>\n",
       "      <td>5</td>\n",
       "      <td>0</td>\n",
       "      <td>2</td>\n",
       "    </tr>\n",
       "    <tr>\n",
       "      <th>583</th>\n",
       "      <td>3</td>\n",
       "      <td>F</td>\n",
       "      <td>Flyweight</td>\n",
       "      <td>170.18</td>\n",
       "      <td>125.0</td>\n",
       "      <td>185.420000</td>\n",
       "      <td>Southpaw</td>\n",
       "      <td>170.18</td>\n",
       "      <td>125.0</td>\n",
       "      <td>172.720000</td>\n",
       "      <td>Orthodox</td>\n",
       "      <td>30</td>\n",
       "      <td>38</td>\n",
       "      <td>3</td>\n",
       "      <td>2</td>\n",
       "      <td>2</td>\n",
       "      <td>3</td>\n",
       "    </tr>\n",
       "    <tr>\n",
       "      <th>2776</th>\n",
       "      <td>3</td>\n",
       "      <td>F</td>\n",
       "      <td>Middleweight</td>\n",
       "      <td>190.50</td>\n",
       "      <td>185.0</td>\n",
       "      <td>203.200000</td>\n",
       "      <td>Orthodox</td>\n",
       "      <td>193.04</td>\n",
       "      <td>185.0</td>\n",
       "      <td>203.200000</td>\n",
       "      <td>Switch</td>\n",
       "      <td>25</td>\n",
       "      <td>28</td>\n",
       "      <td>0</td>\n",
       "      <td>0</td>\n",
       "      <td>1</td>\n",
       "      <td>0</td>\n",
       "    </tr>\n",
       "  </tbody>\n",
       "</table>\n",
       "</div>"
      ],
      "text/plain": [
       "     num_rounds title_fight  weight_class  height_1  weight_1     reach_1  \\\n",
       "7111          3           F   Open Weight    180.34     230.0  187.234286   \n",
       "409           3           F   Lightweight    177.80     155.0  180.340000   \n",
       "6405          3           F   Lightweight    167.64     135.0  172.720000   \n",
       "583           3           F     Flyweight    170.18     125.0  185.420000   \n",
       "2776          3           F  Middleweight    190.50     185.0  203.200000   \n",
       "\n",
       "      stance_1  height_2  weight_2     reach_2  stance_2  age_1  age_2  \\\n",
       "7111  Orthodox    182.88     265.0  187.234286    Switch     15     15   \n",
       "409   Orthodox    172.72     155.0  177.800000  Southpaw     36     34   \n",
       "6405  Orthodox    170.18     155.0  172.720000  Southpaw     26     31   \n",
       "583   Southpaw    170.18     125.0  172.720000  Orthodox     30     38   \n",
       "2776  Orthodox    193.04     185.0  203.200000    Switch     25     28   \n",
       "\n",
       "      wins_1  wins_2  loses_1  loses_2  \n",
       "7111       4       1        3        1  \n",
       "409       11      10        7        8  \n",
       "6405       2       5        0        2  \n",
       "583        3       2        2        3  \n",
       "2776       0       0        1        0  "
      ]
     },
     "execution_count": 35,
     "metadata": {},
     "output_type": "execute_result"
    }
   ],
   "source": [
    "fights.head()"
   ]
  },
  {
   "cell_type": "code",
   "execution_count": 36,
   "id": "57d82492",
   "metadata": {
    "execution": {
     "iopub.execute_input": "2023-12-01T20:57:47.325757Z",
     "iopub.status.busy": "2023-12-01T20:57:47.325094Z",
     "iopub.status.idle": "2023-12-01T20:57:47.348597Z",
     "shell.execute_reply": "2023-12-01T20:57:47.346820Z"
    },
    "papermill": {
     "duration": 0.047834,
     "end_time": "2023-12-01T20:57:47.351645",
     "exception": false,
     "start_time": "2023-12-01T20:57:47.303811",
     "status": "completed"
    },
    "tags": []
   },
   "outputs": [],
   "source": [
    "from sklearn.compose import ColumnTransformer\n",
    "from sklearn.preprocessing import OneHotEncoder\n",
    "\n",
    "num_attribs = [\"height_1\", \"height_2\", \"weight_1\", \"weight_2\",\n",
    "               \"reach_1\", \"reach_2\", \"age_1\", \"age_2\", \"wins_1\",\"wins_2\",\"loses_1\",\"loses_2\"]\n",
    "cat_attribs = [\"num_rounds\", \"title_fight\", \"weight_class\", \"stance_1\",\"stance_2\",\n",
    "               \"reach_1\", \"reach_2\", \"age_1\", \"age_2\", \"wins_1\",\"wins_2\",\"loses_1\",\"loses_2\"]\n",
    "\n",
    "cat_pipeline = make_pipeline(\n",
    "    SimpleImputer(strategy=\"most_frequent\"),\n",
    "    OneHotEncoder(handle_unknown=\"ignore\"))\n",
    "\n",
    "preprocessing = ColumnTransformer([\n",
    "    (\"num\", num_pipeline, num_attribs),\n",
    "    (\"cat\", cat_pipeline, cat_attribs),\n",
    "])"
   ]
  },
  {
   "cell_type": "code",
   "execution_count": 37,
   "id": "01546b14",
   "metadata": {
    "execution": {
     "iopub.execute_input": "2023-12-01T20:57:47.392548Z",
     "iopub.status.busy": "2023-12-01T20:57:47.392049Z",
     "iopub.status.idle": "2023-12-01T20:57:47.603079Z",
     "shell.execute_reply": "2023-12-01T20:57:47.601728Z"
    },
    "papermill": {
     "duration": 0.234805,
     "end_time": "2023-12-01T20:57:47.605910",
     "exception": false,
     "start_time": "2023-12-01T20:57:47.371105",
     "status": "completed"
    },
    "tags": []
   },
   "outputs": [],
   "source": [
    "fights_prepared = preprocessing.fit_transform(fights)"
   ]
  },
  {
   "cell_type": "code",
   "execution_count": 38,
   "id": "a3fe529f",
   "metadata": {
    "execution": {
     "iopub.execute_input": "2023-12-01T20:57:47.646173Z",
     "iopub.status.busy": "2023-12-01T20:57:47.645750Z",
     "iopub.status.idle": "2023-12-01T20:57:47.658709Z",
     "shell.execute_reply": "2023-12-01T20:57:47.657260Z"
    },
    "papermill": {
     "duration": 0.036201,
     "end_time": "2023-12-01T20:57:47.661437",
     "exception": false,
     "start_time": "2023-12-01T20:57:47.625236",
     "status": "completed"
    },
    "tags": []
   },
   "outputs": [
    {
     "data": {
      "text/plain": [
       "2    0.5\n",
       "1    0.5\n",
       "Name: winner, dtype: float64"
      ]
     },
     "execution_count": 38,
     "metadata": {},
     "output_type": "execute_result"
    }
   ],
   "source": [
    "strat_train_set.winner.value_counts()/len(strat_train_set)"
   ]
  },
  {
   "cell_type": "code",
   "execution_count": 39,
   "id": "22815e13",
   "metadata": {
    "execution": {
     "iopub.execute_input": "2023-12-01T20:57:47.702168Z",
     "iopub.status.busy": "2023-12-01T20:57:47.701649Z",
     "iopub.status.idle": "2023-12-01T20:57:51.747403Z",
     "shell.execute_reply": "2023-12-01T20:57:51.745618Z"
    },
    "papermill": {
     "duration": 4.069421,
     "end_time": "2023-12-01T20:57:51.750048",
     "exception": false,
     "start_time": "2023-12-01T20:57:47.680627",
     "status": "completed"
    },
    "tags": []
   },
   "outputs": [
    {
     "data": {
      "image/png": "[encoded data removed]",
      "text/plain": [
       "<Figure size 1200x800 with 20 Axes>"
      ]
     },
     "metadata": {},
     "output_type": "display_data"
    }
   ],
   "source": [
    "plt.rc('font', size=14)\n",
    "plt.rc('axes', labelsize=14, titlesize=14)\n",
    "plt.rc('legend', fontsize=14)\n",
    "plt.rc('xtick', labelsize=10)\n",
    "plt.rc('ytick', labelsize=10)\n",
    "\n",
    "fights_data.hist(bins=50, figsize=(12, 8))\n",
    "plt.show()"
   ]
  },
  {
   "cell_type": "code",
   "execution_count": 40,
   "id": "15b2656a",
   "metadata": {
    "execution": {
     "iopub.execute_input": "2023-12-01T20:57:51.794969Z",
     "iopub.status.busy": "2023-12-01T20:57:51.793421Z",
     "iopub.status.idle": "2023-12-01T20:57:51.800179Z",
     "shell.execute_reply": "2023-12-01T20:57:51.798524Z"
    },
    "papermill": {
     "duration": 0.031284,
     "end_time": "2023-12-01T20:57:51.802722",
     "exception": false,
     "start_time": "2023-12-01T20:57:51.771438",
     "status": "completed"
    },
    "tags": []
   },
   "outputs": [],
   "source": [
    "#transform text values\n"
   ]
  },
  {
   "cell_type": "code",
   "execution_count": 41,
   "id": "e1d5631a",
   "metadata": {
    "execution": {
     "iopub.execute_input": "2023-12-01T20:57:51.847847Z",
     "iopub.status.busy": "2023-12-01T20:57:51.847415Z",
     "iopub.status.idle": "2023-12-01T20:57:51.852582Z",
     "shell.execute_reply": "2023-12-01T20:57:51.851117Z"
    },
    "papermill": {
     "duration": 0.030796,
     "end_time": "2023-12-01T20:57:51.855049",
     "exception": false,
     "start_time": "2023-12-01T20:57:51.824253",
     "status": "completed"
    },
    "tags": []
   },
   "outputs": [],
   "source": [
    "#scaling"
   ]
  },
  {
   "cell_type": "code",
   "execution_count": 42,
   "id": "94067ef5",
   "metadata": {
    "execution": {
     "iopub.execute_input": "2023-12-01T20:57:51.899268Z",
     "iopub.status.busy": "2023-12-01T20:57:51.898359Z",
     "iopub.status.idle": "2023-12-01T20:57:51.904792Z",
     "shell.execute_reply": "2023-12-01T20:57:51.903370Z"
    },
    "papermill": {
     "duration": 0.031912,
     "end_time": "2023-12-01T20:57:51.907718",
     "exception": false,
     "start_time": "2023-12-01T20:57:51.875806",
     "status": "completed"
    },
    "tags": []
   },
   "outputs": [],
   "source": [
    "def fighter_name(id):\n",
    "    return ufc_fighters.loc[ufc_fighters.fighter_id == id].fighter_f_name + ' ' + ufc_fighters.loc[ufc_fighters.fighter_id == id].fighter_l_name"
   ]
  }
 ],
 "metadata": {
  "kaggle": {
   "accelerator": "none",
   "dataSources": [
    {
     "datasetId": 3530899,
     "sourceId": 6608554,
     "sourceType": "datasetVersion"
    }
   ],
   "dockerImageVersionId": 30527,
   "isGpuEnabled": false,
   "isInternetEnabled": false,
   "language": "python",
   "sourceType": "notebook"
  },
  "kernelspec": {
   "display_name": "Python 3",
   "language": "python",
   "name": "python3"
  },
  "language_info": {
   "codemirror_mode": {
    "name": "ipython",
    "version": 3
   },
   "file_extension": ".py",
   "mimetype": "text/x-python",
   "name": "python",
   "nbconvert_exporter": "python",
   "pygments_lexer": "ipython3",
   "version": "3.10.12"
  },
  "papermill": {
   "default_parameters": {},
   "duration": 89.321009,
   "end_time": "2023-12-01T20:57:53.356518",
   "environment_variables": {},
   "exception": null,
   "input_path": "__notebook__.ipynb",
   "output_path": "__notebook__.ipynb",
   "parameters": {},
   "start_time": "2023-12-01T20:56:24.035509",
   "version": "2.4.0"
  }
 },
 "nbformat": 4,
 "nbformat_minor": 5
}
