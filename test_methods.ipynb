{
 "cells": [
  {
   "cell_type": "code",
   "execution_count": 3,
   "metadata": {},
   "outputs": [],
   "source": [
    "import pandas as pd\n",
    "import numpy as np\n",
    "import datetime\n",
    "\n",
    "#Loads data from csv file to Pandas dataframe\n",
    "ufc_events = pd.read_csv('csv_data/ufc_event_data.csv', parse_dates = ['event_date'])\n",
    "ufc_fights = pd.read_csv('csv_data/ufc_fight_data.csv')\n",
    "ufc_fighters = pd.read_csv('csv_data/ufc_fighter_data.csv', parse_dates = ['fighter_dob'])\n",
    "pd.options.display.max_columns = None"
   ]
  },
  {
   "cell_type": "code",
   "execution_count": 4,
   "metadata": {},
   "outputs": [],
   "source": [
    "fighters_data = ufc_fighters[['fighter_id','fighter_height_cm','fighter_weight_lbs','fighter_reach_cm','fighter_stance']]\n"
   ]
  }
 ],
 "metadata": {
  "kernelspec": {
   "display_name": "ml",
   "language": "python",
   "name": "python3"
  },
  "language_info": {
   "codemirror_mode": {
    "name": "ipython",
    "version": 3
   },
   "file_extension": ".py",
   "mimetype": "text/x-python",
   "name": "python",
   "nbconvert_exporter": "python",
   "pygments_lexer": "ipython3",
   "version": "3.11.5"
  }
 },
 "nbformat": 4,
 "nbformat_minor": 2
}
