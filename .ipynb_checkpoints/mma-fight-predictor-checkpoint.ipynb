{
 "cells": [
  {
   "cell_type": "code",
   "execution_count": 1,
   "metadata": {},
   "outputs": [],
   "source": [
    "#Import libraries for loading dataset from csv file\n",
    "import pandas as pd\n",
    "\n",
    "#Import libraries for data analysis and visualisation.\n",
    "import numpy as np\n",
    "import matplotlib.pyplot as plt\n",
    "import datetime\n",
    "\n",
    "#Changes pyplot style to Seaborn for better visualisations\n",
    "plt.style.use('seaborn-v0_8')\n",
    "\n",
    "#Loads data from csv file to Pandas dataframe\n",
    "ufc_events = pd.read_csv('csv_data/ufc_event_data.csv', parse_dates = ['event_date'])\n",
    "ufc_fights = pd.read_csv('csv_data/ufc_fight_data.csv')\n",
    "ufc_fighters = pd.read_csv('csv_data/ufc_fighter_data.csv', parse_dates = ['fighter_dob'])\n",
    "ufc_fight_stats = pd.read_csv('csv_data/ufc_fight_stat_data.csv')\n",
    "pd.options.display.max_columns = None"
   ]
  },
  {
   "cell_type": "code",
   "execution_count": 2,
   "metadata": {},
   "outputs": [],
   "source": [
    "events_date = ufc_events[['event_id','event_date']]\n",
    "fighters_data = ufc_fighters[['fighter_id','fighter_height_cm','fighter_weight_lbs','fighter_reach_cm','fighter_stance']]\n",
    "fighters_data = fighters_data.rename(columns = {'fighter_id':'f_1'})\n",
    "\n",
    "fights_data = ufc_fights.copy()"
   ]
  },
  {
   "cell_type": "code",
   "execution_count": 3,
   "metadata": {},
   "outputs": [],
   "source": [
    "#join to event_date\n",
    "fights_data = pd.merge(fights_data, events_date, how='left', on='event_id')\n",
    "\n",
    "#join to fighters_data\n",
    "fights_data = pd.merge(fights_data, fighters_data, how='left', on='f_1')\n",
    "fighters_data = fighters_data.rename(columns = {'f_1':'f_2'})\n",
    "fights_data = pd.merge(fights_data, fighters_data, how='left', on='f_2')\n",
    "\n",
    "fights_data = fights_data.rename(columns = {'fighter_height_cm_x':'height_1','fighter_weight_lbs_x':'weight_1','fighter_reach_cm_x':'reach_1','fighter_stance_x':'stance_1'})\n",
    "fights_data = fights_data.rename(columns = {'fighter_height_cm_y':'height_2','fighter_weight_lbs_y':'weight_2','fighter_reach_cm_y':'reach_2','fighter_stance_y':'stance_2'})"
   ]
  },
  {
   "cell_type": "code",
   "execution_count": 4,
   "metadata": {},
   "outputs": [],
   "source": [
    "fights_data = fights_data.rename(columns = {'fighter_height_cm_x':'height_1','fighter_weight_lbs_x':'weight_1','fighter_reach_cm_x':'reach_1','fighter_stance_x':'stance_1'})\n",
    "fights_data = fights_data.rename(columns = {'fighter_height_cm_y':'height_2','fighter_weight_lbs_y':'weight_2','fighter_reach_cm_y':'reach_2','fighter_stance_y':'stance_2'})"
   ]
  },
  {
   "cell_type": "code",
   "execution_count": 5,
   "metadata": {},
   "outputs": [],
   "source": [
    "#add date from ufc_events to ufc_fights\n",
    "fights_data = fights_data.drop(['referee','fight_url','result_details','event_id'], axis=1)"
   ]
  },
  {
   "cell_type": "code",
   "execution_count": 6,
   "metadata": {},
   "outputs": [],
   "source": [
    "#drop null f_1 and f_2\n",
    "fights_data.dropna(subset=['f_1'], inplace=True)\n",
    "fights_data.dropna(subset=['f_2'], inplace=True)"
   ]
  },
  {
   "cell_type": "code",
   "execution_count": 7,
   "metadata": {},
   "outputs": [
    {
     "data": {
      "text/html": [
       "<div>\n",
       "<style scoped>\n",
       "    .dataframe tbody tr th:only-of-type {\n",
       "        vertical-align: middle;\n",
       "    }\n",
       "\n",
       "    .dataframe tbody tr th {\n",
       "        vertical-align: top;\n",
       "    }\n",
       "\n",
       "    .dataframe thead th {\n",
       "        text-align: right;\n",
       "    }\n",
       "</style>\n",
       "<table border=\"1\" class=\"dataframe\">\n",
       "  <thead>\n",
       "    <tr style=\"text-align: right;\">\n",
       "      <th></th>\n",
       "      <th>fight_id</th>\n",
       "      <th>f_1</th>\n",
       "      <th>f_2</th>\n",
       "      <th>winner</th>\n",
       "      <th>num_rounds</th>\n",
       "      <th>title_fight</th>\n",
       "      <th>weight_class</th>\n",
       "      <th>gender</th>\n",
       "      <th>result</th>\n",
       "      <th>finish_round</th>\n",
       "      <th>finish_time</th>\n",
       "      <th>event_date</th>\n",
       "      <th>height_1</th>\n",
       "      <th>weight_1</th>\n",
       "      <th>reach_1</th>\n",
       "      <th>stance_1</th>\n",
       "      <th>height_2</th>\n",
       "      <th>weight_2</th>\n",
       "      <th>reach_2</th>\n",
       "      <th>stance_2</th>\n",
       "    </tr>\n",
       "  </thead>\n",
       "  <tbody>\n",
       "  </tbody>\n",
       "</table>\n",
       "</div>"
      ],
      "text/plain": [
       "Empty DataFrame\n",
       "Columns: [fight_id, f_1, f_2, winner, num_rounds, title_fight, weight_class, gender, result, finish_round, finish_time, event_date, height_1, weight_1, reach_1, stance_1, height_2, weight_2, reach_2, stance_2]\n",
       "Index: []"
      ]
     },
     "execution_count": 7,
     "metadata": {},
     "output_type": "execute_result"
    }
   ],
   "source": [
    "#verify if there is draws in our dataset\n",
    "fights_data.loc[(fights_data['winner'] != fights_data['f_1']) & (fights_data['winner'] != fights_data['f_2'])]"
   ]
  },
  {
   "cell_type": "code",
   "execution_count": 8,
   "metadata": {},
   "outputs": [
    {
     "name": "stdout",
     "output_type": "stream",
     "text": [
      "28\n"
     ]
    }
   ],
   "source": [
    "from dateutil import relativedelta\n",
    "import pandas as pd\n",
    "\n",
    "def fighter_age(f_id, date):\n",
    "    f_infos = ufc_fighters.loc[ufc_fighters['fighter_id'] == f_id]\n",
    "    event_date = pd.to_datetime(date, format='%Y-%m-%d')\n",
    "    fighter_dob = pd.to_datetime(f_infos['fighter_dob'].values[0], format='%Y-%m-%d')\n",
    "    age = relativedelta.relativedelta(event_date, fighter_dob)\n",
    "    return age.years\n",
    "\n",
    "test_age = fighter_age(fights_data.loc[1]['f_1'], fights_data.loc[1]['event_date'])\n",
    "print(test_age)"
   ]
  },
  {
   "cell_type": "code",
   "execution_count": 9,
   "metadata": {},
   "outputs": [],
   "source": [
    "#compute age for each fighter\n",
    "fights_data['age_1'] = 0\n",
    "fights_data['age_2'] = 0\n",
    "for i, r in fights_data.iterrows():\n",
    "    try:\n",
    "        fights_data.loc[i, 'age_1'] = fighter_age(r['f_1'], r['event_date'])\n",
    "        fights_data.loc[i, 'age_2'] = fighter_age(r['f_2'], r['event_date'])\n",
    "    except AssertionError:\n",
    "        exit(1)"
   ]
  },
  {
   "cell_type": "code",
   "execution_count": 10,
   "metadata": {},
   "outputs": [
    {
     "data": {
      "text/plain": [
       "30"
      ]
     },
     "execution_count": 10,
     "metadata": {},
     "output_type": "execute_result"
    }
   ],
   "source": [
    "fights_data.loc[0,'age_1']"
   ]
  },
  {
   "cell_type": "code",
   "execution_count": 11,
   "metadata": {},
   "outputs": [],
   "source": [
    "def fighter_xp(id, date):\n",
    "    f_infos = ufc_fighters.loc[ufc_fighters['fighter_id'] == id]\n",
    "    f_fights = fights_data.loc[(fights_data['f_1'] == id) | (fights_data['f_2'] == id)]\n",
    "    wins = 0\n",
    "    loses = 0\n",
    "    draws = 0\n",
    "    for i, r in f_fights.iterrows():\n",
    "        if pd.to_datetime(r['event_date'], format='%Y-%m-%d') < pd.to_datetime(date, format='%Y-%m-%d'):\n",
    "            if r['winner'] == id:\n",
    "                wins += 1 \n",
    "            else:\n",
    "                loses += 1\n",
    "    total_fights = wins + loses\n",
    "    wins_ratio = wins / total_fights if total_fights > 0 else 0\n",
    "    loses_ratio = loses / total_fights if total_fights > 0 else 0\n",
    "    fighter_xp = pd.DataFrame(data={'wins': [wins], 'loses': [loses], 'total': [total_fights]})\n",
    "    return fighter_xp"
   ]
  },
  {
   "cell_type": "code",
   "execution_count": 12,
   "metadata": {},
   "outputs": [],
   "source": [
    "#compute xp for each fighters\n",
    "fights_data['wins_1'] = 0\n",
    "fights_data['wins_2'] = 0\n",
    "\n",
    "fights_data['loses_1'] = 0\n",
    "fights_data['loses_2'] = 0\n",
    "\n",
    "for i, r in fights_data.iterrows():\n",
    "    try:\n",
    "        fighter_xp_1 = fighter_xp(r['f_1'], r['event_date'])\n",
    "        fighter_xp_2 = fighter_xp(r['f_2'], r['event_date'])\n",
    "        \n",
    "        fights_data.loc[i, 'wins_1'] = fighter_xp_1['wins'].values[0]\n",
    "        fights_data.loc[i, 'wins_2'] = fighter_xp_2['wins'].values[0]\n",
    "        \n",
    "        fights_data.loc[i, 'loses_1'] = fighter_xp_1['loses'].values[0]\n",
    "        fights_data.loc[i, 'loses_2'] = fighter_xp_2['loses'].values[0]\n",
    "        \n",
    "    except AssertionError:\n",
    "        exit(1)"
   ]
  },
  {
   "cell_type": "code",
   "execution_count": 13,
   "metadata": {},
   "outputs": [
    {
     "name": "stderr",
     "output_type": "stream",
     "text": [
      "C:\\Users\\yelba\\AppData\\Local\\Temp\\ipykernel_2596\\675553866.py:11: FutureWarning: Setting an item of incompatible dtype is deprecated and will raise in a future error of pandas. Value '2' has dtype incompatible with float64, please explicitly cast to a compatible dtype first.\n",
      "  fights_data.loc[i, 'winner'] = winner_nbr(fighter,winner)\n"
     ]
    }
   ],
   "source": [
    "def winner_nbr(f,w):\n",
    "    if f == w:\n",
    "        return '1'\n",
    "    else:\n",
    "        return '2'\n",
    "\n",
    "for i, r in fights_data.iterrows():\n",
    "    try:\n",
    "        fighter = fights_data.loc[i, 'f_1']\n",
    "        winner = fights_data.loc[i, 'winner']\n",
    "        fights_data.loc[i, 'winner'] = winner_nbr(fighter,winner)\n",
    "    except AssertionError:\n",
    "        exit(1)"
   ]
  },
  {
   "cell_type": "code",
   "execution_count": 14,
   "metadata": {},
   "outputs": [],
   "source": [
    "fights_data_2 = fights_data.drop(['finish_round','finish_time','event_date'], axis=1)"
   ]
  },
  {
   "cell_type": "code",
   "execution_count": 15,
   "metadata": {},
   "outputs": [
    {
     "data": {
      "text/html": [
       "<div>\n",
       "<style scoped>\n",
       "    .dataframe tbody tr th:only-of-type {\n",
       "        vertical-align: middle;\n",
       "    }\n",
       "\n",
       "    .dataframe tbody tr th {\n",
       "        vertical-align: top;\n",
       "    }\n",
       "\n",
       "    .dataframe thead th {\n",
       "        text-align: right;\n",
       "    }\n",
       "</style>\n",
       "<table border=\"1\" class=\"dataframe\">\n",
       "  <thead>\n",
       "    <tr style=\"text-align: right;\">\n",
       "      <th></th>\n",
       "      <th>fight_id</th>\n",
       "      <th>f_1</th>\n",
       "      <th>f_2</th>\n",
       "      <th>winner</th>\n",
       "      <th>num_rounds</th>\n",
       "      <th>title_fight</th>\n",
       "      <th>weight_class</th>\n",
       "      <th>gender</th>\n",
       "      <th>result</th>\n",
       "      <th>height_1</th>\n",
       "      <th>weight_1</th>\n",
       "      <th>reach_1</th>\n",
       "      <th>stance_1</th>\n",
       "      <th>height_2</th>\n",
       "      <th>weight_2</th>\n",
       "      <th>reach_2</th>\n",
       "      <th>stance_2</th>\n",
       "      <th>age_1</th>\n",
       "      <th>age_2</th>\n",
       "      <th>wins_1</th>\n",
       "      <th>wins_2</th>\n",
       "      <th>loses_1</th>\n",
       "      <th>loses_2</th>\n",
       "    </tr>\n",
       "  </thead>\n",
       "  <tbody>\n",
       "    <tr>\n",
       "      <th>0</th>\n",
       "      <td>7218</td>\n",
       "      <td>2976.0</td>\n",
       "      <td>2884.0</td>\n",
       "      <td>2</td>\n",
       "      <td>5</td>\n",
       "      <td>F</td>\n",
       "      <td>Lightweight</td>\n",
       "      <td>M</td>\n",
       "      <td>KO/TKO</td>\n",
       "      <td>172.72</td>\n",
       "      <td>155.0</td>\n",
       "      <td>180.34</td>\n",
       "      <td>Switch</td>\n",
       "      <td>177.80</td>\n",
       "      <td>155.0</td>\n",
       "      <td>177.80</td>\n",
       "      <td>Southpaw</td>\n",
       "      <td>30</td>\n",
       "      <td>32</td>\n",
       "      <td>6</td>\n",
       "      <td>5</td>\n",
       "      <td>2</td>\n",
       "      <td>2</td>\n",
       "    </tr>\n",
       "    <tr>\n",
       "      <th>1</th>\n",
       "      <td>7217</td>\n",
       "      <td>1662.0</td>\n",
       "      <td>2464.0</td>\n",
       "      <td>1</td>\n",
       "      <td>3</td>\n",
       "      <td>F</td>\n",
       "      <td>Featherweight</td>\n",
       "      <td>M</td>\n",
       "      <td>Decision</td>\n",
       "      <td>177.80</td>\n",
       "      <td>145.0</td>\n",
       "      <td>177.80</td>\n",
       "      <td>Southpaw</td>\n",
       "      <td>170.18</td>\n",
       "      <td>145.0</td>\n",
       "      <td>180.34</td>\n",
       "      <td>Orthodox</td>\n",
       "      <td>28</td>\n",
       "      <td>32</td>\n",
       "      <td>6</td>\n",
       "      <td>9</td>\n",
       "      <td>1</td>\n",
       "      <td>5</td>\n",
       "    </tr>\n",
       "    <tr>\n",
       "      <th>2</th>\n",
       "      <td>7216</td>\n",
       "      <td>981.0</td>\n",
       "      <td>179.0</td>\n",
       "      <td>1</td>\n",
       "      <td>3</td>\n",
       "      <td>F</td>\n",
       "      <td>Women's Strawweight</td>\n",
       "      <td>F</td>\n",
       "      <td>KO/TKO</td>\n",
       "      <td>167.64</td>\n",
       "      <td>115.0</td>\n",
       "      <td>165.10</td>\n",
       "      <td>Orthodox</td>\n",
       "      <td>160.02</td>\n",
       "      <td>115.0</td>\n",
       "      <td>157.48</td>\n",
       "      <td>Orthodox</td>\n",
       "      <td>36</td>\n",
       "      <td>37</td>\n",
       "      <td>6</td>\n",
       "      <td>6</td>\n",
       "      <td>3</td>\n",
       "      <td>7</td>\n",
       "    </tr>\n",
       "    <tr>\n",
       "      <th>3</th>\n",
       "      <td>7215</td>\n",
       "      <td>3831.0</td>\n",
       "      <td>2974.0</td>\n",
       "      <td>1</td>\n",
       "      <td>3</td>\n",
       "      <td>F</td>\n",
       "      <td>Welterweight</td>\n",
       "      <td>M</td>\n",
       "      <td>Submission</td>\n",
       "      <td>185.42</td>\n",
       "      <td>170.0</td>\n",
       "      <td>195.58</td>\n",
       "      <td>Orthodox</td>\n",
       "      <td>177.80</td>\n",
       "      <td>170.0</td>\n",
       "      <td>170.18</td>\n",
       "      <td>Switch</td>\n",
       "      <td>29</td>\n",
       "      <td>26</td>\n",
       "      <td>4</td>\n",
       "      <td>1</td>\n",
       "      <td>1</td>\n",
       "      <td>2</td>\n",
       "    </tr>\n",
       "    <tr>\n",
       "      <th>4</th>\n",
       "      <td>7214</td>\n",
       "      <td>1108.0</td>\n",
       "      <td>2320.0</td>\n",
       "      <td>2</td>\n",
       "      <td>3</td>\n",
       "      <td>F</td>\n",
       "      <td>Featherweight</td>\n",
       "      <td>M</td>\n",
       "      <td>Submission</td>\n",
       "      <td>175.26</td>\n",
       "      <td>145.0</td>\n",
       "      <td>182.88</td>\n",
       "      <td>Orthodox</td>\n",
       "      <td>175.26</td>\n",
       "      <td>145.0</td>\n",
       "      <td>175.26</td>\n",
       "      <td>Switch</td>\n",
       "      <td>28</td>\n",
       "      <td>27</td>\n",
       "      <td>7</td>\n",
       "      <td>5</td>\n",
       "      <td>3</td>\n",
       "      <td>5</td>\n",
       "    </tr>\n",
       "  </tbody>\n",
       "</table>\n",
       "</div>"
      ],
      "text/plain": [
       "   fight_id     f_1     f_2 winner num_rounds title_fight  \\\n",
       "0      7218  2976.0  2884.0      2          5           F   \n",
       "1      7217  1662.0  2464.0      1          3           F   \n",
       "2      7216   981.0   179.0      1          3           F   \n",
       "3      7215  3831.0  2974.0      1          3           F   \n",
       "4      7214  1108.0  2320.0      2          3           F   \n",
       "\n",
       "          weight_class gender      result  height_1  weight_1  reach_1  \\\n",
       "0          Lightweight      M      KO/TKO    172.72     155.0   180.34   \n",
       "1        Featherweight      M    Decision    177.80     145.0   177.80   \n",
       "2  Women's Strawweight      F      KO/TKO    167.64     115.0   165.10   \n",
       "3         Welterweight      M  Submission    185.42     170.0   195.58   \n",
       "4        Featherweight      M  Submission    175.26     145.0   182.88   \n",
       "\n",
       "   stance_1  height_2  weight_2  reach_2  stance_2  age_1  age_2  wins_1  \\\n",
       "0    Switch    177.80     155.0   177.80  Southpaw     30     32       6   \n",
       "1  Southpaw    170.18     145.0   180.34  Orthodox     28     32       6   \n",
       "2  Orthodox    160.02     115.0   157.48  Orthodox     36     37       6   \n",
       "3  Orthodox    177.80     170.0   170.18    Switch     29     26       4   \n",
       "4  Orthodox    175.26     145.0   175.26    Switch     28     27       7   \n",
       "\n",
       "   wins_2  loses_1  loses_2  \n",
       "0       5        2        2  \n",
       "1       9        1        5  \n",
       "2       6        3        7  \n",
       "3       1        1        2  \n",
       "4       5        3        5  "
      ]
     },
     "execution_count": 15,
     "metadata": {},
     "output_type": "execute_result"
    }
   ],
   "source": [
    "#drop unused column\n",
    "#fights_data = fights_data.drop(['f_1','f_2'], axis=1)\n",
    "\n",
    "fights_data_2.head()"
   ]
  },
  {
   "cell_type": "code",
   "execution_count": 16,
   "metadata": {},
   "outputs": [
    {
     "data": {
      "text/plain": [
       "array(['Lightweight', 'Featherweight', \"Women's Strawweight\",\n",
       "       'Welterweight', 'Bantamweight', 'Middleweight', 'Heavyweight',\n",
       "       \"Women's Bantamweight\", \"Women's Flyweight\", 'Flyweight',\n",
       "       'Light Heavyweight', 'Catch Weight', \"Women's Featherweight\",\n",
       "       'Open Weight', nan], dtype=object)"
      ]
     },
     "execution_count": 16,
     "metadata": {},
     "output_type": "execute_result"
    }
   ],
   "source": [
    "fights_data_2.weight_class.unique()"
   ]
  },
  {
   "cell_type": "code",
   "execution_count": 17,
   "metadata": {},
   "outputs": [
    {
     "data": {
      "text/plain": [
       "weight_class\n",
       "Lightweight              1240\n",
       "Welterweight             1227\n",
       "Middleweight              960\n",
       "Featherweight             681\n",
       "Heavyweight               669\n",
       "Light Heavyweight         648\n",
       "Bantamweight              594\n",
       "Flyweight                 297\n",
       "Women's Strawweight       272\n",
       "Women's Flyweight         205\n",
       "Women's Bantamweight      188\n",
       "Open Weight               101\n",
       "Catch Weight               62\n",
       "Women's Featherweight      29\n",
       "Name: count, dtype: int64"
      ]
     },
     "execution_count": 17,
     "metadata": {},
     "output_type": "execute_result"
    }
   ],
   "source": [
    "fights_data_2.weight_class.value_counts()"
   ]
  },
  {
   "cell_type": "code",
   "execution_count": 18,
   "metadata": {},
   "outputs": [
    {
     "data": {
      "image/png": "[encoded data removed]",
      "text/plain": [
       "<Figure size 800x550 with 1 Axes>"
      ]
     },
     "metadata": {},
     "output_type": "display_data"
    }
   ],
   "source": [
    "fights_data_2[\"weight_class\"].value_counts().sort_index().plot.bar(rot=0, grid=True)\n",
    "plt.xlabel(\"gender\")\n",
    "plt.ylabel(\"Number of districts\")\n",
    "plt.show()"
   ]
  },
  {
   "cell_type": "code",
   "execution_count": 19,
   "metadata": {},
   "outputs": [
    {
     "data": {
      "text/html": [
       "<div>\n",
       "<style scoped>\n",
       "    .dataframe tbody tr th:only-of-type {\n",
       "        vertical-align: middle;\n",
       "    }\n",
       "\n",
       "    .dataframe tbody tr th {\n",
       "        vertical-align: top;\n",
       "    }\n",
       "\n",
       "    .dataframe thead th {\n",
       "        text-align: right;\n",
       "    }\n",
       "</style>\n",
       "<table border=\"1\" class=\"dataframe\">\n",
       "  <thead>\n",
       "    <tr style=\"text-align: right;\">\n",
       "      <th></th>\n",
       "      <th>fight_id</th>\n",
       "      <th>f_1</th>\n",
       "      <th>f_2</th>\n",
       "      <th>winner</th>\n",
       "      <th>num_rounds</th>\n",
       "      <th>title_fight</th>\n",
       "      <th>weight_class</th>\n",
       "      <th>gender</th>\n",
       "      <th>result</th>\n",
       "      <th>height_1</th>\n",
       "      <th>weight_1</th>\n",
       "      <th>reach_1</th>\n",
       "      <th>stance_1</th>\n",
       "      <th>height_2</th>\n",
       "      <th>weight_2</th>\n",
       "      <th>reach_2</th>\n",
       "      <th>stance_2</th>\n",
       "      <th>age_1</th>\n",
       "      <th>age_2</th>\n",
       "      <th>wins_1</th>\n",
       "      <th>wins_2</th>\n",
       "      <th>loses_1</th>\n",
       "      <th>loses_2</th>\n",
       "    </tr>\n",
       "  </thead>\n",
       "  <tbody>\n",
       "  </tbody>\n",
       "</table>\n",
       "</div>"
      ],
      "text/plain": [
       "Empty DataFrame\n",
       "Columns: [fight_id, f_1, f_2, winner, num_rounds, title_fight, weight_class, gender, result, height_1, weight_1, reach_1, stance_1, height_2, weight_2, reach_2, stance_2, age_1, age_2, wins_1, wins_2, loses_1, loses_2]\n",
       "Index: []"
      ]
     },
     "execution_count": 19,
     "metadata": {},
     "output_type": "execute_result"
    }
   ],
   "source": [
    "for i, r in fights_data_2.loc[fights_data_2[\"weight_class\"].isna()].iterrows():\n",
    "    fights_data_2.loc[i,\"weight_class\"] = 'Light Heavyweight'\n",
    "\n",
    "fights_data_2.loc[fights_data_2[\"weight_class\"].isna()]"
   ]
  },
  {
   "cell_type": "code",
   "execution_count": 20,
   "metadata": {},
   "outputs": [
    {
     "data": {
      "text/plain": [
       "array(['Switch', 'Southpaw', 'Orthodox', nan, 'Open Stance', 'Sideways'],\n",
       "      dtype=object)"
      ]
     },
     "execution_count": 20,
     "metadata": {},
     "output_type": "execute_result"
    }
   ],
   "source": [
    "fights_data_2.stance_1.unique()"
   ]
  },
  {
   "cell_type": "code",
   "execution_count": 21,
   "metadata": {},
   "outputs": [],
   "source": [
    "for i, r in fights_data_2.loc[fights_data_2[\"stance_1\"].isna()].iterrows():\n",
    "    fights_data_2.loc[i,\"stance_1\"] = 'Orthodox'\n",
    "    \n",
    "for i, r in fights_data_2.loc[fights_data_2[\"stance_2\"].isna()].iterrows():\n",
    "    fights_data_2.loc[i,\"stance_2\"] = 'Orthodox'"
   ]
  },
  {
   "cell_type": "code",
   "execution_count": 22,
   "metadata": {},
   "outputs": [
    {
     "data": {
      "text/html": [
       "<div>\n",
       "<style scoped>\n",
       "    .dataframe tbody tr th:only-of-type {\n",
       "        vertical-align: middle;\n",
       "    }\n",
       "\n",
       "    .dataframe tbody tr th {\n",
       "        vertical-align: top;\n",
       "    }\n",
       "\n",
       "    .dataframe thead th {\n",
       "        text-align: right;\n",
       "    }\n",
       "</style>\n",
       "<table border=\"1\" class=\"dataframe\">\n",
       "  <thead>\n",
       "    <tr style=\"text-align: right;\">\n",
       "      <th></th>\n",
       "      <th>fight_id</th>\n",
       "      <th>f_1</th>\n",
       "      <th>f_2</th>\n",
       "      <th>winner</th>\n",
       "      <th>num_rounds</th>\n",
       "      <th>title_fight</th>\n",
       "      <th>weight_class</th>\n",
       "      <th>gender</th>\n",
       "      <th>result</th>\n",
       "      <th>height_1</th>\n",
       "      <th>weight_1</th>\n",
       "      <th>reach_1</th>\n",
       "      <th>stance_1</th>\n",
       "      <th>height_2</th>\n",
       "      <th>weight_2</th>\n",
       "      <th>reach_2</th>\n",
       "      <th>stance_2</th>\n",
       "      <th>age_1</th>\n",
       "      <th>age_2</th>\n",
       "      <th>wins_1</th>\n",
       "      <th>wins_2</th>\n",
       "      <th>loses_1</th>\n",
       "      <th>loses_2</th>\n",
       "    </tr>\n",
       "  </thead>\n",
       "  <tbody>\n",
       "    <tr>\n",
       "      <th>2249</th>\n",
       "      <td>4969</td>\n",
       "      <td>1896.0</td>\n",
       "      <td>1197.0</td>\n",
       "      <td>1</td>\n",
       "      <td>3</td>\n",
       "      <td>F</td>\n",
       "      <td>Lightweight</td>\n",
       "      <td>M</td>\n",
       "      <td>Decision</td>\n",
       "      <td>172.72</td>\n",
       "      <td>155.0</td>\n",
       "      <td>172.72</td>\n",
       "      <td>Orthodox</td>\n",
       "      <td>177.80</td>\n",
       "      <td>155.0</td>\n",
       "      <td>NaN</td>\n",
       "      <td>Southpaw</td>\n",
       "      <td>33</td>\n",
       "      <td>22</td>\n",
       "      <td>9</td>\n",
       "      <td>1</td>\n",
       "      <td>6</td>\n",
       "      <td>0</td>\n",
       "    </tr>\n",
       "    <tr>\n",
       "      <th>2415</th>\n",
       "      <td>4803</td>\n",
       "      <td>2725.0</td>\n",
       "      <td>3832.0</td>\n",
       "      <td>1</td>\n",
       "      <td>3</td>\n",
       "      <td>F</td>\n",
       "      <td>Heavyweight</td>\n",
       "      <td>M</td>\n",
       "      <td>Submission</td>\n",
       "      <td>200.66</td>\n",
       "      <td>258.0</td>\n",
       "      <td>203.20</td>\n",
       "      <td>Orthodox</td>\n",
       "      <td>190.50</td>\n",
       "      <td>260.0</td>\n",
       "      <td>NaN</td>\n",
       "      <td>Orthodox</td>\n",
       "      <td>32</td>\n",
       "      <td>34</td>\n",
       "      <td>0</td>\n",
       "      <td>0</td>\n",
       "      <td>0</td>\n",
       "      <td>0</td>\n",
       "    </tr>\n",
       "    <tr>\n",
       "      <th>2442</th>\n",
       "      <td>4776</td>\n",
       "      <td>1174.0</td>\n",
       "      <td>1197.0</td>\n",
       "      <td>2</td>\n",
       "      <td>3</td>\n",
       "      <td>F</td>\n",
       "      <td>Lightweight</td>\n",
       "      <td>M</td>\n",
       "      <td>Decision</td>\n",
       "      <td>182.88</td>\n",
       "      <td>155.0</td>\n",
       "      <td>185.42</td>\n",
       "      <td>Orthodox</td>\n",
       "      <td>177.80</td>\n",
       "      <td>155.0</td>\n",
       "      <td>NaN</td>\n",
       "      <td>Southpaw</td>\n",
       "      <td>30</td>\n",
       "      <td>22</td>\n",
       "      <td>1</td>\n",
       "      <td>0</td>\n",
       "      <td>2</td>\n",
       "      <td>0</td>\n",
       "    </tr>\n",
       "    <tr>\n",
       "      <th>2539</th>\n",
       "      <td>4679</td>\n",
       "      <td>103.0</td>\n",
       "      <td>3029.0</td>\n",
       "      <td>1</td>\n",
       "      <td>3</td>\n",
       "      <td>F</td>\n",
       "      <td>Women's Flyweight</td>\n",
       "      <td>F</td>\n",
       "      <td>Submission</td>\n",
       "      <td>167.64</td>\n",
       "      <td>125.0</td>\n",
       "      <td>165.10</td>\n",
       "      <td>Orthodox</td>\n",
       "      <td>170.18</td>\n",
       "      <td>125.0</td>\n",
       "      <td>NaN</td>\n",
       "      <td>Switch</td>\n",
       "      <td>32</td>\n",
       "      <td>32</td>\n",
       "      <td>3</td>\n",
       "      <td>0</td>\n",
       "      <td>3</td>\n",
       "      <td>2</td>\n",
       "    </tr>\n",
       "    <tr>\n",
       "      <th>2606</th>\n",
       "      <td>4612</td>\n",
       "      <td>3342.0</td>\n",
       "      <td>2273.0</td>\n",
       "      <td>2</td>\n",
       "      <td>3</td>\n",
       "      <td>T</td>\n",
       "      <td>Featherweight</td>\n",
       "      <td>M</td>\n",
       "      <td>Decision</td>\n",
       "      <td>170.18</td>\n",
       "      <td>155.0</td>\n",
       "      <td>NaN</td>\n",
       "      <td>Orthodox</td>\n",
       "      <td>167.64</td>\n",
       "      <td>135.0</td>\n",
       "      <td>162.56</td>\n",
       "      <td>Orthodox</td>\n",
       "      <td>31</td>\n",
       "      <td>26</td>\n",
       "      <td>0</td>\n",
       "      <td>0</td>\n",
       "      <td>0</td>\n",
       "      <td>0</td>\n",
       "    </tr>\n",
       "    <tr>\n",
       "      <th>...</th>\n",
       "      <td>...</td>\n",
       "      <td>...</td>\n",
       "      <td>...</td>\n",
       "      <td>...</td>\n",
       "      <td>...</td>\n",
       "      <td>...</td>\n",
       "      <td>...</td>\n",
       "      <td>...</td>\n",
       "      <td>...</td>\n",
       "      <td>...</td>\n",
       "      <td>...</td>\n",
       "      <td>...</td>\n",
       "      <td>...</td>\n",
       "      <td>...</td>\n",
       "      <td>...</td>\n",
       "      <td>...</td>\n",
       "      <td>...</td>\n",
       "      <td>...</td>\n",
       "      <td>...</td>\n",
       "      <td>...</td>\n",
       "      <td>...</td>\n",
       "      <td>...</td>\n",
       "      <td>...</td>\n",
       "    </tr>\n",
       "    <tr>\n",
       "      <th>7213</th>\n",
       "      <td>5</td>\n",
       "      <td>141.0</td>\n",
       "      <td>1962.0</td>\n",
       "      <td>1</td>\n",
       "      <td>N</td>\n",
       "      <td>F</td>\n",
       "      <td>Open Weight</td>\n",
       "      <td>M</td>\n",
       "      <td>KO/TKO</td>\n",
       "      <td>177.80</td>\n",
       "      <td>170.0</td>\n",
       "      <td>NaN</td>\n",
       "      <td>Southpaw</td>\n",
       "      <td>187.96</td>\n",
       "      <td>245.0</td>\n",
       "      <td>NaN</td>\n",
       "      <td>Orthodox</td>\n",
       "      <td>0</td>\n",
       "      <td>0</td>\n",
       "      <td>0</td>\n",
       "      <td>0</td>\n",
       "      <td>0</td>\n",
       "      <td>0</td>\n",
       "    </tr>\n",
       "    <tr>\n",
       "      <th>7214</th>\n",
       "      <td>4</td>\n",
       "      <td>2663.0</td>\n",
       "      <td>1952.0</td>\n",
       "      <td>1</td>\n",
       "      <td>N</td>\n",
       "      <td>F</td>\n",
       "      <td>Open Weight</td>\n",
       "      <td>M</td>\n",
       "      <td>Submission</td>\n",
       "      <td>NaN</td>\n",
       "      <td>NaN</td>\n",
       "      <td>NaN</td>\n",
       "      <td>Orthodox</td>\n",
       "      <td>190.50</td>\n",
       "      <td>210.0</td>\n",
       "      <td>NaN</td>\n",
       "      <td>Orthodox</td>\n",
       "      <td>0</td>\n",
       "      <td>0</td>\n",
       "      <td>0</td>\n",
       "      <td>0</td>\n",
       "      <td>0</td>\n",
       "      <td>0</td>\n",
       "    </tr>\n",
       "    <tr>\n",
       "      <th>7215</th>\n",
       "      <td>3</td>\n",
       "      <td>1060.0</td>\n",
       "      <td>2038.0</td>\n",
       "      <td>1</td>\n",
       "      <td>N</td>\n",
       "      <td>F</td>\n",
       "      <td>Open Weight</td>\n",
       "      <td>M</td>\n",
       "      <td>KO/TKO</td>\n",
       "      <td>182.88</td>\n",
       "      <td>210.0</td>\n",
       "      <td>NaN</td>\n",
       "      <td>Orthodox</td>\n",
       "      <td>195.58</td>\n",
       "      <td>275.0</td>\n",
       "      <td>NaN</td>\n",
       "      <td>Orthodox</td>\n",
       "      <td>0</td>\n",
       "      <td>0</td>\n",
       "      <td>0</td>\n",
       "      <td>0</td>\n",
       "      <td>0</td>\n",
       "      <td>0</td>\n",
       "    </tr>\n",
       "    <tr>\n",
       "      <th>7216</th>\n",
       "      <td>2</td>\n",
       "      <td>640.0</td>\n",
       "      <td>108.0</td>\n",
       "      <td>1</td>\n",
       "      <td>N</td>\n",
       "      <td>F</td>\n",
       "      <td>Open Weight</td>\n",
       "      <td>M</td>\n",
       "      <td>Submission</td>\n",
       "      <td>187.96</td>\n",
       "      <td>225.0</td>\n",
       "      <td>NaN</td>\n",
       "      <td>Orthodox</td>\n",
       "      <td>NaN</td>\n",
       "      <td>NaN</td>\n",
       "      <td>NaN</td>\n",
       "      <td>Orthodox</td>\n",
       "      <td>30</td>\n",
       "      <td>0</td>\n",
       "      <td>0</td>\n",
       "      <td>0</td>\n",
       "      <td>0</td>\n",
       "      <td>0</td>\n",
       "    </tr>\n",
       "    <tr>\n",
       "      <th>7217</th>\n",
       "      <td>1</td>\n",
       "      <td>1593.0</td>\n",
       "      <td>3295.0</td>\n",
       "      <td>1</td>\n",
       "      <td>N</td>\n",
       "      <td>F</td>\n",
       "      <td>Open Weight</td>\n",
       "      <td>M</td>\n",
       "      <td>Submission</td>\n",
       "      <td>177.80</td>\n",
       "      <td>210.0</td>\n",
       "      <td>NaN</td>\n",
       "      <td>Orthodox</td>\n",
       "      <td>182.88</td>\n",
       "      <td>175.0</td>\n",
       "      <td>NaN</td>\n",
       "      <td>Orthodox</td>\n",
       "      <td>0</td>\n",
       "      <td>0</td>\n",
       "      <td>0</td>\n",
       "      <td>0</td>\n",
       "      <td>0</td>\n",
       "      <td>0</td>\n",
       "    </tr>\n",
       "  </tbody>\n",
       "</table>\n",
       "<p>1040 rows × 23 columns</p>\n",
       "</div>"
      ],
      "text/plain": [
       "      fight_id     f_1     f_2 winner num_rounds title_fight  \\\n",
       "2249      4969  1896.0  1197.0      1          3           F   \n",
       "2415      4803  2725.0  3832.0      1          3           F   \n",
       "2442      4776  1174.0  1197.0      2          3           F   \n",
       "2539      4679   103.0  3029.0      1          3           F   \n",
       "2606      4612  3342.0  2273.0      2          3           T   \n",
       "...        ...     ...     ...    ...        ...         ...   \n",
       "7213         5   141.0  1962.0      1          N           F   \n",
       "7214         4  2663.0  1952.0      1          N           F   \n",
       "7215         3  1060.0  2038.0      1          N           F   \n",
       "7216         2   640.0   108.0      1          N           F   \n",
       "7217         1  1593.0  3295.0      1          N           F   \n",
       "\n",
       "           weight_class gender      result  height_1  weight_1  reach_1  \\\n",
       "2249        Lightweight      M    Decision    172.72     155.0   172.72   \n",
       "2415        Heavyweight      M  Submission    200.66     258.0   203.20   \n",
       "2442        Lightweight      M    Decision    182.88     155.0   185.42   \n",
       "2539  Women's Flyweight      F  Submission    167.64     125.0   165.10   \n",
       "2606      Featherweight      M    Decision    170.18     155.0      NaN   \n",
       "...                 ...    ...         ...       ...       ...      ...   \n",
       "7213        Open Weight      M      KO/TKO    177.80     170.0      NaN   \n",
       "7214        Open Weight      M  Submission       NaN       NaN      NaN   \n",
       "7215        Open Weight      M      KO/TKO    182.88     210.0      NaN   \n",
       "7216        Open Weight      M  Submission    187.96     225.0      NaN   \n",
       "7217        Open Weight      M  Submission    177.80     210.0      NaN   \n",
       "\n",
       "      stance_1  height_2  weight_2  reach_2  stance_2  age_1  age_2  wins_1  \\\n",
       "2249  Orthodox    177.80     155.0      NaN  Southpaw     33     22       9   \n",
       "2415  Orthodox    190.50     260.0      NaN  Orthodox     32     34       0   \n",
       "2442  Orthodox    177.80     155.0      NaN  Southpaw     30     22       1   \n",
       "2539  Orthodox    170.18     125.0      NaN    Switch     32     32       3   \n",
       "2606  Orthodox    167.64     135.0   162.56  Orthodox     31     26       0   \n",
       "...        ...       ...       ...      ...       ...    ...    ...     ...   \n",
       "7213  Southpaw    187.96     245.0      NaN  Orthodox      0      0       0   \n",
       "7214  Orthodox    190.50     210.0      NaN  Orthodox      0      0       0   \n",
       "7215  Orthodox    195.58     275.0      NaN  Orthodox      0      0       0   \n",
       "7216  Orthodox       NaN       NaN      NaN  Orthodox     30      0       0   \n",
       "7217  Orthodox    182.88     175.0      NaN  Orthodox      0      0       0   \n",
       "\n",
       "      wins_2  loses_1  loses_2  \n",
       "2249       1        6        0  \n",
       "2415       0        0        0  \n",
       "2442       0        2        0  \n",
       "2539       0        3        2  \n",
       "2606       0        0        0  \n",
       "...      ...      ...      ...  \n",
       "7213       0        0        0  \n",
       "7214       0        0        0  \n",
       "7215       0        0        0  \n",
       "7216       0        0        0  \n",
       "7217       0        0        0  \n",
       "\n",
       "[1040 rows x 23 columns]"
      ]
     },
     "execution_count": 22,
     "metadata": {},
     "output_type": "execute_result"
    }
   ],
   "source": [
    "null_rows_idx = fights_data_2.isnull().any(axis=1)\n",
    "fights_data_2.loc[null_rows_idx]"
   ]
  },
  {
   "cell_type": "code",
   "execution_count": 23,
   "metadata": {},
   "outputs": [
    {
     "data": {
      "text/plain": [
       "29.0"
      ]
     },
     "execution_count": 23,
     "metadata": {},
     "output_type": "execute_result"
    }
   ],
   "source": [
    "mean_values = pd.DataFrame()\n",
    "mean_values['weights'] = fights_data.groupby('weight_class').weight_1.mean()\n",
    "mean_values['heights'] = fights_data.groupby('weight_class').height_1.mean()\n",
    "mean_values['reaches'] = fights_data.groupby('weight_class').reach_1.mean()\n",
    "mean_values['ages'] = (fights_data.groupby('weight_class').age_1.mean() + fights_data.groupby('weight_class').age_1.mean())//2\n",
    "\n",
    "mean_values.ages['Bantamweight']"
   ]
  },
  {
   "cell_type": "code",
   "execution_count": 24,
   "metadata": {},
   "outputs": [],
   "source": [
    "for i, r in fights_data_2.loc[null_rows_idx].iterrows():\n",
    "    if pd.isnull(r[\"reach_1\"]):\n",
    "        fights_data_2.at[i, \"reach_1\"] = mean_values['reaches'][r[\"weight_class\"]]\n",
    "    if pd.isnull(r[\"reach_2\"]):\n",
    "        fights_data_2.at[i, \"reach_2\"] = mean_values['reaches'][r[\"weight_class\"]]\n",
    "\n",
    "    if pd.isnull(r[\"weight_1\"]):\n",
    "        fights_data_2.at[i, \"weight_1\"] = mean_values['weights'][r[\"weight_class\"]]\n",
    "    if pd.isnull(r[\"weight_2\"]):\n",
    "        fights_data_2.at[i, \"weight_2\"] = mean_values['weights'][r[\"weight_class\"]]\n",
    "\n",
    "    if pd.isnull(r[\"height_1\"]):\n",
    "        fights_data_2.at[i, \"height_1\"] = mean_values['heights'][r[\"weight_class\"]]\n",
    "    if pd.isnull(r[\"height_2\"]):\n",
    "        fights_data_2.at[i, \"height_2\"] = mean_values['heights'][r[\"weight_class\"]]\n",
    "\n",
    "for i, r in fights_data_2.loc[(fights_data_2.age_1 == 0)|(fights_data_2.age_2 == 0)].iterrows():\n",
    "    if r[\"age_1\"] == 0:\n",
    "        fights_data_2.at[i, \"age_1\"] = mean_values['ages'][r[\"weight_class\"]]\n",
    "    if r[\"age_2\"]:\n",
    "        fights_data_2.at[i, \"age_2\"] = mean_values['ages'][r[\"weight_class\"]]\n",
    "\n"
   ]
  },
  {
   "cell_type": "code",
   "execution_count": 25,
   "metadata": {},
   "outputs": [
    {
     "data": {
      "text/html": [
       "<div>\n",
       "<style scoped>\n",
       "    .dataframe tbody tr th:only-of-type {\n",
       "        vertical-align: middle;\n",
       "    }\n",
       "\n",
       "    .dataframe tbody tr th {\n",
       "        vertical-align: top;\n",
       "    }\n",
       "\n",
       "    .dataframe thead th {\n",
       "        text-align: right;\n",
       "    }\n",
       "</style>\n",
       "<table border=\"1\" class=\"dataframe\">\n",
       "  <thead>\n",
       "    <tr style=\"text-align: right;\">\n",
       "      <th></th>\n",
       "      <th>fight_id</th>\n",
       "      <th>f_1</th>\n",
       "      <th>f_2</th>\n",
       "      <th>winner</th>\n",
       "      <th>num_rounds</th>\n",
       "      <th>title_fight</th>\n",
       "      <th>weight_class</th>\n",
       "      <th>gender</th>\n",
       "      <th>result</th>\n",
       "      <th>height_1</th>\n",
       "      <th>weight_1</th>\n",
       "      <th>reach_1</th>\n",
       "      <th>stance_1</th>\n",
       "      <th>height_2</th>\n",
       "      <th>weight_2</th>\n",
       "      <th>reach_2</th>\n",
       "      <th>stance_2</th>\n",
       "      <th>age_1</th>\n",
       "      <th>age_2</th>\n",
       "      <th>wins_1</th>\n",
       "      <th>wins_2</th>\n",
       "      <th>loses_1</th>\n",
       "      <th>loses_2</th>\n",
       "    </tr>\n",
       "  </thead>\n",
       "  <tbody>\n",
       "  </tbody>\n",
       "</table>\n",
       "</div>"
      ],
      "text/plain": [
       "Empty DataFrame\n",
       "Columns: [fight_id, f_1, f_2, winner, num_rounds, title_fight, weight_class, gender, result, height_1, weight_1, reach_1, stance_1, height_2, weight_2, reach_2, stance_2, age_1, age_2, wins_1, wins_2, loses_1, loses_2]\n",
       "Index: []"
      ]
     },
     "execution_count": 25,
     "metadata": {},
     "output_type": "execute_result"
    }
   ],
   "source": [
    "null_rows_idx = fights_data_2.isnull().any(axis=1)\n",
    "fights_data_2.loc[null_rows_idx]"
   ]
  },
  {
   "cell_type": "code",
   "execution_count": 26,
   "metadata": {},
   "outputs": [
    {
     "data": {
      "text/plain": [
       "array([30, 28, 36, 29, 39, 34, 25, 18, 24, 26, 32, 27, 31, 35, 33, 40, 38,\n",
       "       37, 41, 23, 22, 21, 44, 42, 43, 20, 19, 45, 47, 46, 15],\n",
       "      dtype=int64)"
      ]
     },
     "execution_count": 26,
     "metadata": {},
     "output_type": "execute_result"
    }
   ],
   "source": [
    "fights_data_2.age_1.unique()"
   ]
  },
  {
   "cell_type": "code",
   "execution_count": 27,
   "metadata": {},
   "outputs": [
    {
     "data": {
      "text/html": [
       "<div>\n",
       "<style scoped>\n",
       "    .dataframe tbody tr th:only-of-type {\n",
       "        vertical-align: middle;\n",
       "    }\n",
       "\n",
       "    .dataframe tbody tr th {\n",
       "        vertical-align: top;\n",
       "    }\n",
       "\n",
       "    .dataframe thead th {\n",
       "        text-align: right;\n",
       "    }\n",
       "</style>\n",
       "<table border=\"1\" class=\"dataframe\">\n",
       "  <thead>\n",
       "    <tr style=\"text-align: right;\">\n",
       "      <th></th>\n",
       "      <th>fight_id</th>\n",
       "      <th>f_1</th>\n",
       "      <th>f_2</th>\n",
       "      <th>winner</th>\n",
       "      <th>num_rounds</th>\n",
       "      <th>title_fight</th>\n",
       "      <th>weight_class</th>\n",
       "      <th>gender</th>\n",
       "      <th>result</th>\n",
       "      <th>height_1</th>\n",
       "      <th>weight_1</th>\n",
       "      <th>reach_1</th>\n",
       "      <th>stance_1</th>\n",
       "      <th>height_2</th>\n",
       "      <th>weight_2</th>\n",
       "      <th>reach_2</th>\n",
       "      <th>stance_2</th>\n",
       "      <th>age_1</th>\n",
       "      <th>age_2</th>\n",
       "      <th>wins_1</th>\n",
       "      <th>wins_2</th>\n",
       "      <th>loses_1</th>\n",
       "      <th>loses_2</th>\n",
       "    </tr>\n",
       "  </thead>\n",
       "  <tbody>\n",
       "  </tbody>\n",
       "</table>\n",
       "</div>"
      ],
      "text/plain": [
       "Empty DataFrame\n",
       "Columns: [fight_id, f_1, f_2, winner, num_rounds, title_fight, weight_class, gender, result, height_1, weight_1, reach_1, stance_1, height_2, weight_2, reach_2, stance_2, age_1, age_2, wins_1, wins_2, loses_1, loses_2]\n",
       "Index: []"
      ]
     },
     "execution_count": 27,
     "metadata": {},
     "output_type": "execute_result"
    }
   ],
   "source": [
    "fights_data_2.loc[fights_data_2.age_1 == 0]"
   ]
  },
  {
   "cell_type": "code",
   "execution_count": 28,
   "metadata": {},
   "outputs": [],
   "source": [
    "for i, r in fights_data_2.loc[fights_data_2[\"num_rounds\"] == 'N'].iterrows():\n",
    "    fights_data_2.loc[i,\"num_rounds\"] = '5'\n",
    "    \n",
    "for i, r in fights_data.loc[(fights_data_2[\"num_rounds\"] == '2') | (fights_data_2[\"num_rounds\"] == '1')].iterrows():\n",
    "    fights_data_2.loc[i,\"num_rounds\"] = '3'"
   ]
  },
  {
   "cell_type": "code",
   "execution_count": 29,
   "metadata": {},
   "outputs": [
    {
     "data": {
      "text/plain": [
       "array(['M', 'F'], dtype=object)"
      ]
     },
     "execution_count": 29,
     "metadata": {},
     "output_type": "execute_result"
    }
   ],
   "source": [
    "fights_data.gender.unique()"
   ]
  },
  {
   "cell_type": "code",
   "execution_count": 30,
   "metadata": {},
   "outputs": [
    {
     "data": {
      "text/html": [
       "<div>\n",
       "<style scoped>\n",
       "    .dataframe tbody tr th:only-of-type {\n",
       "        vertical-align: middle;\n",
       "    }\n",
       "\n",
       "    .dataframe tbody tr th {\n",
       "        vertical-align: top;\n",
       "    }\n",
       "\n",
       "    .dataframe thead th {\n",
       "        text-align: right;\n",
       "    }\n",
       "</style>\n",
       "<table border=\"1\" class=\"dataframe\">\n",
       "  <thead>\n",
       "    <tr style=\"text-align: right;\">\n",
       "      <th></th>\n",
       "      <th>fight_id</th>\n",
       "      <th>f_2</th>\n",
       "      <th>f_1</th>\n",
       "      <th>winner</th>\n",
       "      <th>num_rounds</th>\n",
       "      <th>title_fight</th>\n",
       "      <th>weight_class</th>\n",
       "      <th>gender</th>\n",
       "      <th>result</th>\n",
       "      <th>height_2</th>\n",
       "      <th>weight_2</th>\n",
       "      <th>reach_2</th>\n",
       "      <th>stance_2</th>\n",
       "      <th>height_1</th>\n",
       "      <th>weight_1</th>\n",
       "      <th>reach_1</th>\n",
       "      <th>stance_1</th>\n",
       "      <th>age_2</th>\n",
       "      <th>age_1</th>\n",
       "      <th>wins_1</th>\n",
       "      <th>wins_2</th>\n",
       "      <th>loses_1</th>\n",
       "      <th>loses_2</th>\n",
       "    </tr>\n",
       "  </thead>\n",
       "  <tbody>\n",
       "    <tr>\n",
       "      <th>0</th>\n",
       "      <td>7218</td>\n",
       "      <td>2976.0</td>\n",
       "      <td>2884.0</td>\n",
       "      <td>1</td>\n",
       "      <td>5</td>\n",
       "      <td>F</td>\n",
       "      <td>Lightweight</td>\n",
       "      <td>M</td>\n",
       "      <td>KO/TKO</td>\n",
       "      <td>172.72</td>\n",
       "      <td>155.0</td>\n",
       "      <td>180.34</td>\n",
       "      <td>Switch</td>\n",
       "      <td>177.80</td>\n",
       "      <td>155.0</td>\n",
       "      <td>177.80</td>\n",
       "      <td>Southpaw</td>\n",
       "      <td>30</td>\n",
       "      <td>32</td>\n",
       "      <td>6</td>\n",
       "      <td>5</td>\n",
       "      <td>2</td>\n",
       "      <td>2</td>\n",
       "    </tr>\n",
       "    <tr>\n",
       "      <th>1</th>\n",
       "      <td>7217</td>\n",
       "      <td>1662.0</td>\n",
       "      <td>2464.0</td>\n",
       "      <td>2</td>\n",
       "      <td>3</td>\n",
       "      <td>F</td>\n",
       "      <td>Featherweight</td>\n",
       "      <td>M</td>\n",
       "      <td>Decision</td>\n",
       "      <td>177.80</td>\n",
       "      <td>145.0</td>\n",
       "      <td>177.80</td>\n",
       "      <td>Southpaw</td>\n",
       "      <td>170.18</td>\n",
       "      <td>145.0</td>\n",
       "      <td>180.34</td>\n",
       "      <td>Orthodox</td>\n",
       "      <td>28</td>\n",
       "      <td>32</td>\n",
       "      <td>6</td>\n",
       "      <td>9</td>\n",
       "      <td>1</td>\n",
       "      <td>5</td>\n",
       "    </tr>\n",
       "    <tr>\n",
       "      <th>2</th>\n",
       "      <td>7216</td>\n",
       "      <td>981.0</td>\n",
       "      <td>179.0</td>\n",
       "      <td>2</td>\n",
       "      <td>3</td>\n",
       "      <td>F</td>\n",
       "      <td>Women's Strawweight</td>\n",
       "      <td>F</td>\n",
       "      <td>KO/TKO</td>\n",
       "      <td>167.64</td>\n",
       "      <td>115.0</td>\n",
       "      <td>165.10</td>\n",
       "      <td>Orthodox</td>\n",
       "      <td>160.02</td>\n",
       "      <td>115.0</td>\n",
       "      <td>157.48</td>\n",
       "      <td>Orthodox</td>\n",
       "      <td>36</td>\n",
       "      <td>37</td>\n",
       "      <td>6</td>\n",
       "      <td>6</td>\n",
       "      <td>3</td>\n",
       "      <td>7</td>\n",
       "    </tr>\n",
       "    <tr>\n",
       "      <th>3</th>\n",
       "      <td>7215</td>\n",
       "      <td>3831.0</td>\n",
       "      <td>2974.0</td>\n",
       "      <td>2</td>\n",
       "      <td>3</td>\n",
       "      <td>F</td>\n",
       "      <td>Welterweight</td>\n",
       "      <td>M</td>\n",
       "      <td>Submission</td>\n",
       "      <td>185.42</td>\n",
       "      <td>170.0</td>\n",
       "      <td>195.58</td>\n",
       "      <td>Orthodox</td>\n",
       "      <td>177.80</td>\n",
       "      <td>170.0</td>\n",
       "      <td>170.18</td>\n",
       "      <td>Switch</td>\n",
       "      <td>29</td>\n",
       "      <td>26</td>\n",
       "      <td>4</td>\n",
       "      <td>1</td>\n",
       "      <td>1</td>\n",
       "      <td>2</td>\n",
       "    </tr>\n",
       "    <tr>\n",
       "      <th>4</th>\n",
       "      <td>7214</td>\n",
       "      <td>1108.0</td>\n",
       "      <td>2320.0</td>\n",
       "      <td>1</td>\n",
       "      <td>3</td>\n",
       "      <td>F</td>\n",
       "      <td>Featherweight</td>\n",
       "      <td>M</td>\n",
       "      <td>Submission</td>\n",
       "      <td>175.26</td>\n",
       "      <td>145.0</td>\n",
       "      <td>182.88</td>\n",
       "      <td>Orthodox</td>\n",
       "      <td>175.26</td>\n",
       "      <td>145.0</td>\n",
       "      <td>175.26</td>\n",
       "      <td>Switch</td>\n",
       "      <td>28</td>\n",
       "      <td>27</td>\n",
       "      <td>7</td>\n",
       "      <td>5</td>\n",
       "      <td>3</td>\n",
       "      <td>5</td>\n",
       "    </tr>\n",
       "  </tbody>\n",
       "</table>\n",
       "</div>"
      ],
      "text/plain": [
       "   fight_id     f_2     f_1 winner num_rounds title_fight  \\\n",
       "0      7218  2976.0  2884.0      1          5           F   \n",
       "1      7217  1662.0  2464.0      2          3           F   \n",
       "2      7216   981.0   179.0      2          3           F   \n",
       "3      7215  3831.0  2974.0      2          3           F   \n",
       "4      7214  1108.0  2320.0      1          3           F   \n",
       "\n",
       "          weight_class gender      result  height_2  weight_2  reach_2  \\\n",
       "0          Lightweight      M      KO/TKO    172.72     155.0   180.34   \n",
       "1        Featherweight      M    Decision    177.80     145.0   177.80   \n",
       "2  Women's Strawweight      F      KO/TKO    167.64     115.0   165.10   \n",
       "3         Welterweight      M  Submission    185.42     170.0   195.58   \n",
       "4        Featherweight      M  Submission    175.26     145.0   182.88   \n",
       "\n",
       "   stance_2  height_1  weight_1  reach_1  stance_1  age_2  age_1  wins_1  \\\n",
       "0    Switch    177.80     155.0   177.80  Southpaw     30     32       6   \n",
       "1  Southpaw    170.18     145.0   180.34  Orthodox     28     32       6   \n",
       "2  Orthodox    160.02     115.0   157.48  Orthodox     36     37       6   \n",
       "3  Orthodox    177.80     170.0   170.18    Switch     29     26       4   \n",
       "4  Orthodox    175.26     145.0   175.26    Switch     28     27       7   \n",
       "\n",
       "   wins_2  loses_1  loses_2  \n",
       "0       5        2        2  \n",
       "1       9        1        5  \n",
       "2       6        3        7  \n",
       "3       1        1        2  \n",
       "4       5        3        5  "
      ]
     },
     "execution_count": 30,
     "metadata": {},
     "output_type": "execute_result"
    }
   ],
   "source": [
    "#duplicate dataset and invert f_1 and f_2\n",
    "duplicate = fights_data_2.copy()\n",
    "duplicate = duplicate.rename(columns = {'f_1':'f_2','f_2':'f_1','height_1':'height_2','height_2':'height_1',\n",
    "                                        'weight_1':'weight_2','weight_2':'weight_1','reach_1':'reach_2','reach_2':'reach_1',\n",
    "                                        'stance_1':'stance_2','stance_2':'stance_1','age_1':'age_2','age_2':'age_1'})\n",
    "\n",
    "for index, row in duplicate.iterrows():\n",
    "    if row['winner'] == '1':\n",
    "        duplicate.at[index, 'winner'] = '2'\n",
    "    elif row['winner'] == '2':\n",
    "        duplicate.at[index, 'winner'] = '1'\n",
    "        \n",
    "duplicate.head()"
   ]
  },
  {
   "cell_type": "code",
   "execution_count": 31,
   "metadata": {},
   "outputs": [
    {
     "data": {
      "text/html": [
       "<div>\n",
       "<style scoped>\n",
       "    .dataframe tbody tr th:only-of-type {\n",
       "        vertical-align: middle;\n",
       "    }\n",
       "\n",
       "    .dataframe tbody tr th {\n",
       "        vertical-align: top;\n",
       "    }\n",
       "\n",
       "    .dataframe thead th {\n",
       "        text-align: right;\n",
       "    }\n",
       "</style>\n",
       "<table border=\"1\" class=\"dataframe\">\n",
       "  <thead>\n",
       "    <tr style=\"text-align: right;\">\n",
       "      <th></th>\n",
       "      <th>winner</th>\n",
       "      <th>num_rounds</th>\n",
       "      <th>title_fight</th>\n",
       "      <th>weight_class</th>\n",
       "      <th>height_1</th>\n",
       "      <th>weight_1</th>\n",
       "      <th>reach_1</th>\n",
       "      <th>stance_1</th>\n",
       "      <th>height_2</th>\n",
       "      <th>weight_2</th>\n",
       "      <th>reach_2</th>\n",
       "      <th>stance_2</th>\n",
       "      <th>age_1</th>\n",
       "      <th>age_2</th>\n",
       "      <th>wins_1</th>\n",
       "      <th>wins_2</th>\n",
       "      <th>loses_1</th>\n",
       "      <th>loses_2</th>\n",
       "    </tr>\n",
       "  </thead>\n",
       "  <tbody>\n",
       "    <tr>\n",
       "      <th>0</th>\n",
       "      <td>2</td>\n",
       "      <td>5</td>\n",
       "      <td>F</td>\n",
       "      <td>Lightweight</td>\n",
       "      <td>172.72</td>\n",
       "      <td>155.0</td>\n",
       "      <td>180.34</td>\n",
       "      <td>Switch</td>\n",
       "      <td>177.80</td>\n",
       "      <td>155.0</td>\n",
       "      <td>177.80</td>\n",
       "      <td>Southpaw</td>\n",
       "      <td>30</td>\n",
       "      <td>32</td>\n",
       "      <td>6</td>\n",
       "      <td>5</td>\n",
       "      <td>2</td>\n",
       "      <td>2</td>\n",
       "    </tr>\n",
       "    <tr>\n",
       "      <th>1</th>\n",
       "      <td>1</td>\n",
       "      <td>3</td>\n",
       "      <td>F</td>\n",
       "      <td>Featherweight</td>\n",
       "      <td>177.80</td>\n",
       "      <td>145.0</td>\n",
       "      <td>177.80</td>\n",
       "      <td>Southpaw</td>\n",
       "      <td>170.18</td>\n",
       "      <td>145.0</td>\n",
       "      <td>180.34</td>\n",
       "      <td>Orthodox</td>\n",
       "      <td>28</td>\n",
       "      <td>32</td>\n",
       "      <td>6</td>\n",
       "      <td>9</td>\n",
       "      <td>1</td>\n",
       "      <td>5</td>\n",
       "    </tr>\n",
       "    <tr>\n",
       "      <th>2</th>\n",
       "      <td>1</td>\n",
       "      <td>3</td>\n",
       "      <td>F</td>\n",
       "      <td>Women's Strawweight</td>\n",
       "      <td>167.64</td>\n",
       "      <td>115.0</td>\n",
       "      <td>165.10</td>\n",
       "      <td>Orthodox</td>\n",
       "      <td>160.02</td>\n",
       "      <td>115.0</td>\n",
       "      <td>157.48</td>\n",
       "      <td>Orthodox</td>\n",
       "      <td>36</td>\n",
       "      <td>37</td>\n",
       "      <td>6</td>\n",
       "      <td>6</td>\n",
       "      <td>3</td>\n",
       "      <td>7</td>\n",
       "    </tr>\n",
       "    <tr>\n",
       "      <th>3</th>\n",
       "      <td>1</td>\n",
       "      <td>3</td>\n",
       "      <td>F</td>\n",
       "      <td>Welterweight</td>\n",
       "      <td>185.42</td>\n",
       "      <td>170.0</td>\n",
       "      <td>195.58</td>\n",
       "      <td>Orthodox</td>\n",
       "      <td>177.80</td>\n",
       "      <td>170.0</td>\n",
       "      <td>170.18</td>\n",
       "      <td>Switch</td>\n",
       "      <td>29</td>\n",
       "      <td>26</td>\n",
       "      <td>4</td>\n",
       "      <td>1</td>\n",
       "      <td>1</td>\n",
       "      <td>2</td>\n",
       "    </tr>\n",
       "    <tr>\n",
       "      <th>4</th>\n",
       "      <td>2</td>\n",
       "      <td>3</td>\n",
       "      <td>F</td>\n",
       "      <td>Featherweight</td>\n",
       "      <td>175.26</td>\n",
       "      <td>145.0</td>\n",
       "      <td>182.88</td>\n",
       "      <td>Orthodox</td>\n",
       "      <td>175.26</td>\n",
       "      <td>145.0</td>\n",
       "      <td>175.26</td>\n",
       "      <td>Switch</td>\n",
       "      <td>28</td>\n",
       "      <td>27</td>\n",
       "      <td>7</td>\n",
       "      <td>5</td>\n",
       "      <td>3</td>\n",
       "      <td>5</td>\n",
       "    </tr>\n",
       "  </tbody>\n",
       "</table>\n",
       "</div>"
      ],
      "text/plain": [
       "  winner num_rounds title_fight         weight_class  height_1  weight_1  \\\n",
       "0      2          5           F          Lightweight    172.72     155.0   \n",
       "1      1          3           F        Featherweight    177.80     145.0   \n",
       "2      1          3           F  Women's Strawweight    167.64     115.0   \n",
       "3      1          3           F         Welterweight    185.42     170.0   \n",
       "4      2          3           F        Featherweight    175.26     145.0   \n",
       "\n",
       "   reach_1  stance_1  height_2  weight_2  reach_2  stance_2  age_1  age_2  \\\n",
       "0   180.34    Switch    177.80     155.0   177.80  Southpaw     30     32   \n",
       "1   177.80  Southpaw    170.18     145.0   180.34  Orthodox     28     32   \n",
       "2   165.10  Orthodox    160.02     115.0   157.48  Orthodox     36     37   \n",
       "3   195.58  Orthodox    177.80     170.0   170.18    Switch     29     26   \n",
       "4   182.88  Orthodox    175.26     145.0   175.26    Switch     28     27   \n",
       "\n",
       "   wins_1  wins_2  loses_1  loses_2  \n",
       "0       6       5        2        2  \n",
       "1       6       9        1        5  \n",
       "2       6       6        3        7  \n",
       "3       4       1        1        2  \n",
       "4       7       5        3        5  "
      ]
     },
     "execution_count": 31,
     "metadata": {},
     "output_type": "execute_result"
    }
   ],
   "source": [
    "dataset = pd.concat([fights_data_2,duplicate])\n",
    "dataset = dataset.drop(['fight_id','result','gender','f_1','f_2'], axis = 1)\n",
    "dataset.head()"
   ]
  },
  {
   "cell_type": "code",
   "execution_count": 32,
   "metadata": {},
   "outputs": [
    {
     "data": {
      "text/plain": [
       "winner\n",
       "2    0.5\n",
       "1    0.5\n",
       "Name: count, dtype: float64"
      ]
     },
     "execution_count": 32,
     "metadata": {},
     "output_type": "execute_result"
    }
   ],
   "source": [
    "dataset.winner.value_counts()/len(dataset)"
   ]
  },
  {
   "cell_type": "code",
   "execution_count": 34,
   "metadata": {},
   "outputs": [],
   "source": [
    "#spliting data\n",
    "from sklearn.model_selection import StratifiedShuffleSplit\n",
    "from sklearn.model_selection import train_test_split\n",
    "\n",
    "splitter = StratifiedShuffleSplit(n_splits=5, test_size=0.15, random_state=42)\n",
    "strat_splits = []\n",
    "for train_index, test_index in splitter.split(dataset, dataset[\"winner\"]):\n",
    "    strat_train_set_n = dataset.iloc[train_index]\n",
    "    strat_test_set_n = dataset.iloc[test_index]\n",
    "    strat_splits.append([strat_train_set_n, strat_test_set_n])\n",
    "\n",
    "strat_train_set, strat_test_set = strat_splits[0]\n",
    "strat_train_set, strat_test_set = train_test_split(dataset, test_size=0.15, stratify=dataset[\"winner\"], random_state=42)"
   ]
  },
  {
   "cell_type": "code",
   "execution_count": 35,
   "metadata": {},
   "outputs": [
    {
     "data": {
      "text/plain": [
       "12216"
      ]
     },
     "execution_count": 35,
     "metadata": {},
     "output_type": "execute_result"
    }
   ],
   "source": [
    "fights = strat_train_set.drop(\"winner\", axis=1)\n",
    "fights_labels = strat_train_set[\"winner\"].copy()\n",
    "len(fights_labels)"
   ]
  },
  {
   "cell_type": "code",
   "execution_count": 36,
   "metadata": {},
   "outputs": [
    {
     "data": {
      "text/plain": [
       "12216"
      ]
     },
     "execution_count": 36,
     "metadata": {},
     "output_type": "execute_result"
    }
   ],
   "source": [
    "len(fights)"
   ]
  },
  {
   "cell_type": "markdown",
   "metadata": {},
   "source": [
    "Creating Pipelines"
   ]
  },
  {
   "cell_type": "code",
   "execution_count": 37,
   "metadata": {},
   "outputs": [
    {
     "data": {
      "text/html": [
       "<style>#sk-container-id-1 {color: black;background-color: white;}#sk-container-id-1 pre{padding: 0;}#sk-container-id-1 div.sk-toggleable {background-color: white;}#sk-container-id-1 label.sk-toggleable__label {cursor: pointer;display: block;width: 100%;margin-bottom: 0;padding: 0.3em;box-sizing: border-box;text-align: center;}#sk-container-id-1 label.sk-toggleable__label-arrow:before {content: \"▸\";float: left;margin-right: 0.25em;color: #696969;}#sk-container-id-1 label.sk-toggleable__label-arrow:hover:before {color: black;}#sk-container-id-1 div.sk-estimator:hover label.sk-toggleable__label-arrow:before {color: black;}#sk-container-id-1 div.sk-toggleable__content {max-height: 0;max-width: 0;overflow: hidden;text-align: left;background-color: #f0f8ff;}#sk-container-id-1 div.sk-toggleable__content pre {margin: 0.2em;color: black;border-radius: 0.25em;background-color: #f0f8ff;}#sk-container-id-1 input.sk-toggleable__control:checked~div.sk-toggleable__content {max-height: 200px;max-width: 100%;overflow: auto;}#sk-container-id-1 input.sk-toggleable__control:checked~label.sk-toggleable__label-arrow:before {content: \"▾\";}#sk-container-id-1 div.sk-estimator input.sk-toggleable__control:checked~label.sk-toggleable__label {background-color: #d4ebff;}#sk-container-id-1 div.sk-label input.sk-toggleable__control:checked~label.sk-toggleable__label {background-color: #d4ebff;}#sk-container-id-1 input.sk-hidden--visually {border: 0;clip: rect(1px 1px 1px 1px);clip: rect(1px, 1px, 1px, 1px);height: 1px;margin: -1px;overflow: hidden;padding: 0;position: absolute;width: 1px;}#sk-container-id-1 div.sk-estimator {font-family: monospace;background-color: #f0f8ff;border: 1px dotted black;border-radius: 0.25em;box-sizing: border-box;margin-bottom: 0.5em;}#sk-container-id-1 div.sk-estimator:hover {background-color: #d4ebff;}#sk-container-id-1 div.sk-parallel-item::after {content: \"\";width: 100%;border-bottom: 1px solid gray;flex-grow: 1;}#sk-container-id-1 div.sk-label:hover label.sk-toggleable__label {background-color: #d4ebff;}#sk-container-id-1 div.sk-serial::before {content: \"\";position: absolute;border-left: 1px solid gray;box-sizing: border-box;top: 0;bottom: 0;left: 50%;z-index: 0;}#sk-container-id-1 div.sk-serial {display: flex;flex-direction: column;align-items: center;background-color: white;padding-right: 0.2em;padding-left: 0.2em;position: relative;}#sk-container-id-1 div.sk-item {position: relative;z-index: 1;}#sk-container-id-1 div.sk-parallel {display: flex;align-items: stretch;justify-content: center;background-color: white;position: relative;}#sk-container-id-1 div.sk-item::before, #sk-container-id-1 div.sk-parallel-item::before {content: \"\";position: absolute;border-left: 1px solid gray;box-sizing: border-box;top: 0;bottom: 0;left: 50%;z-index: -1;}#sk-container-id-1 div.sk-parallel-item {display: flex;flex-direction: column;z-index: 1;position: relative;background-color: white;}#sk-container-id-1 div.sk-parallel-item:first-child::after {align-self: flex-end;width: 50%;}#sk-container-id-1 div.sk-parallel-item:last-child::after {align-self: flex-start;width: 50%;}#sk-container-id-1 div.sk-parallel-item:only-child::after {width: 0;}#sk-container-id-1 div.sk-dashed-wrapped {border: 1px dashed gray;margin: 0 0.4em 0.5em 0.4em;box-sizing: border-box;padding-bottom: 0.4em;background-color: white;}#sk-container-id-1 div.sk-label label {font-family: monospace;font-weight: bold;display: inline-block;line-height: 1.2em;}#sk-container-id-1 div.sk-label-container {text-align: center;}#sk-container-id-1 div.sk-container {/* jupyter's `normalize.less` sets `[hidden] { display: none; }` but bootstrap.min.css set `[hidden] { display: none !important; }` so we also need the `!important` here to be able to override the default hidden behavior on the sphinx rendered scikit-learn.org. See: https://github.com/scikit-learn/scikit-learn/issues/21755 */display: inline-block !important;position: relative;}#sk-container-id-1 div.sk-text-repr-fallback {display: none;}</style><div id=\"sk-container-id-1\" class=\"sk-top-container\"><div class=\"sk-text-repr-fallback\"><pre>Pipeline(steps=[(&#x27;simpleimputer&#x27;, SimpleImputer(strategy=&#x27;median&#x27;)),\n",
       "                (&#x27;standardscaler&#x27;, StandardScaler())])</pre><b>In a Jupyter environment, please rerun this cell to show the HTML representation or trust the notebook. <br />On GitHub, the HTML representation is unable to render, please try loading this page with nbviewer.org.</b></div><div class=\"sk-container\" hidden><div class=\"sk-item sk-dashed-wrapped\"><div class=\"sk-label-container\"><div class=\"sk-label sk-toggleable\"><input class=\"sk-toggleable__control sk-hidden--visually\" id=\"sk-estimator-id-1\" type=\"checkbox\" ><label for=\"sk-estimator-id-1\" class=\"sk-toggleable__label sk-toggleable__label-arrow\">Pipeline</label><div class=\"sk-toggleable__content\"><pre>Pipeline(steps=[(&#x27;simpleimputer&#x27;, SimpleImputer(strategy=&#x27;median&#x27;)),\n",
       "                (&#x27;standardscaler&#x27;, StandardScaler())])</pre></div></div></div><div class=\"sk-serial\"><div class=\"sk-item\"><div class=\"sk-estimator sk-toggleable\"><input class=\"sk-toggleable__control sk-hidden--visually\" id=\"sk-estimator-id-2\" type=\"checkbox\" ><label for=\"sk-estimator-id-2\" class=\"sk-toggleable__label sk-toggleable__label-arrow\">SimpleImputer</label><div class=\"sk-toggleable__content\"><pre>SimpleImputer(strategy=&#x27;median&#x27;)</pre></div></div></div><div class=\"sk-item\"><div class=\"sk-estimator sk-toggleable\"><input class=\"sk-toggleable__control sk-hidden--visually\" id=\"sk-estimator-id-3\" type=\"checkbox\" ><label for=\"sk-estimator-id-3\" class=\"sk-toggleable__label sk-toggleable__label-arrow\">StandardScaler</label><div class=\"sk-toggleable__content\"><pre>StandardScaler()</pre></div></div></div></div></div></div></div>"
      ],
      "text/plain": [
       "Pipeline(steps=[('simpleimputer', SimpleImputer(strategy='median')),\n",
       "                ('standardscaler', StandardScaler())])"
      ]
     },
     "execution_count": 37,
     "metadata": {},
     "output_type": "execute_result"
    }
   ],
   "source": [
    "from sklearn.preprocessing import StandardScaler\n",
    "from sklearn.impute import SimpleImputer\n",
    "from sklearn.pipeline import Pipeline\n",
    "from sklearn import set_config\n",
    "\n",
    "from sklearn.pipeline import make_pipeline\n",
    "\n",
    "num_pipeline = make_pipeline(SimpleImputer(strategy=\"median\"), StandardScaler())\n",
    "num_pipeline"
   ]
  },
  {
   "cell_type": "code",
   "execution_count": 38,
   "metadata": {},
   "outputs": [
    {
     "data": {
      "text/html": [
       "<div>\n",
       "<style scoped>\n",
       "    .dataframe tbody tr th:only-of-type {\n",
       "        vertical-align: middle;\n",
       "    }\n",
       "\n",
       "    .dataframe tbody tr th {\n",
       "        vertical-align: top;\n",
       "    }\n",
       "\n",
       "    .dataframe thead th {\n",
       "        text-align: right;\n",
       "    }\n",
       "</style>\n",
       "<table border=\"1\" class=\"dataframe\">\n",
       "  <thead>\n",
       "    <tr style=\"text-align: right;\">\n",
       "      <th></th>\n",
       "      <th>num_rounds</th>\n",
       "      <th>title_fight</th>\n",
       "      <th>weight_class</th>\n",
       "      <th>height_1</th>\n",
       "      <th>weight_1</th>\n",
       "      <th>reach_1</th>\n",
       "      <th>stance_1</th>\n",
       "      <th>height_2</th>\n",
       "      <th>weight_2</th>\n",
       "      <th>reach_2</th>\n",
       "      <th>stance_2</th>\n",
       "      <th>age_1</th>\n",
       "      <th>age_2</th>\n",
       "      <th>wins_1</th>\n",
       "      <th>wins_2</th>\n",
       "      <th>loses_1</th>\n",
       "      <th>loses_2</th>\n",
       "    </tr>\n",
       "  </thead>\n",
       "  <tbody>\n",
       "    <tr>\n",
       "      <th>7111</th>\n",
       "      <td>3</td>\n",
       "      <td>F</td>\n",
       "      <td>Open Weight</td>\n",
       "      <td>180.34</td>\n",
       "      <td>230.0</td>\n",
       "      <td>187.234286</td>\n",
       "      <td>Orthodox</td>\n",
       "      <td>182.88</td>\n",
       "      <td>265.0</td>\n",
       "      <td>187.234286</td>\n",
       "      <td>Switch</td>\n",
       "      <td>0</td>\n",
       "      <td>15</td>\n",
       "      <td>4</td>\n",
       "      <td>1</td>\n",
       "      <td>3</td>\n",
       "      <td>1</td>\n",
       "    </tr>\n",
       "    <tr>\n",
       "      <th>409</th>\n",
       "      <td>3</td>\n",
       "      <td>F</td>\n",
       "      <td>Lightweight</td>\n",
       "      <td>177.80</td>\n",
       "      <td>155.0</td>\n",
       "      <td>180.340000</td>\n",
       "      <td>Orthodox</td>\n",
       "      <td>172.72</td>\n",
       "      <td>155.0</td>\n",
       "      <td>177.800000</td>\n",
       "      <td>Southpaw</td>\n",
       "      <td>36</td>\n",
       "      <td>34</td>\n",
       "      <td>11</td>\n",
       "      <td>10</td>\n",
       "      <td>7</td>\n",
       "      <td>8</td>\n",
       "    </tr>\n",
       "    <tr>\n",
       "      <th>6405</th>\n",
       "      <td>3</td>\n",
       "      <td>F</td>\n",
       "      <td>Lightweight</td>\n",
       "      <td>167.64</td>\n",
       "      <td>135.0</td>\n",
       "      <td>172.720000</td>\n",
       "      <td>Orthodox</td>\n",
       "      <td>170.18</td>\n",
       "      <td>155.0</td>\n",
       "      <td>172.720000</td>\n",
       "      <td>Southpaw</td>\n",
       "      <td>26</td>\n",
       "      <td>31</td>\n",
       "      <td>2</td>\n",
       "      <td>5</td>\n",
       "      <td>0</td>\n",
       "      <td>2</td>\n",
       "    </tr>\n",
       "    <tr>\n",
       "      <th>583</th>\n",
       "      <td>3</td>\n",
       "      <td>F</td>\n",
       "      <td>Flyweight</td>\n",
       "      <td>170.18</td>\n",
       "      <td>125.0</td>\n",
       "      <td>185.420000</td>\n",
       "      <td>Southpaw</td>\n",
       "      <td>170.18</td>\n",
       "      <td>125.0</td>\n",
       "      <td>172.720000</td>\n",
       "      <td>Orthodox</td>\n",
       "      <td>30</td>\n",
       "      <td>38</td>\n",
       "      <td>3</td>\n",
       "      <td>2</td>\n",
       "      <td>2</td>\n",
       "      <td>3</td>\n",
       "    </tr>\n",
       "    <tr>\n",
       "      <th>2776</th>\n",
       "      <td>3</td>\n",
       "      <td>F</td>\n",
       "      <td>Middleweight</td>\n",
       "      <td>190.50</td>\n",
       "      <td>185.0</td>\n",
       "      <td>203.200000</td>\n",
       "      <td>Orthodox</td>\n",
       "      <td>193.04</td>\n",
       "      <td>185.0</td>\n",
       "      <td>203.200000</td>\n",
       "      <td>Switch</td>\n",
       "      <td>25</td>\n",
       "      <td>28</td>\n",
       "      <td>0</td>\n",
       "      <td>0</td>\n",
       "      <td>1</td>\n",
       "      <td>0</td>\n",
       "    </tr>\n",
       "  </tbody>\n",
       "</table>\n",
       "</div>"
      ],
      "text/plain": [
       "     num_rounds title_fight  weight_class  height_1  weight_1     reach_1  \\\n",
       "7111          3           F   Open Weight    180.34     230.0  187.234286   \n",
       "409           3           F   Lightweight    177.80     155.0  180.340000   \n",
       "6405          3           F   Lightweight    167.64     135.0  172.720000   \n",
       "583           3           F     Flyweight    170.18     125.0  185.420000   \n",
       "2776          3           F  Middleweight    190.50     185.0  203.200000   \n",
       "\n",
       "      stance_1  height_2  weight_2     reach_2  stance_2  age_1  age_2  \\\n",
       "7111  Orthodox    182.88     265.0  187.234286    Switch      0     15   \n",
       "409   Orthodox    172.72     155.0  177.800000  Southpaw     36     34   \n",
       "6405  Orthodox    170.18     155.0  172.720000  Southpaw     26     31   \n",
       "583   Southpaw    170.18     125.0  172.720000  Orthodox     30     38   \n",
       "2776  Orthodox    193.04     185.0  203.200000    Switch     25     28   \n",
       "\n",
       "      wins_1  wins_2  loses_1  loses_2  \n",
       "7111       4       1        3        1  \n",
       "409       11      10        7        8  \n",
       "6405       2       5        0        2  \n",
       "583        3       2        2        3  \n",
       "2776       0       0        1        0  "
      ]
     },
     "execution_count": 38,
     "metadata": {},
     "output_type": "execute_result"
    }
   ],
   "source": [
    "fights.head()"
   ]
  },
  {
   "cell_type": "code",
   "execution_count": 39,
   "metadata": {},
   "outputs": [],
   "source": [
    "from sklearn.compose import ColumnTransformer\n",
    "from sklearn.preprocessing import OneHotEncoder\n",
    "\n",
    "num_attribs = [\"height_1\", \"height_2\", \"weight_1\", \"weight_2\",\n",
    "               \"reach_1\", \"reach_2\", \"age_1\", \"age_2\", \"wins_1\",\"wins_2\",\"loses_1\",\"loses_2\"]\n",
    "cat_attribs = [\"num_rounds\", \"title_fight\", \"weight_class\", \"stance_1\",\"stance_2\",\n",
    "               \"reach_1\", \"reach_2\", \"age_1\", \"age_2\", \"wins_1\",\"wins_2\",\"loses_1\",\"loses_2\"]\n",
    "\n",
    "cat_pipeline = make_pipeline(\n",
    "    SimpleImputer(strategy=\"most_frequent\"),\n",
    "    OneHotEncoder(handle_unknown=\"ignore\"))\n",
    "\n",
    "preprocessing = ColumnTransformer([\n",
    "    (\"num\", num_pipeline, num_attribs),\n",
    "    (\"cat\", cat_pipeline, cat_attribs),\n",
    "])"
   ]
  },
  {
   "cell_type": "code",
   "execution_count": 40,
   "metadata": {},
   "outputs": [],
   "source": [
    "fights_prepared = preprocessing.fit_transform(fights)"
   ]
  },
  {
   "cell_type": "code",
   "execution_count": 41,
   "metadata": {},
   "outputs": [
    {
     "data": {
      "text/plain": [
       "array(['num__height_1', 'num__height_2', 'num__weight_1', 'num__weight_2',\n",
       "       'num__reach_1', 'num__reach_2', 'num__age_1', 'num__age_2',\n",
       "       'num__wins_1', 'num__wins_2', 'num__loses_1', 'num__loses_2',\n",
       "       'cat__num_rounds_3', 'cat__num_rounds_5', 'cat__title_fight_F',\n",
       "       'cat__title_fight_T', 'cat__weight_class_Bantamweight',\n",
       "       'cat__weight_class_Catch Weight',\n",
       "       'cat__weight_class_Featherweight', 'cat__weight_class_Flyweight',\n",
       "       'cat__weight_class_Heavyweight',\n",
       "       'cat__weight_class_Light Heavyweight',\n",
       "       'cat__weight_class_Lightweight', 'cat__weight_class_Middleweight',\n",
       "       'cat__weight_class_Open Weight', 'cat__weight_class_Welterweight',\n",
       "       \"cat__weight_class_Women's Bantamweight\",\n",
       "       \"cat__weight_class_Women's Featherweight\",\n",
       "       \"cat__weight_class_Women's Flyweight\",\n",
       "       \"cat__weight_class_Women's Strawweight\",\n",
       "       'cat__stance_1_Open Stance', 'cat__stance_1_Orthodox',\n",
       "       'cat__stance_1_Sideways', 'cat__stance_1_Southpaw',\n",
       "       'cat__stance_1_Switch', 'cat__stance_2_Open Stance',\n",
       "       'cat__stance_2_Orthodox', 'cat__stance_2_Sideways',\n",
       "       'cat__stance_2_Southpaw', 'cat__stance_2_Switch',\n",
       "       'cat__reach_1_147.32', 'cat__reach_1_149.86', 'cat__reach_1_152.4',\n",
       "       'cat__reach_1_154.94', 'cat__reach_1_157.48',\n",
       "       'cat__reach_1_160.02', 'cat__reach_1_162.42681647940074',\n",
       "       'cat__reach_1_162.56', 'cat__reach_1_165.1', 'cat__reach_1_167.64',\n",
       "       'cat__reach_1_168.74813725490196', 'cat__reach_1_170.18',\n",
       "       'cat__reach_1_170.23255172413795',\n",
       "       'cat__reach_1_170.71032967032966', 'cat__reach_1_172.72',\n",
       "       'cat__reach_1_174.70233276157805', 'cat__reach_1_175.26',\n",
       "       'cat__reach_1_177.8', 'cat__reach_1_179.2715269461078',\n",
       "       'cat__reach_1_180.34', 'cat__reach_1_180.8725806451613',\n",
       "       'cat__reach_1_181.54270815811606', 'cat__reach_1_182.88',\n",
       "       'cat__reach_1_185.42', 'cat__reach_1_186.63981099656357',\n",
       "       'cat__reach_1_187.2342857142857', 'cat__reach_1_187.96',\n",
       "       'cat__reach_1_190.5', 'cat__reach_1_190.57305309734514',\n",
       "       'cat__reach_1_193.04', 'cat__reach_1_193.59147385103012',\n",
       "       'cat__reach_1_195.58', 'cat__reach_1_196.95959390862944',\n",
       "       'cat__reach_1_198.12', 'cat__reach_1_200.66', 'cat__reach_1_203.2',\n",
       "       'cat__reach_1_205.74', 'cat__reach_1_208.28',\n",
       "       'cat__reach_1_210.82', 'cat__reach_1_213.36',\n",
       "       'cat__reach_2_147.32', 'cat__reach_2_149.86', 'cat__reach_2_152.4',\n",
       "       'cat__reach_2_154.94', 'cat__reach_2_157.48',\n",
       "       'cat__reach_2_160.02', 'cat__reach_2_162.42681647940074',\n",
       "       'cat__reach_2_162.56', 'cat__reach_2_165.1', 'cat__reach_2_167.64',\n",
       "       'cat__reach_2_168.74813725490196', 'cat__reach_2_170.18',\n",
       "       'cat__reach_2_170.23255172413795',\n",
       "       'cat__reach_2_170.71032967032966', 'cat__reach_2_172.72',\n",
       "       'cat__reach_2_174.70233276157805', 'cat__reach_2_175.26',\n",
       "       'cat__reach_2_177.8', 'cat__reach_2_179.2715269461078',\n",
       "       'cat__reach_2_180.34', 'cat__reach_2_180.8725806451613',\n",
       "       'cat__reach_2_181.54270815811606', 'cat__reach_2_182.88',\n",
       "       'cat__reach_2_185.42', 'cat__reach_2_186.63981099656357',\n",
       "       'cat__reach_2_187.2342857142857', 'cat__reach_2_187.96',\n",
       "       'cat__reach_2_190.5', 'cat__reach_2_190.57305309734514',\n",
       "       'cat__reach_2_193.04', 'cat__reach_2_193.59147385103012',\n",
       "       'cat__reach_2_195.58', 'cat__reach_2_196.95959390862944',\n",
       "       'cat__reach_2_198.12', 'cat__reach_2_200.66', 'cat__reach_2_203.2',\n",
       "       'cat__reach_2_205.74', 'cat__reach_2_208.28',\n",
       "       'cat__reach_2_210.82', 'cat__reach_2_213.36', 'cat__age_1_0',\n",
       "       'cat__age_1_15', 'cat__age_1_18', 'cat__age_1_19', 'cat__age_1_20',\n",
       "       'cat__age_1_21', 'cat__age_1_22', 'cat__age_1_23', 'cat__age_1_24',\n",
       "       'cat__age_1_25', 'cat__age_1_26', 'cat__age_1_27', 'cat__age_1_28',\n",
       "       'cat__age_1_29', 'cat__age_1_30', 'cat__age_1_31', 'cat__age_1_32',\n",
       "       'cat__age_1_33', 'cat__age_1_34', 'cat__age_1_35', 'cat__age_1_36',\n",
       "       'cat__age_1_37', 'cat__age_1_38', 'cat__age_1_39', 'cat__age_1_40',\n",
       "       'cat__age_1_41', 'cat__age_1_42', 'cat__age_1_43', 'cat__age_1_44',\n",
       "       'cat__age_1_45', 'cat__age_1_46', 'cat__age_1_47', 'cat__age_1_51',\n",
       "       'cat__age_2_0', 'cat__age_2_15', 'cat__age_2_18', 'cat__age_2_19',\n",
       "       'cat__age_2_20', 'cat__age_2_21', 'cat__age_2_22', 'cat__age_2_23',\n",
       "       'cat__age_2_24', 'cat__age_2_25', 'cat__age_2_26', 'cat__age_2_27',\n",
       "       'cat__age_2_28', 'cat__age_2_29', 'cat__age_2_30', 'cat__age_2_31',\n",
       "       'cat__age_2_32', 'cat__age_2_33', 'cat__age_2_34', 'cat__age_2_35',\n",
       "       'cat__age_2_36', 'cat__age_2_37', 'cat__age_2_38', 'cat__age_2_39',\n",
       "       'cat__age_2_40', 'cat__age_2_41', 'cat__age_2_42', 'cat__age_2_43',\n",
       "       'cat__age_2_44', 'cat__age_2_45', 'cat__age_2_46', 'cat__age_2_47',\n",
       "       'cat__age_2_51', 'cat__wins_1_0', 'cat__wins_1_1', 'cat__wins_1_2',\n",
       "       'cat__wins_1_3', 'cat__wins_1_4', 'cat__wins_1_5', 'cat__wins_1_6',\n",
       "       'cat__wins_1_7', 'cat__wins_1_8', 'cat__wins_1_9',\n",
       "       'cat__wins_1_10', 'cat__wins_1_11', 'cat__wins_1_12',\n",
       "       'cat__wins_1_13', 'cat__wins_1_14', 'cat__wins_1_15',\n",
       "       'cat__wins_1_16', 'cat__wins_1_17', 'cat__wins_1_18',\n",
       "       'cat__wins_1_19', 'cat__wins_1_20', 'cat__wins_1_21',\n",
       "       'cat__wins_1_22', 'cat__wins_1_23', 'cat__wins_1_24',\n",
       "       'cat__wins_2_0', 'cat__wins_2_1', 'cat__wins_2_2', 'cat__wins_2_3',\n",
       "       'cat__wins_2_4', 'cat__wins_2_5', 'cat__wins_2_6', 'cat__wins_2_7',\n",
       "       'cat__wins_2_8', 'cat__wins_2_9', 'cat__wins_2_10',\n",
       "       'cat__wins_2_11', 'cat__wins_2_12', 'cat__wins_2_13',\n",
       "       'cat__wins_2_14', 'cat__wins_2_15', 'cat__wins_2_16',\n",
       "       'cat__wins_2_17', 'cat__wins_2_18', 'cat__wins_2_19',\n",
       "       'cat__wins_2_20', 'cat__wins_2_21', 'cat__wins_2_22',\n",
       "       'cat__wins_2_23', 'cat__loses_1_0', 'cat__loses_1_1',\n",
       "       'cat__loses_1_2', 'cat__loses_1_3', 'cat__loses_1_4',\n",
       "       'cat__loses_1_5', 'cat__loses_1_6', 'cat__loses_1_7',\n",
       "       'cat__loses_1_8', 'cat__loses_1_9', 'cat__loses_1_10',\n",
       "       'cat__loses_1_11', 'cat__loses_1_12', 'cat__loses_1_13',\n",
       "       'cat__loses_1_14', 'cat__loses_1_15', 'cat__loses_1_16',\n",
       "       'cat__loses_1_17', 'cat__loses_2_0', 'cat__loses_2_1',\n",
       "       'cat__loses_2_2', 'cat__loses_2_3', 'cat__loses_2_4',\n",
       "       'cat__loses_2_5', 'cat__loses_2_6', 'cat__loses_2_7',\n",
       "       'cat__loses_2_8', 'cat__loses_2_9', 'cat__loses_2_10',\n",
       "       'cat__loses_2_11', 'cat__loses_2_12', 'cat__loses_2_13',\n",
       "       'cat__loses_2_14', 'cat__loses_2_15'], dtype=object)"
      ]
     },
     "execution_count": 41,
     "metadata": {},
     "output_type": "execute_result"
    }
   ],
   "source": [
    "preprocessing.get_feature_names_out()"
   ]
  },
  {
   "cell_type": "markdown",
   "metadata": {},
   "source": [
    "# Select and Train a Model"
   ]
  },
  {
   "cell_type": "markdown",
   "metadata": {},
   "source": [
    "**Logistic Regression**"
   ]
  },
  {
   "cell_type": "code",
   "execution_count": 42,
   "metadata": {},
   "outputs": [
    {
     "name": "stderr",
     "output_type": "stream",
     "text": [
      "C:\\Users\\yelba\\anaconda3\\envs\\machine_learning\\Lib\\site-packages\\sklearn\\linear_model\\_logistic.py:458: ConvergenceWarning: lbfgs failed to converge (status=1):\n",
      "STOP: TOTAL NO. of ITERATIONS REACHED LIMIT.\n",
      "\n",
      "Increase the number of iterations (max_iter) or scale the data as shown in:\n",
      "    https://scikit-learn.org/stable/modules/preprocessing.html\n",
      "Please also refer to the documentation for alternative solver options:\n",
      "    https://scikit-learn.org/stable/modules/linear_model.html#logistic-regression\n",
      "  n_iter_i = _check_optimize_result(\n"
     ]
    },
    {
     "data": {
      "text/html": [
       "<style>#sk-container-id-2 {color: black;background-color: white;}#sk-container-id-2 pre{padding: 0;}#sk-container-id-2 div.sk-toggleable {background-color: white;}#sk-container-id-2 label.sk-toggleable__label {cursor: pointer;display: block;width: 100%;margin-bottom: 0;padding: 0.3em;box-sizing: border-box;text-align: center;}#sk-container-id-2 label.sk-toggleable__label-arrow:before {content: \"▸\";float: left;margin-right: 0.25em;color: #696969;}#sk-container-id-2 label.sk-toggleable__label-arrow:hover:before {color: black;}#sk-container-id-2 div.sk-estimator:hover label.sk-toggleable__label-arrow:before {color: black;}#sk-container-id-2 div.sk-toggleable__content {max-height: 0;max-width: 0;overflow: hidden;text-align: left;background-color: #f0f8ff;}#sk-container-id-2 div.sk-toggleable__content pre {margin: 0.2em;color: black;border-radius: 0.25em;background-color: #f0f8ff;}#sk-container-id-2 input.sk-toggleable__control:checked~div.sk-toggleable__content {max-height: 200px;max-width: 100%;overflow: auto;}#sk-container-id-2 input.sk-toggleable__control:checked~label.sk-toggleable__label-arrow:before {content: \"▾\";}#sk-container-id-2 div.sk-estimator input.sk-toggleable__control:checked~label.sk-toggleable__label {background-color: #d4ebff;}#sk-container-id-2 div.sk-label input.sk-toggleable__control:checked~label.sk-toggleable__label {background-color: #d4ebff;}#sk-container-id-2 input.sk-hidden--visually {border: 0;clip: rect(1px 1px 1px 1px);clip: rect(1px, 1px, 1px, 1px);height: 1px;margin: -1px;overflow: hidden;padding: 0;position: absolute;width: 1px;}#sk-container-id-2 div.sk-estimator {font-family: monospace;background-color: #f0f8ff;border: 1px dotted black;border-radius: 0.25em;box-sizing: border-box;margin-bottom: 0.5em;}#sk-container-id-2 div.sk-estimator:hover {background-color: #d4ebff;}#sk-container-id-2 div.sk-parallel-item::after {content: \"\";width: 100%;border-bottom: 1px solid gray;flex-grow: 1;}#sk-container-id-2 div.sk-label:hover label.sk-toggleable__label {background-color: #d4ebff;}#sk-container-id-2 div.sk-serial::before {content: \"\";position: absolute;border-left: 1px solid gray;box-sizing: border-box;top: 0;bottom: 0;left: 50%;z-index: 0;}#sk-container-id-2 div.sk-serial {display: flex;flex-direction: column;align-items: center;background-color: white;padding-right: 0.2em;padding-left: 0.2em;position: relative;}#sk-container-id-2 div.sk-item {position: relative;z-index: 1;}#sk-container-id-2 div.sk-parallel {display: flex;align-items: stretch;justify-content: center;background-color: white;position: relative;}#sk-container-id-2 div.sk-item::before, #sk-container-id-2 div.sk-parallel-item::before {content: \"\";position: absolute;border-left: 1px solid gray;box-sizing: border-box;top: 0;bottom: 0;left: 50%;z-index: -1;}#sk-container-id-2 div.sk-parallel-item {display: flex;flex-direction: column;z-index: 1;position: relative;background-color: white;}#sk-container-id-2 div.sk-parallel-item:first-child::after {align-self: flex-end;width: 50%;}#sk-container-id-2 div.sk-parallel-item:last-child::after {align-self: flex-start;width: 50%;}#sk-container-id-2 div.sk-parallel-item:only-child::after {width: 0;}#sk-container-id-2 div.sk-dashed-wrapped {border: 1px dashed gray;margin: 0 0.4em 0.5em 0.4em;box-sizing: border-box;padding-bottom: 0.4em;background-color: white;}#sk-container-id-2 div.sk-label label {font-family: monospace;font-weight: bold;display: inline-block;line-height: 1.2em;}#sk-container-id-2 div.sk-label-container {text-align: center;}#sk-container-id-2 div.sk-container {/* jupyter's `normalize.less` sets `[hidden] { display: none; }` but bootstrap.min.css set `[hidden] { display: none !important; }` so we also need the `!important` here to be able to override the default hidden behavior on the sphinx rendered scikit-learn.org. See: https://github.com/scikit-learn/scikit-learn/issues/21755 */display: inline-block !important;position: relative;}#sk-container-id-2 div.sk-text-repr-fallback {display: none;}</style><div id=\"sk-container-id-2\" class=\"sk-top-container\"><div class=\"sk-text-repr-fallback\"><pre>Pipeline(steps=[(&#x27;columntransformer&#x27;,\n",
       "                 ColumnTransformer(transformers=[(&#x27;num&#x27;,\n",
       "                                                  Pipeline(steps=[(&#x27;simpleimputer&#x27;,\n",
       "                                                                   SimpleImputer(strategy=&#x27;median&#x27;)),\n",
       "                                                                  (&#x27;standardscaler&#x27;,\n",
       "                                                                   StandardScaler())]),\n",
       "                                                  [&#x27;height_1&#x27;, &#x27;height_2&#x27;,\n",
       "                                                   &#x27;weight_1&#x27;, &#x27;weight_2&#x27;,\n",
       "                                                   &#x27;reach_1&#x27;, &#x27;reach_2&#x27;,\n",
       "                                                   &#x27;age_1&#x27;, &#x27;age_2&#x27;, &#x27;wins_1&#x27;,\n",
       "                                                   &#x27;wins_2&#x27;, &#x27;loses_1&#x27;,\n",
       "                                                   &#x27;loses_2&#x27;]),\n",
       "                                                 (&#x27;cat&#x27;,\n",
       "                                                  Pipeline(steps=[(&#x27;simpleimputer&#x27;,\n",
       "                                                                   SimpleImputer(strategy=&#x27;most_frequent&#x27;)),\n",
       "                                                                  (&#x27;onehotencoder&#x27;,\n",
       "                                                                   OneHotEncoder(handle_unknown=&#x27;ignore&#x27;))]),\n",
       "                                                  [&#x27;num_rounds&#x27;, &#x27;title_fight&#x27;,\n",
       "                                                   &#x27;weight_class&#x27;, &#x27;stance_1&#x27;,\n",
       "                                                   &#x27;stance_2&#x27;, &#x27;reach_1&#x27;,\n",
       "                                                   &#x27;reach_2&#x27;, &#x27;age_1&#x27;, &#x27;age_2&#x27;,\n",
       "                                                   &#x27;wins_1&#x27;, &#x27;wins_2&#x27;,\n",
       "                                                   &#x27;loses_1&#x27;, &#x27;loses_2&#x27;])])),\n",
       "                (&#x27;logisticregression&#x27;, LogisticRegression())])</pre><b>In a Jupyter environment, please rerun this cell to show the HTML representation or trust the notebook. <br />On GitHub, the HTML representation is unable to render, please try loading this page with nbviewer.org.</b></div><div class=\"sk-container\" hidden><div class=\"sk-item sk-dashed-wrapped\"><div class=\"sk-label-container\"><div class=\"sk-label sk-toggleable\"><input class=\"sk-toggleable__control sk-hidden--visually\" id=\"sk-estimator-id-4\" type=\"checkbox\" ><label for=\"sk-estimator-id-4\" class=\"sk-toggleable__label sk-toggleable__label-arrow\">Pipeline</label><div class=\"sk-toggleable__content\"><pre>Pipeline(steps=[(&#x27;columntransformer&#x27;,\n",
       "                 ColumnTransformer(transformers=[(&#x27;num&#x27;,\n",
       "                                                  Pipeline(steps=[(&#x27;simpleimputer&#x27;,\n",
       "                                                                   SimpleImputer(strategy=&#x27;median&#x27;)),\n",
       "                                                                  (&#x27;standardscaler&#x27;,\n",
       "                                                                   StandardScaler())]),\n",
       "                                                  [&#x27;height_1&#x27;, &#x27;height_2&#x27;,\n",
       "                                                   &#x27;weight_1&#x27;, &#x27;weight_2&#x27;,\n",
       "                                                   &#x27;reach_1&#x27;, &#x27;reach_2&#x27;,\n",
       "                                                   &#x27;age_1&#x27;, &#x27;age_2&#x27;, &#x27;wins_1&#x27;,\n",
       "                                                   &#x27;wins_2&#x27;, &#x27;loses_1&#x27;,\n",
       "                                                   &#x27;loses_2&#x27;]),\n",
       "                                                 (&#x27;cat&#x27;,\n",
       "                                                  Pipeline(steps=[(&#x27;simpleimputer&#x27;,\n",
       "                                                                   SimpleImputer(strategy=&#x27;most_frequent&#x27;)),\n",
       "                                                                  (&#x27;onehotencoder&#x27;,\n",
       "                                                                   OneHotEncoder(handle_unknown=&#x27;ignore&#x27;))]),\n",
       "                                                  [&#x27;num_rounds&#x27;, &#x27;title_fight&#x27;,\n",
       "                                                   &#x27;weight_class&#x27;, &#x27;stance_1&#x27;,\n",
       "                                                   &#x27;stance_2&#x27;, &#x27;reach_1&#x27;,\n",
       "                                                   &#x27;reach_2&#x27;, &#x27;age_1&#x27;, &#x27;age_2&#x27;,\n",
       "                                                   &#x27;wins_1&#x27;, &#x27;wins_2&#x27;,\n",
       "                                                   &#x27;loses_1&#x27;, &#x27;loses_2&#x27;])])),\n",
       "                (&#x27;logisticregression&#x27;, LogisticRegression())])</pre></div></div></div><div class=\"sk-serial\"><div class=\"sk-item sk-dashed-wrapped\"><div class=\"sk-label-container\"><div class=\"sk-label sk-toggleable\"><input class=\"sk-toggleable__control sk-hidden--visually\" id=\"sk-estimator-id-5\" type=\"checkbox\" ><label for=\"sk-estimator-id-5\" class=\"sk-toggleable__label sk-toggleable__label-arrow\">columntransformer: ColumnTransformer</label><div class=\"sk-toggleable__content\"><pre>ColumnTransformer(transformers=[(&#x27;num&#x27;,\n",
       "                                 Pipeline(steps=[(&#x27;simpleimputer&#x27;,\n",
       "                                                  SimpleImputer(strategy=&#x27;median&#x27;)),\n",
       "                                                 (&#x27;standardscaler&#x27;,\n",
       "                                                  StandardScaler())]),\n",
       "                                 [&#x27;height_1&#x27;, &#x27;height_2&#x27;, &#x27;weight_1&#x27;,\n",
       "                                  &#x27;weight_2&#x27;, &#x27;reach_1&#x27;, &#x27;reach_2&#x27;, &#x27;age_1&#x27;,\n",
       "                                  &#x27;age_2&#x27;, &#x27;wins_1&#x27;, &#x27;wins_2&#x27;, &#x27;loses_1&#x27;,\n",
       "                                  &#x27;loses_2&#x27;]),\n",
       "                                (&#x27;cat&#x27;,\n",
       "                                 Pipeline(steps=[(&#x27;simpleimputer&#x27;,\n",
       "                                                  SimpleImputer(strategy=&#x27;most_frequent&#x27;)),\n",
       "                                                 (&#x27;onehotencoder&#x27;,\n",
       "                                                  OneHotEncoder(handle_unknown=&#x27;ignore&#x27;))]),\n",
       "                                 [&#x27;num_rounds&#x27;, &#x27;title_fight&#x27;, &#x27;weight_class&#x27;,\n",
       "                                  &#x27;stance_1&#x27;, &#x27;stance_2&#x27;, &#x27;reach_1&#x27;, &#x27;reach_2&#x27;,\n",
       "                                  &#x27;age_1&#x27;, &#x27;age_2&#x27;, &#x27;wins_1&#x27;, &#x27;wins_2&#x27;,\n",
       "                                  &#x27;loses_1&#x27;, &#x27;loses_2&#x27;])])</pre></div></div></div><div class=\"sk-parallel\"><div class=\"sk-parallel-item\"><div class=\"sk-item\"><div class=\"sk-label-container\"><div class=\"sk-label sk-toggleable\"><input class=\"sk-toggleable__control sk-hidden--visually\" id=\"sk-estimator-id-6\" type=\"checkbox\" ><label for=\"sk-estimator-id-6\" class=\"sk-toggleable__label sk-toggleable__label-arrow\">num</label><div class=\"sk-toggleable__content\"><pre>[&#x27;height_1&#x27;, &#x27;height_2&#x27;, &#x27;weight_1&#x27;, &#x27;weight_2&#x27;, &#x27;reach_1&#x27;, &#x27;reach_2&#x27;, &#x27;age_1&#x27;, &#x27;age_2&#x27;, &#x27;wins_1&#x27;, &#x27;wins_2&#x27;, &#x27;loses_1&#x27;, &#x27;loses_2&#x27;]</pre></div></div></div><div class=\"sk-serial\"><div class=\"sk-item\"><div class=\"sk-serial\"><div class=\"sk-item\"><div class=\"sk-estimator sk-toggleable\"><input class=\"sk-toggleable__control sk-hidden--visually\" id=\"sk-estimator-id-7\" type=\"checkbox\" ><label for=\"sk-estimator-id-7\" class=\"sk-toggleable__label sk-toggleable__label-arrow\">SimpleImputer</label><div class=\"sk-toggleable__content\"><pre>SimpleImputer(strategy=&#x27;median&#x27;)</pre></div></div></div><div class=\"sk-item\"><div class=\"sk-estimator sk-toggleable\"><input class=\"sk-toggleable__control sk-hidden--visually\" id=\"sk-estimator-id-8\" type=\"checkbox\" ><label for=\"sk-estimator-id-8\" class=\"sk-toggleable__label sk-toggleable__label-arrow\">StandardScaler</label><div class=\"sk-toggleable__content\"><pre>StandardScaler()</pre></div></div></div></div></div></div></div></div><div class=\"sk-parallel-item\"><div class=\"sk-item\"><div class=\"sk-label-container\"><div class=\"sk-label sk-toggleable\"><input class=\"sk-toggleable__control sk-hidden--visually\" id=\"sk-estimator-id-9\" type=\"checkbox\" ><label for=\"sk-estimator-id-9\" class=\"sk-toggleable__label sk-toggleable__label-arrow\">cat</label><div class=\"sk-toggleable__content\"><pre>[&#x27;num_rounds&#x27;, &#x27;title_fight&#x27;, &#x27;weight_class&#x27;, &#x27;stance_1&#x27;, &#x27;stance_2&#x27;, &#x27;reach_1&#x27;, &#x27;reach_2&#x27;, &#x27;age_1&#x27;, &#x27;age_2&#x27;, &#x27;wins_1&#x27;, &#x27;wins_2&#x27;, &#x27;loses_1&#x27;, &#x27;loses_2&#x27;]</pre></div></div></div><div class=\"sk-serial\"><div class=\"sk-item\"><div class=\"sk-serial\"><div class=\"sk-item\"><div class=\"sk-estimator sk-toggleable\"><input class=\"sk-toggleable__control sk-hidden--visually\" id=\"sk-estimator-id-10\" type=\"checkbox\" ><label for=\"sk-estimator-id-10\" class=\"sk-toggleable__label sk-toggleable__label-arrow\">SimpleImputer</label><div class=\"sk-toggleable__content\"><pre>SimpleImputer(strategy=&#x27;most_frequent&#x27;)</pre></div></div></div><div class=\"sk-item\"><div class=\"sk-estimator sk-toggleable\"><input class=\"sk-toggleable__control sk-hidden--visually\" id=\"sk-estimator-id-11\" type=\"checkbox\" ><label for=\"sk-estimator-id-11\" class=\"sk-toggleable__label sk-toggleable__label-arrow\">OneHotEncoder</label><div class=\"sk-toggleable__content\"><pre>OneHotEncoder(handle_unknown=&#x27;ignore&#x27;)</pre></div></div></div></div></div></div></div></div></div></div><div class=\"sk-item\"><div class=\"sk-estimator sk-toggleable\"><input class=\"sk-toggleable__control sk-hidden--visually\" id=\"sk-estimator-id-12\" type=\"checkbox\" ><label for=\"sk-estimator-id-12\" class=\"sk-toggleable__label sk-toggleable__label-arrow\">LogisticRegression</label><div class=\"sk-toggleable__content\"><pre>LogisticRegression()</pre></div></div></div></div></div></div></div>"
      ],
      "text/plain": [
       "Pipeline(steps=[('columntransformer',\n",
       "                 ColumnTransformer(transformers=[('num',\n",
       "                                                  Pipeline(steps=[('simpleimputer',\n",
       "                                                                   SimpleImputer(strategy='median')),\n",
       "                                                                  ('standardscaler',\n",
       "                                                                   StandardScaler())]),\n",
       "                                                  ['height_1', 'height_2',\n",
       "                                                   'weight_1', 'weight_2',\n",
       "                                                   'reach_1', 'reach_2',\n",
       "                                                   'age_1', 'age_2', 'wins_1',\n",
       "                                                   'wins_2', 'loses_1',\n",
       "                                                   'loses_2']),\n",
       "                                                 ('cat',\n",
       "                                                  Pipeline(steps=[('simpleimputer',\n",
       "                                                                   SimpleImputer(strategy='most_frequent')),\n",
       "                                                                  ('onehotencoder',\n",
       "                                                                   OneHotEncoder(handle_unknown='ignore'))]),\n",
       "                                                  ['num_rounds', 'title_fight',\n",
       "                                                   'weight_class', 'stance_1',\n",
       "                                                   'stance_2', 'reach_1',\n",
       "                                                   'reach_2', 'age_1', 'age_2',\n",
       "                                                   'wins_1', 'wins_2',\n",
       "                                                   'loses_1', 'loses_2'])])),\n",
       "                ('logisticregression', LogisticRegression())])"
      ]
     },
     "execution_count": 42,
     "metadata": {},
     "output_type": "execute_result"
    }
   ],
   "source": [
    "from sklearn.linear_model import LinearRegression\n",
    "from sklearn.linear_model import LogisticRegression\n",
    "\n",
    "log_reg = make_pipeline(preprocessing, LogisticRegression())\n",
    "log_reg.fit(fights, fights_labels)"
   ]
  },
  {
   "cell_type": "code",
   "execution_count": 43,
   "metadata": {},
   "outputs": [
    {
     "data": {
      "text/plain": [
       "array(['2', '2', '2', '1', '1'], dtype=object)"
      ]
     },
     "execution_count": 43,
     "metadata": {},
     "output_type": "execute_result"
    }
   ],
   "source": [
    "log_reg_predictions = log_reg.predict(fights)\n",
    "log_reg_predictions[:5]"
   ]
  },
  {
   "cell_type": "code",
   "execution_count": 44,
   "metadata": {},
   "outputs": [
    {
     "data": {
      "text/plain": [
       "array(['2', '2', '1', '2', '2'], dtype=object)"
      ]
     },
     "execution_count": 44,
     "metadata": {},
     "output_type": "execute_result"
    }
   ],
   "source": [
    "fights_labels.iloc[:5].values"
   ]
  },
  {
   "cell_type": "code",
   "execution_count": 45,
   "metadata": {},
   "outputs": [
    {
     "name": "stderr",
     "output_type": "stream",
     "text": [
      "C:\\Users\\yelba\\anaconda3\\envs\\machine_learning\\Lib\\site-packages\\sklearn\\linear_model\\_logistic.py:458: ConvergenceWarning: lbfgs failed to converge (status=1):\n",
      "STOP: TOTAL NO. of ITERATIONS REACHED LIMIT.\n",
      "\n",
      "Increase the number of iterations (max_iter) or scale the data as shown in:\n",
      "    https://scikit-learn.org/stable/modules/preprocessing.html\n",
      "Please also refer to the documentation for alternative solver options:\n",
      "    https://scikit-learn.org/stable/modules/linear_model.html#logistic-regression\n",
      "  n_iter_i = _check_optimize_result(\n",
      "C:\\Users\\yelba\\anaconda3\\envs\\machine_learning\\Lib\\site-packages\\sklearn\\linear_model\\_logistic.py:458: ConvergenceWarning: lbfgs failed to converge (status=1):\n",
      "STOP: TOTAL NO. of ITERATIONS REACHED LIMIT.\n",
      "\n",
      "Increase the number of iterations (max_iter) or scale the data as shown in:\n",
      "    https://scikit-learn.org/stable/modules/preprocessing.html\n",
      "Please also refer to the documentation for alternative solver options:\n",
      "    https://scikit-learn.org/stable/modules/linear_model.html#logistic-regression\n",
      "  n_iter_i = _check_optimize_result(\n",
      "C:\\Users\\yelba\\anaconda3\\envs\\machine_learning\\Lib\\site-packages\\sklearn\\linear_model\\_logistic.py:458: ConvergenceWarning: lbfgs failed to converge (status=1):\n",
      "STOP: TOTAL NO. of ITERATIONS REACHED LIMIT.\n",
      "\n",
      "Increase the number of iterations (max_iter) or scale the data as shown in:\n",
      "    https://scikit-learn.org/stable/modules/preprocessing.html\n",
      "Please also refer to the documentation for alternative solver options:\n",
      "    https://scikit-learn.org/stable/modules/linear_model.html#logistic-regression\n",
      "  n_iter_i = _check_optimize_result(\n",
      "C:\\Users\\yelba\\anaconda3\\envs\\machine_learning\\Lib\\site-packages\\sklearn\\linear_model\\_logistic.py:458: ConvergenceWarning: lbfgs failed to converge (status=1):\n",
      "STOP: TOTAL NO. of ITERATIONS REACHED LIMIT.\n",
      "\n",
      "Increase the number of iterations (max_iter) or scale the data as shown in:\n",
      "    https://scikit-learn.org/stable/modules/preprocessing.html\n",
      "Please also refer to the documentation for alternative solver options:\n",
      "    https://scikit-learn.org/stable/modules/linear_model.html#logistic-regression\n",
      "  n_iter_i = _check_optimize_result(\n",
      "C:\\Users\\yelba\\anaconda3\\envs\\machine_learning\\Lib\\site-packages\\sklearn\\linear_model\\_logistic.py:458: ConvergenceWarning: lbfgs failed to converge (status=1):\n",
      "STOP: TOTAL NO. of ITERATIONS REACHED LIMIT.\n",
      "\n",
      "Increase the number of iterations (max_iter) or scale the data as shown in:\n",
      "    https://scikit-learn.org/stable/modules/preprocessing.html\n",
      "Please also refer to the documentation for alternative solver options:\n",
      "    https://scikit-learn.org/stable/modules/linear_model.html#logistic-regression\n",
      "  n_iter_i = _check_optimize_result(\n"
     ]
    },
    {
     "data": {
      "text/plain": [
       "array([0.58633388, 0.57756856, 0.60417519, 0.59230454, 0.59516987])"
      ]
     },
     "execution_count": 45,
     "metadata": {},
     "output_type": "execute_result"
    }
   ],
   "source": [
    "from sklearn.model_selection import cross_val_score\n",
    "\n",
    "cross_val_score(log_reg, fights, fights_labels, cv=5, scoring=\"accuracy\")"
   ]
  },
  {
   "cell_type": "markdown",
   "metadata": {},
   "source": [
    "**Stochastic Gradient Descent**"
   ]
  },
  {
   "cell_type": "code",
   "execution_count": 46,
   "metadata": {},
   "outputs": [
    {
     "data": {
      "text/html": [
       "<style>#sk-container-id-3 {color: black;background-color: white;}#sk-container-id-3 pre{padding: 0;}#sk-container-id-3 div.sk-toggleable {background-color: white;}#sk-container-id-3 label.sk-toggleable__label {cursor: pointer;display: block;width: 100%;margin-bottom: 0;padding: 0.3em;box-sizing: border-box;text-align: center;}#sk-container-id-3 label.sk-toggleable__label-arrow:before {content: \"▸\";float: left;margin-right: 0.25em;color: #696969;}#sk-container-id-3 label.sk-toggleable__label-arrow:hover:before {color: black;}#sk-container-id-3 div.sk-estimator:hover label.sk-toggleable__label-arrow:before {color: black;}#sk-container-id-3 div.sk-toggleable__content {max-height: 0;max-width: 0;overflow: hidden;text-align: left;background-color: #f0f8ff;}#sk-container-id-3 div.sk-toggleable__content pre {margin: 0.2em;color: black;border-radius: 0.25em;background-color: #f0f8ff;}#sk-container-id-3 input.sk-toggleable__control:checked~div.sk-toggleable__content {max-height: 200px;max-width: 100%;overflow: auto;}#sk-container-id-3 input.sk-toggleable__control:checked~label.sk-toggleable__label-arrow:before {content: \"▾\";}#sk-container-id-3 div.sk-estimator input.sk-toggleable__control:checked~label.sk-toggleable__label {background-color: #d4ebff;}#sk-container-id-3 div.sk-label input.sk-toggleable__control:checked~label.sk-toggleable__label {background-color: #d4ebff;}#sk-container-id-3 input.sk-hidden--visually {border: 0;clip: rect(1px 1px 1px 1px);clip: rect(1px, 1px, 1px, 1px);height: 1px;margin: -1px;overflow: hidden;padding: 0;position: absolute;width: 1px;}#sk-container-id-3 div.sk-estimator {font-family: monospace;background-color: #f0f8ff;border: 1px dotted black;border-radius: 0.25em;box-sizing: border-box;margin-bottom: 0.5em;}#sk-container-id-3 div.sk-estimator:hover {background-color: #d4ebff;}#sk-container-id-3 div.sk-parallel-item::after {content: \"\";width: 100%;border-bottom: 1px solid gray;flex-grow: 1;}#sk-container-id-3 div.sk-label:hover label.sk-toggleable__label {background-color: #d4ebff;}#sk-container-id-3 div.sk-serial::before {content: \"\";position: absolute;border-left: 1px solid gray;box-sizing: border-box;top: 0;bottom: 0;left: 50%;z-index: 0;}#sk-container-id-3 div.sk-serial {display: flex;flex-direction: column;align-items: center;background-color: white;padding-right: 0.2em;padding-left: 0.2em;position: relative;}#sk-container-id-3 div.sk-item {position: relative;z-index: 1;}#sk-container-id-3 div.sk-parallel {display: flex;align-items: stretch;justify-content: center;background-color: white;position: relative;}#sk-container-id-3 div.sk-item::before, #sk-container-id-3 div.sk-parallel-item::before {content: \"\";position: absolute;border-left: 1px solid gray;box-sizing: border-box;top: 0;bottom: 0;left: 50%;z-index: -1;}#sk-container-id-3 div.sk-parallel-item {display: flex;flex-direction: column;z-index: 1;position: relative;background-color: white;}#sk-container-id-3 div.sk-parallel-item:first-child::after {align-self: flex-end;width: 50%;}#sk-container-id-3 div.sk-parallel-item:last-child::after {align-self: flex-start;width: 50%;}#sk-container-id-3 div.sk-parallel-item:only-child::after {width: 0;}#sk-container-id-3 div.sk-dashed-wrapped {border: 1px dashed gray;margin: 0 0.4em 0.5em 0.4em;box-sizing: border-box;padding-bottom: 0.4em;background-color: white;}#sk-container-id-3 div.sk-label label {font-family: monospace;font-weight: bold;display: inline-block;line-height: 1.2em;}#sk-container-id-3 div.sk-label-container {text-align: center;}#sk-container-id-3 div.sk-container {/* jupyter's `normalize.less` sets `[hidden] { display: none; }` but bootstrap.min.css set `[hidden] { display: none !important; }` so we also need the `!important` here to be able to override the default hidden behavior on the sphinx rendered scikit-learn.org. See: https://github.com/scikit-learn/scikit-learn/issues/21755 */display: inline-block !important;position: relative;}#sk-container-id-3 div.sk-text-repr-fallback {display: none;}</style><div id=\"sk-container-id-3\" class=\"sk-top-container\"><div class=\"sk-text-repr-fallback\"><pre>Pipeline(steps=[(&#x27;columntransformer&#x27;,\n",
       "                 ColumnTransformer(transformers=[(&#x27;num&#x27;,\n",
       "                                                  Pipeline(steps=[(&#x27;simpleimputer&#x27;,\n",
       "                                                                   SimpleImputer(strategy=&#x27;median&#x27;)),\n",
       "                                                                  (&#x27;standardscaler&#x27;,\n",
       "                                                                   StandardScaler())]),\n",
       "                                                  [&#x27;height_1&#x27;, &#x27;height_2&#x27;,\n",
       "                                                   &#x27;weight_1&#x27;, &#x27;weight_2&#x27;,\n",
       "                                                   &#x27;reach_1&#x27;, &#x27;reach_2&#x27;,\n",
       "                                                   &#x27;age_1&#x27;, &#x27;age_2&#x27;, &#x27;wins_1&#x27;,\n",
       "                                                   &#x27;wins_2&#x27;, &#x27;loses_1&#x27;,\n",
       "                                                   &#x27;loses_2&#x27;]),\n",
       "                                                 (&#x27;cat&#x27;,\n",
       "                                                  Pipeline(steps=[(&#x27;simpleimputer&#x27;,\n",
       "                                                                   SimpleImputer(strategy=&#x27;most_frequent&#x27;)),\n",
       "                                                                  (&#x27;onehotencoder&#x27;,\n",
       "                                                                   OneHotEncoder(handle_unknown=&#x27;ignore&#x27;))]),\n",
       "                                                  [&#x27;num_rounds&#x27;, &#x27;title_fight&#x27;,\n",
       "                                                   &#x27;weight_class&#x27;, &#x27;stance_1&#x27;,\n",
       "                                                   &#x27;stance_2&#x27;, &#x27;reach_1&#x27;,\n",
       "                                                   &#x27;reach_2&#x27;, &#x27;age_1&#x27;, &#x27;age_2&#x27;,\n",
       "                                                   &#x27;wins_1&#x27;, &#x27;wins_2&#x27;,\n",
       "                                                   &#x27;loses_1&#x27;, &#x27;loses_2&#x27;])])),\n",
       "                (&#x27;sgdclassifier&#x27;, SGDClassifier(random_state=42))])</pre><b>In a Jupyter environment, please rerun this cell to show the HTML representation or trust the notebook. <br />On GitHub, the HTML representation is unable to render, please try loading this page with nbviewer.org.</b></div><div class=\"sk-container\" hidden><div class=\"sk-item sk-dashed-wrapped\"><div class=\"sk-label-container\"><div class=\"sk-label sk-toggleable\"><input class=\"sk-toggleable__control sk-hidden--visually\" id=\"sk-estimator-id-13\" type=\"checkbox\" ><label for=\"sk-estimator-id-13\" class=\"sk-toggleable__label sk-toggleable__label-arrow\">Pipeline</label><div class=\"sk-toggleable__content\"><pre>Pipeline(steps=[(&#x27;columntransformer&#x27;,\n",
       "                 ColumnTransformer(transformers=[(&#x27;num&#x27;,\n",
       "                                                  Pipeline(steps=[(&#x27;simpleimputer&#x27;,\n",
       "                                                                   SimpleImputer(strategy=&#x27;median&#x27;)),\n",
       "                                                                  (&#x27;standardscaler&#x27;,\n",
       "                                                                   StandardScaler())]),\n",
       "                                                  [&#x27;height_1&#x27;, &#x27;height_2&#x27;,\n",
       "                                                   &#x27;weight_1&#x27;, &#x27;weight_2&#x27;,\n",
       "                                                   &#x27;reach_1&#x27;, &#x27;reach_2&#x27;,\n",
       "                                                   &#x27;age_1&#x27;, &#x27;age_2&#x27;, &#x27;wins_1&#x27;,\n",
       "                                                   &#x27;wins_2&#x27;, &#x27;loses_1&#x27;,\n",
       "                                                   &#x27;loses_2&#x27;]),\n",
       "                                                 (&#x27;cat&#x27;,\n",
       "                                                  Pipeline(steps=[(&#x27;simpleimputer&#x27;,\n",
       "                                                                   SimpleImputer(strategy=&#x27;most_frequent&#x27;)),\n",
       "                                                                  (&#x27;onehotencoder&#x27;,\n",
       "                                                                   OneHotEncoder(handle_unknown=&#x27;ignore&#x27;))]),\n",
       "                                                  [&#x27;num_rounds&#x27;, &#x27;title_fight&#x27;,\n",
       "                                                   &#x27;weight_class&#x27;, &#x27;stance_1&#x27;,\n",
       "                                                   &#x27;stance_2&#x27;, &#x27;reach_1&#x27;,\n",
       "                                                   &#x27;reach_2&#x27;, &#x27;age_1&#x27;, &#x27;age_2&#x27;,\n",
       "                                                   &#x27;wins_1&#x27;, &#x27;wins_2&#x27;,\n",
       "                                                   &#x27;loses_1&#x27;, &#x27;loses_2&#x27;])])),\n",
       "                (&#x27;sgdclassifier&#x27;, SGDClassifier(random_state=42))])</pre></div></div></div><div class=\"sk-serial\"><div class=\"sk-item sk-dashed-wrapped\"><div class=\"sk-label-container\"><div class=\"sk-label sk-toggleable\"><input class=\"sk-toggleable__control sk-hidden--visually\" id=\"sk-estimator-id-14\" type=\"checkbox\" ><label for=\"sk-estimator-id-14\" class=\"sk-toggleable__label sk-toggleable__label-arrow\">columntransformer: ColumnTransformer</label><div class=\"sk-toggleable__content\"><pre>ColumnTransformer(transformers=[(&#x27;num&#x27;,\n",
       "                                 Pipeline(steps=[(&#x27;simpleimputer&#x27;,\n",
       "                                                  SimpleImputer(strategy=&#x27;median&#x27;)),\n",
       "                                                 (&#x27;standardscaler&#x27;,\n",
       "                                                  StandardScaler())]),\n",
       "                                 [&#x27;height_1&#x27;, &#x27;height_2&#x27;, &#x27;weight_1&#x27;,\n",
       "                                  &#x27;weight_2&#x27;, &#x27;reach_1&#x27;, &#x27;reach_2&#x27;, &#x27;age_1&#x27;,\n",
       "                                  &#x27;age_2&#x27;, &#x27;wins_1&#x27;, &#x27;wins_2&#x27;, &#x27;loses_1&#x27;,\n",
       "                                  &#x27;loses_2&#x27;]),\n",
       "                                (&#x27;cat&#x27;,\n",
       "                                 Pipeline(steps=[(&#x27;simpleimputer&#x27;,\n",
       "                                                  SimpleImputer(strategy=&#x27;most_frequent&#x27;)),\n",
       "                                                 (&#x27;onehotencoder&#x27;,\n",
       "                                                  OneHotEncoder(handle_unknown=&#x27;ignore&#x27;))]),\n",
       "                                 [&#x27;num_rounds&#x27;, &#x27;title_fight&#x27;, &#x27;weight_class&#x27;,\n",
       "                                  &#x27;stance_1&#x27;, &#x27;stance_2&#x27;, &#x27;reach_1&#x27;, &#x27;reach_2&#x27;,\n",
       "                                  &#x27;age_1&#x27;, &#x27;age_2&#x27;, &#x27;wins_1&#x27;, &#x27;wins_2&#x27;,\n",
       "                                  &#x27;loses_1&#x27;, &#x27;loses_2&#x27;])])</pre></div></div></div><div class=\"sk-parallel\"><div class=\"sk-parallel-item\"><div class=\"sk-item\"><div class=\"sk-label-container\"><div class=\"sk-label sk-toggleable\"><input class=\"sk-toggleable__control sk-hidden--visually\" id=\"sk-estimator-id-15\" type=\"checkbox\" ><label for=\"sk-estimator-id-15\" class=\"sk-toggleable__label sk-toggleable__label-arrow\">num</label><div class=\"sk-toggleable__content\"><pre>[&#x27;height_1&#x27;, &#x27;height_2&#x27;, &#x27;weight_1&#x27;, &#x27;weight_2&#x27;, &#x27;reach_1&#x27;, &#x27;reach_2&#x27;, &#x27;age_1&#x27;, &#x27;age_2&#x27;, &#x27;wins_1&#x27;, &#x27;wins_2&#x27;, &#x27;loses_1&#x27;, &#x27;loses_2&#x27;]</pre></div></div></div><div class=\"sk-serial\"><div class=\"sk-item\"><div class=\"sk-serial\"><div class=\"sk-item\"><div class=\"sk-estimator sk-toggleable\"><input class=\"sk-toggleable__control sk-hidden--visually\" id=\"sk-estimator-id-16\" type=\"checkbox\" ><label for=\"sk-estimator-id-16\" class=\"sk-toggleable__label sk-toggleable__label-arrow\">SimpleImputer</label><div class=\"sk-toggleable__content\"><pre>SimpleImputer(strategy=&#x27;median&#x27;)</pre></div></div></div><div class=\"sk-item\"><div class=\"sk-estimator sk-toggleable\"><input class=\"sk-toggleable__control sk-hidden--visually\" id=\"sk-estimator-id-17\" type=\"checkbox\" ><label for=\"sk-estimator-id-17\" class=\"sk-toggleable__label sk-toggleable__label-arrow\">StandardScaler</label><div class=\"sk-toggleable__content\"><pre>StandardScaler()</pre></div></div></div></div></div></div></div></div><div class=\"sk-parallel-item\"><div class=\"sk-item\"><div class=\"sk-label-container\"><div class=\"sk-label sk-toggleable\"><input class=\"sk-toggleable__control sk-hidden--visually\" id=\"sk-estimator-id-18\" type=\"checkbox\" ><label for=\"sk-estimator-id-18\" class=\"sk-toggleable__label sk-toggleable__label-arrow\">cat</label><div class=\"sk-toggleable__content\"><pre>[&#x27;num_rounds&#x27;, &#x27;title_fight&#x27;, &#x27;weight_class&#x27;, &#x27;stance_1&#x27;, &#x27;stance_2&#x27;, &#x27;reach_1&#x27;, &#x27;reach_2&#x27;, &#x27;age_1&#x27;, &#x27;age_2&#x27;, &#x27;wins_1&#x27;, &#x27;wins_2&#x27;, &#x27;loses_1&#x27;, &#x27;loses_2&#x27;]</pre></div></div></div><div class=\"sk-serial\"><div class=\"sk-item\"><div class=\"sk-serial\"><div class=\"sk-item\"><div class=\"sk-estimator sk-toggleable\"><input class=\"sk-toggleable__control sk-hidden--visually\" id=\"sk-estimator-id-19\" type=\"checkbox\" ><label for=\"sk-estimator-id-19\" class=\"sk-toggleable__label sk-toggleable__label-arrow\">SimpleImputer</label><div class=\"sk-toggleable__content\"><pre>SimpleImputer(strategy=&#x27;most_frequent&#x27;)</pre></div></div></div><div class=\"sk-item\"><div class=\"sk-estimator sk-toggleable\"><input class=\"sk-toggleable__control sk-hidden--visually\" id=\"sk-estimator-id-20\" type=\"checkbox\" ><label for=\"sk-estimator-id-20\" class=\"sk-toggleable__label sk-toggleable__label-arrow\">OneHotEncoder</label><div class=\"sk-toggleable__content\"><pre>OneHotEncoder(handle_unknown=&#x27;ignore&#x27;)</pre></div></div></div></div></div></div></div></div></div></div><div class=\"sk-item\"><div class=\"sk-estimator sk-toggleable\"><input class=\"sk-toggleable__control sk-hidden--visually\" id=\"sk-estimator-id-21\" type=\"checkbox\" ><label for=\"sk-estimator-id-21\" class=\"sk-toggleable__label sk-toggleable__label-arrow\">SGDClassifier</label><div class=\"sk-toggleable__content\"><pre>SGDClassifier(random_state=42)</pre></div></div></div></div></div></div></div>"
      ],
      "text/plain": [
       "Pipeline(steps=[('columntransformer',\n",
       "                 ColumnTransformer(transformers=[('num',\n",
       "                                                  Pipeline(steps=[('simpleimputer',\n",
       "                                                                   SimpleImputer(strategy='median')),\n",
       "                                                                  ('standardscaler',\n",
       "                                                                   StandardScaler())]),\n",
       "                                                  ['height_1', 'height_2',\n",
       "                                                   'weight_1', 'weight_2',\n",
       "                                                   'reach_1', 'reach_2',\n",
       "                                                   'age_1', 'age_2', 'wins_1',\n",
       "                                                   'wins_2', 'loses_1',\n",
       "                                                   'loses_2']),\n",
       "                                                 ('cat',\n",
       "                                                  Pipeline(steps=[('simpleimputer',\n",
       "                                                                   SimpleImputer(strategy='most_frequent')),\n",
       "                                                                  ('onehotencoder',\n",
       "                                                                   OneHotEncoder(handle_unknown='ignore'))]),\n",
       "                                                  ['num_rounds', 'title_fight',\n",
       "                                                   'weight_class', 'stance_1',\n",
       "                                                   'stance_2', 'reach_1',\n",
       "                                                   'reach_2', 'age_1', 'age_2',\n",
       "                                                   'wins_1', 'wins_2',\n",
       "                                                   'loses_1', 'loses_2'])])),\n",
       "                ('sgdclassifier', SGDClassifier(random_state=42))])"
      ]
     },
     "execution_count": 46,
     "metadata": {},
     "output_type": "execute_result"
    }
   ],
   "source": [
    "from sklearn.linear_model import SGDClassifier\n",
    "\n",
    "sgd_clf = make_pipeline(preprocessing, SGDClassifier(random_state=42))\n",
    "\n",
    "sgd_clf.fit(fights, fights_labels)"
   ]
  },
  {
   "cell_type": "code",
   "execution_count": 47,
   "metadata": {},
   "outputs": [
    {
     "data": {
      "text/plain": [
       "array(['2', '2', '2', '1', '2'], dtype='<U1')"
      ]
     },
     "execution_count": 47,
     "metadata": {},
     "output_type": "execute_result"
    }
   ],
   "source": [
    "sgd_predictions = sgd_clf.predict(fights)\n",
    "sgd_predictions[:5]"
   ]
  },
  {
   "cell_type": "code",
   "execution_count": 48,
   "metadata": {},
   "outputs": [
    {
     "data": {
      "text/plain": [
       "array([0.57733224, 0.57920589, 0.59148588, 0.56160458, 0.57920589])"
      ]
     },
     "execution_count": 48,
     "metadata": {},
     "output_type": "execute_result"
    }
   ],
   "source": [
    "cross_val_score(sgd_clf, fights, fights_labels, cv=5, scoring=\"accuracy\")"
   ]
  },
  {
   "cell_type": "markdown",
   "metadata": {},
   "source": [
    "**Dummy Classifier**"
   ]
  },
  {
   "cell_type": "code",
   "execution_count": 49,
   "metadata": {},
   "outputs": [
    {
     "name": "stdout",
     "output_type": "stream",
     "text": [
      "True\n"
     ]
    }
   ],
   "source": [
    "from sklearn.dummy import DummyClassifier\n",
    "\n",
    "dummy_clf = make_pipeline(preprocessing, DummyClassifier())\n",
    "dummy_clf.fit(fights, fights_labels)\n",
    "print(any(dummy_clf.predict(fights)))"
   ]
  },
  {
   "cell_type": "code",
   "execution_count": 50,
   "metadata": {},
   "outputs": [
    {
     "data": {
      "text/plain": [
       "array([0.5       , 0.49979533, 0.49979533, 0.49979533, 0.49979533])"
      ]
     },
     "execution_count": 50,
     "metadata": {},
     "output_type": "execute_result"
    }
   ],
   "source": [
    "cross_val_score(dummy_clf, fights, fights_labels, cv=5, scoring=\"accuracy\")"
   ]
  },
  {
   "cell_type": "markdown",
   "metadata": {},
   "source": [
    "**Batch Gradient Descent**"
   ]
  },
  {
   "cell_type": "markdown",
   "metadata": {},
   "source": [
    "# Evaluate the Model"
   ]
  },
  {
   "cell_type": "code",
   "execution_count": 51,
   "metadata": {},
   "outputs": [
    {
     "name": "stderr",
     "output_type": "stream",
     "text": [
      "C:\\Users\\yelba\\anaconda3\\envs\\machine_learning\\Lib\\site-packages\\sklearn\\linear_model\\_logistic.py:458: ConvergenceWarning: lbfgs failed to converge (status=1):\n",
      "STOP: TOTAL NO. of ITERATIONS REACHED LIMIT.\n",
      "\n",
      "Increase the number of iterations (max_iter) or scale the data as shown in:\n",
      "    https://scikit-learn.org/stable/modules/preprocessing.html\n",
      "Please also refer to the documentation for alternative solver options:\n",
      "    https://scikit-learn.org/stable/modules/linear_model.html#logistic-regression\n",
      "  n_iter_i = _check_optimize_result(\n",
      "C:\\Users\\yelba\\anaconda3\\envs\\machine_learning\\Lib\\site-packages\\sklearn\\linear_model\\_logistic.py:458: ConvergenceWarning: lbfgs failed to converge (status=1):\n",
      "STOP: TOTAL NO. of ITERATIONS REACHED LIMIT.\n",
      "\n",
      "Increase the number of iterations (max_iter) or scale the data as shown in:\n",
      "    https://scikit-learn.org/stable/modules/preprocessing.html\n",
      "Please also refer to the documentation for alternative solver options:\n",
      "    https://scikit-learn.org/stable/modules/linear_model.html#logistic-regression\n",
      "  n_iter_i = _check_optimize_result(\n",
      "C:\\Users\\yelba\\anaconda3\\envs\\machine_learning\\Lib\\site-packages\\sklearn\\linear_model\\_logistic.py:458: ConvergenceWarning: lbfgs failed to converge (status=1):\n",
      "STOP: TOTAL NO. of ITERATIONS REACHED LIMIT.\n",
      "\n",
      "Increase the number of iterations (max_iter) or scale the data as shown in:\n",
      "    https://scikit-learn.org/stable/modules/preprocessing.html\n",
      "Please also refer to the documentation for alternative solver options:\n",
      "    https://scikit-learn.org/stable/modules/linear_model.html#logistic-regression\n",
      "  n_iter_i = _check_optimize_result(\n",
      "C:\\Users\\yelba\\anaconda3\\envs\\machine_learning\\Lib\\site-packages\\sklearn\\linear_model\\_logistic.py:458: ConvergenceWarning: lbfgs failed to converge (status=1):\n",
      "STOP: TOTAL NO. of ITERATIONS REACHED LIMIT.\n",
      "\n",
      "Increase the number of iterations (max_iter) or scale the data as shown in:\n",
      "    https://scikit-learn.org/stable/modules/preprocessing.html\n",
      "Please also refer to the documentation for alternative solver options:\n",
      "    https://scikit-learn.org/stable/modules/linear_model.html#logistic-regression\n",
      "  n_iter_i = _check_optimize_result(\n",
      "C:\\Users\\yelba\\anaconda3\\envs\\machine_learning\\Lib\\site-packages\\sklearn\\linear_model\\_logistic.py:458: ConvergenceWarning: lbfgs failed to converge (status=1):\n",
      "STOP: TOTAL NO. of ITERATIONS REACHED LIMIT.\n",
      "\n",
      "Increase the number of iterations (max_iter) or scale the data as shown in:\n",
      "    https://scikit-learn.org/stable/modules/preprocessing.html\n",
      "Please also refer to the documentation for alternative solver options:\n",
      "    https://scikit-learn.org/stable/modules/linear_model.html#logistic-regression\n",
      "  n_iter_i = _check_optimize_result(\n"
     ]
    },
    {
     "data": {
      "text/plain": [
       "array([0.59722222, 0.55684455, 0.53596288, 0.54292343, 0.56612529])"
      ]
     },
     "execution_count": 51,
     "metadata": {},
     "output_type": "execute_result"
    }
   ],
   "source": [
    "X_test = strat_test_set.drop(\"winner\", axis=1)\n",
    "y_test = strat_test_set[\"winner\"].copy()\n",
    "\n",
    "final_predictions = log_reg.predict(X_test)\n",
    "\n",
    "cross_val_score(log_reg, X_test, y_test, cv=5, scoring=\"accuracy\")"
   ]
  },
  {
   "cell_type": "code",
   "execution_count": 52,
   "metadata": {},
   "outputs": [
    {
     "data": {
      "text/plain": [
       "array([0.57175926, 0.53364269, 0.57540603, 0.52668213, 0.57308585])"
      ]
     },
     "execution_count": 52,
     "metadata": {},
     "output_type": "execute_result"
    }
   ],
   "source": [
    "cross_val_score(sgd_clf, X_test, y_test, cv=5, scoring=\"accuracy\")"
   ]
  },
  {
   "cell_type": "markdown",
   "metadata": {},
   "source": [
    "# Neural Network"
   ]
  },
  {
   "cell_type": "code",
   "execution_count": 53,
   "metadata": {},
   "outputs": [],
   "source": [
    "X_train, y_train = fights[:-1000], fights_labels[:-1000]\n",
    "X_valid, y_valid = fights[-1000:], fights_labels[-1000:]"
   ]
  },
  {
   "cell_type": "code",
   "execution_count": 54,
   "metadata": {},
   "outputs": [],
   "source": [
    "num_attribs = [\"height_1\", \"height_2\", \"weight_1\", \"weight_2\",\n",
    "               \"reach_1\", \"reach_2\", \"age_1\", \"age_2\", \"wins_1\",\"wins_2\",\"loses_1\",\"loses_2\"]\n",
    "cat_attribs = [\"num_rounds\", \"title_fight\", \"weight_class\", \"stance_1\",\"stance_2\",\n",
    "               \"reach_1\", \"reach_2\", \"age_1\", \"age_2\", \"wins_1\",\"wins_2\",\"loses_1\",\"loses_2\"]\n",
    "\n",
    "num_pipeline = make_pipeline(SimpleImputer(strategy=\"median\"), StandardScaler())\n",
    "cat_pipeline = make_pipeline(\n",
    "    SimpleImputer(strategy=\"most_frequent\"),\n",
    "    OneHotEncoder(handle_unknown=\"ignore\"))\n",
    "\n",
    "preprocessing = ColumnTransformer([\n",
    "    (\"num\", num_pipeline, num_attribs),\n",
    "    (\"cat\", cat_pipeline, cat_attribs),\n",
    "])"
   ]
  },
  {
   "cell_type": "code",
   "execution_count": 55,
   "metadata": {},
   "outputs": [],
   "source": [
    "X_train = preprocessing.fit_transform(X_train)\n",
    "X_valid = preprocessing.transform(X_valid)\n",
    "\n",
    "input_shape = [X_train.shape[1]]"
   ]
  },
  {
   "cell_type": "code",
   "execution_count": 56,
   "metadata": {},
   "outputs": [],
   "source": [
    "from sklearn.preprocessing import LabelEncoder\n",
    "\n",
    "encoder = LabelEncoder()\n",
    "encoder.fit(y_train)\n",
    "encoded_yt = encoder.transform(y_train)\n",
    "encoded_yv = encoder.transform(y_valid)"
   ]
  },
  {
   "cell_type": "code",
   "execution_count": 57,
   "metadata": {},
   "outputs": [
    {
     "name": "stdout",
     "output_type": "stream",
     "text": [
      "WARNING:tensorflow:From C:\\Users\\yelba\\AppData\\Roaming\\Python\\Python311\\site-packages\\keras\\src\\losses.py:2976: The name tf.losses.sparse_softmax_cross_entropy is deprecated. Please use tf.compat.v1.losses.sparse_softmax_cross_entropy instead.\n",
      "\n",
      "WARNING:tensorflow:From C:\\Users\\yelba\\AppData\\Roaming\\Python\\Python311\\site-packages\\keras\\src\\backend.py:1398: The name tf.executing_eagerly_outside_functions is deprecated. Please use tf.compat.v1.executing_eagerly_outside_functions instead.\n",
      "\n",
      "WARNING:tensorflow:From C:\\Users\\yelba\\AppData\\Roaming\\Python\\Python311\\site-packages\\keras\\src\\optimizers\\__init__.py:309: The name tf.train.Optimizer is deprecated. Please use tf.compat.v1.train.Optimizer instead.\n",
      "\n"
     ]
    }
   ],
   "source": [
    "from tensorflow import keras\n",
    "from tensorflow.keras import layers\n",
    "\n",
    "model = keras.Sequential([\n",
    "    layers.Input(shape=(268,)),\n",
    "    layers.Dense(17, activation='relu'),\n",
    "    layers.Dense(17, activation='relu'),\n",
    "    layers.Dense(1, activation='sigmoid'),\n",
    "])\n",
    "\n",
    "model.compile(\n",
    "    optimizer='adam',\n",
    "    loss='binary_crossentropy',\n",
    "    metrics=['binary_accuracy'],\n",
    ")\n",
    "\n",
    "early_stopping = keras.callbacks.EarlyStopping(\n",
    "    patience=5,\n",
    "    min_delta=0.001,\n",
    "    restore_best_weights=True,\n",
    ")"
   ]
  },
  {
   "cell_type": "code",
   "execution_count": 58,
   "metadata": {},
   "outputs": [
    {
     "name": "stdout",
     "output_type": "stream",
     "text": [
      "Epoch 1/20\n",
      "WARNING:tensorflow:From C:\\Users\\yelba\\AppData\\Roaming\\Python\\Python311\\site-packages\\keras\\src\\utils\\tf_utils.py:492: The name tf.ragged.RaggedTensorValue is deprecated. Please use tf.compat.v1.ragged.RaggedTensorValue instead.\n",
      "\n",
      "WARNING:tensorflow:From C:\\Users\\yelba\\AppData\\Roaming\\Python\\Python311\\site-packages\\keras\\src\\engine\\base_layer_utils.py:384: The name tf.executing_eagerly_outside_functions is deprecated. Please use tf.compat.v1.executing_eagerly_outside_functions instead.\n",
      "\n",
      "351/351 [==============================] - 3s 4ms/step - loss: 0.6871 - binary_accuracy: 0.5330 - val_loss: 0.6697 - val_binary_accuracy: 0.5930\n",
      "Epoch 2/20\n",
      "351/351 [==============================] - 1s 3ms/step - loss: 0.6538 - binary_accuracy: 0.5920 - val_loss: 0.6502 - val_binary_accuracy: 0.5810\n",
      "Epoch 3/20\n",
      "351/351 [==============================] - 1s 3ms/step - loss: 0.6272 - binary_accuracy: 0.6215 - val_loss: 0.6460 - val_binary_accuracy: 0.5980\n",
      "Epoch 4/20\n",
      "351/351 [==============================] - 1s 3ms/step - loss: 0.6111 - binary_accuracy: 0.6353 - val_loss: 0.6454 - val_binary_accuracy: 0.5840\n",
      "Epoch 5/20\n",
      "351/351 [==============================] - 1s 3ms/step - loss: 0.6024 - binary_accuracy: 0.6435 - val_loss: 0.6478 - val_binary_accuracy: 0.5880\n",
      "Epoch 6/20\n",
      "351/351 [==============================] - 1s 3ms/step - loss: 0.5947 - binary_accuracy: 0.6590 - val_loss: 0.6535 - val_binary_accuracy: 0.5850\n",
      "Epoch 7/20\n",
      "351/351 [==============================] - 1s 3ms/step - loss: 0.5880 - binary_accuracy: 0.6658 - val_loss: 0.6566 - val_binary_accuracy: 0.5810\n",
      "Epoch 8/20\n",
      "351/351 [==============================] - 1s 3ms/step - loss: 0.5805 - binary_accuracy: 0.6689 - val_loss: 0.6584 - val_binary_accuracy: 0.5800\n"
     ]
    }
   ],
   "source": [
    "history = model.fit(\n",
    "    X_train, encoded_yt,\n",
    "    validation_data=(X_valid, encoded_yv),\n",
    "    epochs=20,\n",
    "    callbacks=[early_stopping],\n",
    ")"
   ]
  },
  {
   "cell_type": "code",
   "execution_count": 59,
   "metadata": {},
   "outputs": [
    {
     "data": {
      "text/plain": [
       "<Axes: title={'center': 'Accuracy'}>"
      ]
     },
     "execution_count": 59,
     "metadata": {},
     "output_type": "execute_result"
    },
    {
     "data": {
      "image/png": "[encoded data removed]",
      "text/plain": [
       "<Figure size 800x550 with 1 Axes>"
      ]
     },
     "metadata": {},
     "output_type": "display_data"
    },
    {
     "data": {
      "image/png": "[encoded data removed]",
      "text/plain": [
       "<Figure size 800x550 with 1 Axes>"
      ]
     },
     "metadata": {},
     "output_type": "display_data"
    }
   ],
   "source": [
    "history_df = pd.DataFrame(history.history)\n",
    "history_df.loc[:, ['loss', 'val_loss']].plot(title=\"Cross-entropy\")\n",
    "history_df.loc[:, ['binary_accuracy', 'val_binary_accuracy']].plot(title=\"Accuracy\")"
   ]
  },
  {
   "cell_type": "markdown",
   "metadata": {},
   "source": [
    "# Launching phase"
   ]
  },
  {
   "cell_type": "code",
   "execution_count": null,
   "metadata": {},
   "outputs": [],
   "source": []
  }
 ],
 "metadata": {
  "kaggle": {
   "accelerator": "none",
   "dataSources": [
    {
     "datasetId": 3530899,
     "sourceId": 6608554,
     "sourceType": "datasetVersion"
    }
   ],
   "dockerImageVersionId": 30527,
   "isGpuEnabled": false,
   "isInternetEnabled": false,
   "language": "python",
   "sourceType": "notebook"
  },
  "kernelspec": {
   "display_name": "Python 3 (ipykernel)",
   "language": "python",
   "name": "python3"
  },
  "language_info": {
   "codemirror_mode": {
    "name": "ipython",
    "version": 3
   },
   "file_extension": ".py",
   "mimetype": "text/x-python",
   "name": "python",
   "nbconvert_exporter": "python",
   "pygments_lexer": "ipython3",
   "version": "3.11.5"
  }
 },
 "nbformat": 4,
 "nbformat_minor": 4
}
